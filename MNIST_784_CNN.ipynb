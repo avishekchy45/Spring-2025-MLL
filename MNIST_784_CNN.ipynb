{
 "cells": [
  {
   "cell_type": "markdown",
   "id": "1411109c",
   "metadata": {
    "id": "qHQuMV6VWYru",
    "papermill": {
     "duration": 0.008404,
     "end_time": "2025-09-25T09:35:15.695575",
     "exception": false,
     "start_time": "2025-09-25T09:35:15.687171",
     "status": "completed"
    },
    "tags": []
   },
   "source": [
    "## Mount Drive"
   ]
  },
  {
   "cell_type": "code",
   "execution_count": 1,
   "id": "f5bd581a",
   "metadata": {
    "execution": {
     "iopub.execute_input": "2025-09-25T09:35:15.712486Z",
     "iopub.status.busy": "2025-09-25T09:35:15.712210Z",
     "iopub.status.idle": "2025-09-25T09:35:15.716453Z",
     "shell.execute_reply": "2025-09-25T09:35:15.715632Z"
    },
    "id": "zt98eHYUWV-2",
    "papermill": {
     "duration": 0.014658,
     "end_time": "2025-09-25T09:35:15.718153",
     "exception": false,
     "start_time": "2025-09-25T09:35:15.703495",
     "status": "completed"
    },
    "tags": []
   },
   "outputs": [],
   "source": [
    "# from google.colab import drive\n",
    "# drive.mount(\"/content/drive\")"
   ]
  },
  {
   "cell_type": "markdown",
   "id": "d0cb0274",
   "metadata": {
    "id": "Ud6hFF4rnhQK",
    "papermill": {
     "duration": 0.007695,
     "end_time": "2025-09-25T09:35:15.733661",
     "exception": false,
     "start_time": "2025-09-25T09:35:15.725966",
     "status": "completed"
    },
    "tags": []
   },
   "source": [
    "## Importing Packages"
   ]
  },
  {
   "cell_type": "code",
   "execution_count": 2,
   "id": "63584403",
   "metadata": {
    "execution": {
     "iopub.execute_input": "2025-09-25T09:35:15.750057Z",
     "iopub.status.busy": "2025-09-25T09:35:15.749825Z",
     "iopub.status.idle": "2025-09-25T09:35:15.753048Z",
     "shell.execute_reply": "2025-09-25T09:35:15.752336Z"
    },
    "papermill": {
     "duration": 0.013201,
     "end_time": "2025-09-25T09:35:15.754637",
     "exception": false,
     "start_time": "2025-09-25T09:35:15.741436",
     "status": "completed"
    },
    "tags": []
   },
   "outputs": [],
   "source": [
    "# pip install numpy==1.22"
   ]
  },
  {
   "cell_type": "code",
   "execution_count": 1,
   "id": "fb1d538e",
   "metadata": {
    "execution": {
     "iopub.execute_input": "2025-09-25T09:35:15.771672Z",
     "iopub.status.busy": "2025-09-25T09:35:15.771422Z",
     "iopub.status.idle": "2025-09-25T09:35:24.334489Z",
     "shell.execute_reply": "2025-09-25T09:35:24.333727Z"
    },
    "id": "RfU8VXwvngn0",
    "papermill": {
     "duration": 8.573414,
     "end_time": "2025-09-25T09:35:24.336472",
     "exception": false,
     "start_time": "2025-09-25T09:35:15.763058",
     "status": "completed"
    },
    "tags": []
   },
   "outputs": [],
   "source": [
    "# Fetching Dataset\n",
    "# from sklearn.datasets import fetch_openml\n",
    "\n",
    "# Processing Data\n",
    "import numpy as np, pandas as pd\n",
    "\n",
    "# Scaling Features\n",
    "from sklearn.preprocessing import MinMaxScaler\n",
    "\n",
    "# Binarizing Output\n",
    "from sklearn.preprocessing import LabelBinarizer\n",
    "\n",
    "# Spliting Train & Test Set\n",
    "from sklearn.model_selection import train_test_split\n",
    "import matplotlib.pyplot as plt\n",
    "\n",
    "# Image Augmentation\n",
    "from tensorflow.keras.preprocessing.image import ImageDataGenerator\n",
    "\n",
    "# Creating and Training a CNN Model\n",
    "from tensorflow.keras import layers, models\n",
    "from tensorflow.keras.callbacks import EarlyStopping"
   ]
  },
  {
   "cell_type": "markdown",
   "id": "c83c2ffd",
   "metadata": {
    "id": "DOoaGBDk-FU_",
    "papermill": {
     "duration": 0.007842,
     "end_time": "2025-09-25T09:35:24.353003",
     "exception": false,
     "start_time": "2025-09-25T09:35:24.345161",
     "status": "completed"
    },
    "tags": []
   },
   "source": [
    "## Fetching Dataset"
   ]
  },
  {
   "cell_type": "code",
   "execution_count": 4,
   "id": "35a08a65",
   "metadata": {
    "execution": {
     "iopub.execute_input": "2025-09-25T09:35:24.370438Z",
     "iopub.status.busy": "2025-09-25T09:35:24.369901Z",
     "iopub.status.idle": "2025-09-25T09:35:28.632157Z",
     "shell.execute_reply": "2025-09-25T09:35:28.631315Z"
    },
    "id": "_bPX1QuDWDmS",
    "papermill": {
     "duration": 4.273468,
     "end_time": "2025-09-25T09:35:28.634478",
     "exception": false,
     "start_time": "2025-09-25T09:35:24.361010",
     "status": "completed"
    },
    "tags": []
   },
   "outputs": [],
   "source": [
    "# X, y = fetch_openml(\"mnist_784\", version = 1, return_X_y = True, as_frame = False)\n",
    "# dataset_dir = \"Datasets/mnist/\"\n",
    "dataset_dir = \"/kaggle/input/mnist-784/mnist/\"\n",
    "dataset_train = pd.read_csv(dataset_dir + \"train.csv\")\n",
    "dataset_test = pd.read_csv(dataset_dir + \"test.csv\")\n",
    "# dataset_submission = pd.read_csv(dataset_dir + \"sample_submission.csv\")"
   ]
  },
  {
   "cell_type": "code",
   "execution_count": 5,
   "id": "48008970",
   "metadata": {
    "execution": {
     "iopub.execute_input": "2025-09-25T09:35:28.656307Z",
     "iopub.status.busy": "2025-09-25T09:35:28.656014Z",
     "iopub.status.idle": "2025-09-25T09:35:28.679754Z",
     "shell.execute_reply": "2025-09-25T09:35:28.679051Z"
    },
    "papermill": {
     "duration": 0.036101,
     "end_time": "2025-09-25T09:35:28.681695",
     "exception": false,
     "start_time": "2025-09-25T09:35:28.645594",
     "status": "completed"
    },
    "tags": []
   },
   "outputs": [
    {
     "data": {
      "text/html": [
       "<div>\n",
       "<style scoped>\n",
       "    .dataframe tbody tr th:only-of-type {\n",
       "        vertical-align: middle;\n",
       "    }\n",
       "\n",
       "    .dataframe tbody tr th {\n",
       "        vertical-align: top;\n",
       "    }\n",
       "\n",
       "    .dataframe thead th {\n",
       "        text-align: right;\n",
       "    }\n",
       "</style>\n",
       "<table border=\"1\" class=\"dataframe\">\n",
       "  <thead>\n",
       "    <tr style=\"text-align: right;\">\n",
       "      <th></th>\n",
       "      <th>label</th>\n",
       "      <th>pixel0</th>\n",
       "      <th>pixel1</th>\n",
       "      <th>pixel2</th>\n",
       "      <th>pixel3</th>\n",
       "      <th>pixel4</th>\n",
       "      <th>pixel5</th>\n",
       "      <th>pixel6</th>\n",
       "      <th>pixel7</th>\n",
       "      <th>pixel8</th>\n",
       "      <th>...</th>\n",
       "      <th>pixel774</th>\n",
       "      <th>pixel775</th>\n",
       "      <th>pixel776</th>\n",
       "      <th>pixel777</th>\n",
       "      <th>pixel778</th>\n",
       "      <th>pixel779</th>\n",
       "      <th>pixel780</th>\n",
       "      <th>pixel781</th>\n",
       "      <th>pixel782</th>\n",
       "      <th>pixel783</th>\n",
       "    </tr>\n",
       "  </thead>\n",
       "  <tbody>\n",
       "    <tr>\n",
       "      <th>0</th>\n",
       "      <td>1</td>\n",
       "      <td>0</td>\n",
       "      <td>0</td>\n",
       "      <td>0</td>\n",
       "      <td>0</td>\n",
       "      <td>0</td>\n",
       "      <td>0</td>\n",
       "      <td>0</td>\n",
       "      <td>0</td>\n",
       "      <td>0</td>\n",
       "      <td>...</td>\n",
       "      <td>0</td>\n",
       "      <td>0</td>\n",
       "      <td>0</td>\n",
       "      <td>0</td>\n",
       "      <td>0</td>\n",
       "      <td>0</td>\n",
       "      <td>0</td>\n",
       "      <td>0</td>\n",
       "      <td>0</td>\n",
       "      <td>0</td>\n",
       "    </tr>\n",
       "    <tr>\n",
       "      <th>1</th>\n",
       "      <td>0</td>\n",
       "      <td>0</td>\n",
       "      <td>0</td>\n",
       "      <td>0</td>\n",
       "      <td>0</td>\n",
       "      <td>0</td>\n",
       "      <td>0</td>\n",
       "      <td>0</td>\n",
       "      <td>0</td>\n",
       "      <td>0</td>\n",
       "      <td>...</td>\n",
       "      <td>0</td>\n",
       "      <td>0</td>\n",
       "      <td>0</td>\n",
       "      <td>0</td>\n",
       "      <td>0</td>\n",
       "      <td>0</td>\n",
       "      <td>0</td>\n",
       "      <td>0</td>\n",
       "      <td>0</td>\n",
       "      <td>0</td>\n",
       "    </tr>\n",
       "    <tr>\n",
       "      <th>2</th>\n",
       "      <td>1</td>\n",
       "      <td>0</td>\n",
       "      <td>0</td>\n",
       "      <td>0</td>\n",
       "      <td>0</td>\n",
       "      <td>0</td>\n",
       "      <td>0</td>\n",
       "      <td>0</td>\n",
       "      <td>0</td>\n",
       "      <td>0</td>\n",
       "      <td>...</td>\n",
       "      <td>0</td>\n",
       "      <td>0</td>\n",
       "      <td>0</td>\n",
       "      <td>0</td>\n",
       "      <td>0</td>\n",
       "      <td>0</td>\n",
       "      <td>0</td>\n",
       "      <td>0</td>\n",
       "      <td>0</td>\n",
       "      <td>0</td>\n",
       "    </tr>\n",
       "    <tr>\n",
       "      <th>3</th>\n",
       "      <td>4</td>\n",
       "      <td>0</td>\n",
       "      <td>0</td>\n",
       "      <td>0</td>\n",
       "      <td>0</td>\n",
       "      <td>0</td>\n",
       "      <td>0</td>\n",
       "      <td>0</td>\n",
       "      <td>0</td>\n",
       "      <td>0</td>\n",
       "      <td>...</td>\n",
       "      <td>0</td>\n",
       "      <td>0</td>\n",
       "      <td>0</td>\n",
       "      <td>0</td>\n",
       "      <td>0</td>\n",
       "      <td>0</td>\n",
       "      <td>0</td>\n",
       "      <td>0</td>\n",
       "      <td>0</td>\n",
       "      <td>0</td>\n",
       "    </tr>\n",
       "    <tr>\n",
       "      <th>4</th>\n",
       "      <td>0</td>\n",
       "      <td>0</td>\n",
       "      <td>0</td>\n",
       "      <td>0</td>\n",
       "      <td>0</td>\n",
       "      <td>0</td>\n",
       "      <td>0</td>\n",
       "      <td>0</td>\n",
       "      <td>0</td>\n",
       "      <td>0</td>\n",
       "      <td>...</td>\n",
       "      <td>0</td>\n",
       "      <td>0</td>\n",
       "      <td>0</td>\n",
       "      <td>0</td>\n",
       "      <td>0</td>\n",
       "      <td>0</td>\n",
       "      <td>0</td>\n",
       "      <td>0</td>\n",
       "      <td>0</td>\n",
       "      <td>0</td>\n",
       "    </tr>\n",
       "    <tr>\n",
       "      <th>...</th>\n",
       "      <td>...</td>\n",
       "      <td>...</td>\n",
       "      <td>...</td>\n",
       "      <td>...</td>\n",
       "      <td>...</td>\n",
       "      <td>...</td>\n",
       "      <td>...</td>\n",
       "      <td>...</td>\n",
       "      <td>...</td>\n",
       "      <td>...</td>\n",
       "      <td>...</td>\n",
       "      <td>...</td>\n",
       "      <td>...</td>\n",
       "      <td>...</td>\n",
       "      <td>...</td>\n",
       "      <td>...</td>\n",
       "      <td>...</td>\n",
       "      <td>...</td>\n",
       "      <td>...</td>\n",
       "      <td>...</td>\n",
       "      <td>...</td>\n",
       "    </tr>\n",
       "    <tr>\n",
       "      <th>41995</th>\n",
       "      <td>0</td>\n",
       "      <td>0</td>\n",
       "      <td>0</td>\n",
       "      <td>0</td>\n",
       "      <td>0</td>\n",
       "      <td>0</td>\n",
       "      <td>0</td>\n",
       "      <td>0</td>\n",
       "      <td>0</td>\n",
       "      <td>0</td>\n",
       "      <td>...</td>\n",
       "      <td>0</td>\n",
       "      <td>0</td>\n",
       "      <td>0</td>\n",
       "      <td>0</td>\n",
       "      <td>0</td>\n",
       "      <td>0</td>\n",
       "      <td>0</td>\n",
       "      <td>0</td>\n",
       "      <td>0</td>\n",
       "      <td>0</td>\n",
       "    </tr>\n",
       "    <tr>\n",
       "      <th>41996</th>\n",
       "      <td>1</td>\n",
       "      <td>0</td>\n",
       "      <td>0</td>\n",
       "      <td>0</td>\n",
       "      <td>0</td>\n",
       "      <td>0</td>\n",
       "      <td>0</td>\n",
       "      <td>0</td>\n",
       "      <td>0</td>\n",
       "      <td>0</td>\n",
       "      <td>...</td>\n",
       "      <td>0</td>\n",
       "      <td>0</td>\n",
       "      <td>0</td>\n",
       "      <td>0</td>\n",
       "      <td>0</td>\n",
       "      <td>0</td>\n",
       "      <td>0</td>\n",
       "      <td>0</td>\n",
       "      <td>0</td>\n",
       "      <td>0</td>\n",
       "    </tr>\n",
       "    <tr>\n",
       "      <th>41997</th>\n",
       "      <td>7</td>\n",
       "      <td>0</td>\n",
       "      <td>0</td>\n",
       "      <td>0</td>\n",
       "      <td>0</td>\n",
       "      <td>0</td>\n",
       "      <td>0</td>\n",
       "      <td>0</td>\n",
       "      <td>0</td>\n",
       "      <td>0</td>\n",
       "      <td>...</td>\n",
       "      <td>0</td>\n",
       "      <td>0</td>\n",
       "      <td>0</td>\n",
       "      <td>0</td>\n",
       "      <td>0</td>\n",
       "      <td>0</td>\n",
       "      <td>0</td>\n",
       "      <td>0</td>\n",
       "      <td>0</td>\n",
       "      <td>0</td>\n",
       "    </tr>\n",
       "    <tr>\n",
       "      <th>41998</th>\n",
       "      <td>6</td>\n",
       "      <td>0</td>\n",
       "      <td>0</td>\n",
       "      <td>0</td>\n",
       "      <td>0</td>\n",
       "      <td>0</td>\n",
       "      <td>0</td>\n",
       "      <td>0</td>\n",
       "      <td>0</td>\n",
       "      <td>0</td>\n",
       "      <td>...</td>\n",
       "      <td>0</td>\n",
       "      <td>0</td>\n",
       "      <td>0</td>\n",
       "      <td>0</td>\n",
       "      <td>0</td>\n",
       "      <td>0</td>\n",
       "      <td>0</td>\n",
       "      <td>0</td>\n",
       "      <td>0</td>\n",
       "      <td>0</td>\n",
       "    </tr>\n",
       "    <tr>\n",
       "      <th>41999</th>\n",
       "      <td>9</td>\n",
       "      <td>0</td>\n",
       "      <td>0</td>\n",
       "      <td>0</td>\n",
       "      <td>0</td>\n",
       "      <td>0</td>\n",
       "      <td>0</td>\n",
       "      <td>0</td>\n",
       "      <td>0</td>\n",
       "      <td>0</td>\n",
       "      <td>...</td>\n",
       "      <td>0</td>\n",
       "      <td>0</td>\n",
       "      <td>0</td>\n",
       "      <td>0</td>\n",
       "      <td>0</td>\n",
       "      <td>0</td>\n",
       "      <td>0</td>\n",
       "      <td>0</td>\n",
       "      <td>0</td>\n",
       "      <td>0</td>\n",
       "    </tr>\n",
       "  </tbody>\n",
       "</table>\n",
       "<p>42000 rows × 785 columns</p>\n",
       "</div>"
      ],
      "text/plain": [
       "       label  pixel0  pixel1  pixel2  pixel3  pixel4  pixel5  pixel6  pixel7  \\\n",
       "0          1       0       0       0       0       0       0       0       0   \n",
       "1          0       0       0       0       0       0       0       0       0   \n",
       "2          1       0       0       0       0       0       0       0       0   \n",
       "3          4       0       0       0       0       0       0       0       0   \n",
       "4          0       0       0       0       0       0       0       0       0   \n",
       "...      ...     ...     ...     ...     ...     ...     ...     ...     ...   \n",
       "41995      0       0       0       0       0       0       0       0       0   \n",
       "41996      1       0       0       0       0       0       0       0       0   \n",
       "41997      7       0       0       0       0       0       0       0       0   \n",
       "41998      6       0       0       0       0       0       0       0       0   \n",
       "41999      9       0       0       0       0       0       0       0       0   \n",
       "\n",
       "       pixel8  ...  pixel774  pixel775  pixel776  pixel777  pixel778  \\\n",
       "0           0  ...         0         0         0         0         0   \n",
       "1           0  ...         0         0         0         0         0   \n",
       "2           0  ...         0         0         0         0         0   \n",
       "3           0  ...         0         0         0         0         0   \n",
       "4           0  ...         0         0         0         0         0   \n",
       "...       ...  ...       ...       ...       ...       ...       ...   \n",
       "41995       0  ...         0         0         0         0         0   \n",
       "41996       0  ...         0         0         0         0         0   \n",
       "41997       0  ...         0         0         0         0         0   \n",
       "41998       0  ...         0         0         0         0         0   \n",
       "41999       0  ...         0         0         0         0         0   \n",
       "\n",
       "       pixel779  pixel780  pixel781  pixel782  pixel783  \n",
       "0             0         0         0         0         0  \n",
       "1             0         0         0         0         0  \n",
       "2             0         0         0         0         0  \n",
       "3             0         0         0         0         0  \n",
       "4             0         0         0         0         0  \n",
       "...         ...       ...       ...       ...       ...  \n",
       "41995         0         0         0         0         0  \n",
       "41996         0         0         0         0         0  \n",
       "41997         0         0         0         0         0  \n",
       "41998         0         0         0         0         0  \n",
       "41999         0         0         0         0         0  \n",
       "\n",
       "[42000 rows x 785 columns]"
      ]
     },
     "execution_count": 5,
     "metadata": {},
     "output_type": "execute_result"
    }
   ],
   "source": [
    "dataset_train"
   ]
  },
  {
   "cell_type": "code",
   "execution_count": 6,
   "id": "58ab3b7f",
   "metadata": {
    "execution": {
     "iopub.execute_input": "2025-09-25T09:35:28.699874Z",
     "iopub.status.busy": "2025-09-25T09:35:28.699637Z",
     "iopub.status.idle": "2025-09-25T09:35:28.709774Z",
     "shell.execute_reply": "2025-09-25T09:35:28.708991Z"
    },
    "papermill": {
     "duration": 0.021133,
     "end_time": "2025-09-25T09:35:28.711454",
     "exception": false,
     "start_time": "2025-09-25T09:35:28.690321",
     "status": "completed"
    },
    "tags": []
   },
   "outputs": [
    {
     "data": {
      "text/plain": [
       "1    4684\n",
       "7    4401\n",
       "3    4351\n",
       "9    4188\n",
       "2    4177\n",
       "6    4137\n",
       "0    4132\n",
       "4    4072\n",
       "8    4063\n",
       "5    3795\n",
       "Name: label, dtype: int64"
      ]
     },
     "execution_count": 6,
     "metadata": {},
     "output_type": "execute_result"
    }
   ],
   "source": [
    "dataset_train['label'].value_counts()"
   ]
  },
  {
   "cell_type": "code",
   "execution_count": 7,
   "id": "859428c2",
   "metadata": {
    "execution": {
     "iopub.execute_input": "2025-09-25T09:35:28.729725Z",
     "iopub.status.busy": "2025-09-25T09:35:28.729444Z",
     "iopub.status.idle": "2025-09-25T09:35:28.735993Z",
     "shell.execute_reply": "2025-09-25T09:35:28.735347Z"
    },
    "papermill": {
     "duration": 0.01734,
     "end_time": "2025-09-25T09:35:28.737508",
     "exception": false,
     "start_time": "2025-09-25T09:35:28.720168",
     "status": "completed"
    },
    "tags": []
   },
   "outputs": [
    {
     "data": {
      "text/plain": [
       "1    3193\n",
       "7    2892\n",
       "2    2813\n",
       "3    2790\n",
       "0    2771\n",
       "9    2770\n",
       "8    2762\n",
       "4    2752\n",
       "6    2739\n",
       "5    2518\n",
       "Name: label, dtype: int64"
      ]
     },
     "execution_count": 7,
     "metadata": {},
     "output_type": "execute_result"
    }
   ],
   "source": [
    "dataset_test['label'].value_counts()"
   ]
  },
  {
   "cell_type": "code",
   "execution_count": 8,
   "id": "5a9be568",
   "metadata": {
    "execution": {
     "iopub.execute_input": "2025-09-25T09:35:28.755862Z",
     "iopub.status.busy": "2025-09-25T09:35:28.755541Z",
     "iopub.status.idle": "2025-09-25T09:35:28.772388Z",
     "shell.execute_reply": "2025-09-25T09:35:28.771554Z"
    },
    "papermill": {
     "duration": 0.028145,
     "end_time": "2025-09-25T09:35:28.774107",
     "exception": false,
     "start_time": "2025-09-25T09:35:28.745962",
     "status": "completed"
    },
    "tags": []
   },
   "outputs": [
    {
     "data": {
      "text/html": [
       "<div>\n",
       "<style scoped>\n",
       "    .dataframe tbody tr th:only-of-type {\n",
       "        vertical-align: middle;\n",
       "    }\n",
       "\n",
       "    .dataframe tbody tr th {\n",
       "        vertical-align: top;\n",
       "    }\n",
       "\n",
       "    .dataframe thead th {\n",
       "        text-align: right;\n",
       "    }\n",
       "</style>\n",
       "<table border=\"1\" class=\"dataframe\">\n",
       "  <thead>\n",
       "    <tr style=\"text-align: right;\">\n",
       "      <th></th>\n",
       "      <th>label</th>\n",
       "      <th>pixel0</th>\n",
       "      <th>pixel1</th>\n",
       "      <th>pixel2</th>\n",
       "      <th>pixel3</th>\n",
       "      <th>pixel4</th>\n",
       "      <th>pixel5</th>\n",
       "      <th>pixel6</th>\n",
       "      <th>pixel7</th>\n",
       "      <th>pixel8</th>\n",
       "      <th>...</th>\n",
       "      <th>pixel774</th>\n",
       "      <th>pixel775</th>\n",
       "      <th>pixel776</th>\n",
       "      <th>pixel777</th>\n",
       "      <th>pixel778</th>\n",
       "      <th>pixel779</th>\n",
       "      <th>pixel780</th>\n",
       "      <th>pixel781</th>\n",
       "      <th>pixel782</th>\n",
       "      <th>pixel783</th>\n",
       "    </tr>\n",
       "  </thead>\n",
       "  <tbody>\n",
       "    <tr>\n",
       "      <th>0</th>\n",
       "      <td>0</td>\n",
       "      <td>0</td>\n",
       "      <td>0</td>\n",
       "      <td>0</td>\n",
       "      <td>0</td>\n",
       "      <td>0</td>\n",
       "      <td>0</td>\n",
       "      <td>0</td>\n",
       "      <td>0</td>\n",
       "      <td>0</td>\n",
       "      <td>...</td>\n",
       "      <td>0</td>\n",
       "      <td>0</td>\n",
       "      <td>0</td>\n",
       "      <td>0</td>\n",
       "      <td>0</td>\n",
       "      <td>0</td>\n",
       "      <td>0</td>\n",
       "      <td>0</td>\n",
       "      <td>0</td>\n",
       "      <td>0</td>\n",
       "    </tr>\n",
       "    <tr>\n",
       "      <th>1</th>\n",
       "      <td>0</td>\n",
       "      <td>0</td>\n",
       "      <td>0</td>\n",
       "      <td>0</td>\n",
       "      <td>0</td>\n",
       "      <td>0</td>\n",
       "      <td>0</td>\n",
       "      <td>0</td>\n",
       "      <td>0</td>\n",
       "      <td>0</td>\n",
       "      <td>...</td>\n",
       "      <td>0</td>\n",
       "      <td>0</td>\n",
       "      <td>0</td>\n",
       "      <td>0</td>\n",
       "      <td>0</td>\n",
       "      <td>0</td>\n",
       "      <td>0</td>\n",
       "      <td>0</td>\n",
       "      <td>0</td>\n",
       "      <td>0</td>\n",
       "    </tr>\n",
       "    <tr>\n",
       "      <th>2</th>\n",
       "      <td>0</td>\n",
       "      <td>0</td>\n",
       "      <td>0</td>\n",
       "      <td>0</td>\n",
       "      <td>0</td>\n",
       "      <td>0</td>\n",
       "      <td>0</td>\n",
       "      <td>0</td>\n",
       "      <td>0</td>\n",
       "      <td>0</td>\n",
       "      <td>...</td>\n",
       "      <td>0</td>\n",
       "      <td>0</td>\n",
       "      <td>0</td>\n",
       "      <td>0</td>\n",
       "      <td>0</td>\n",
       "      <td>0</td>\n",
       "      <td>0</td>\n",
       "      <td>0</td>\n",
       "      <td>0</td>\n",
       "      <td>0</td>\n",
       "    </tr>\n",
       "    <tr>\n",
       "      <th>3</th>\n",
       "      <td>0</td>\n",
       "      <td>0</td>\n",
       "      <td>0</td>\n",
       "      <td>0</td>\n",
       "      <td>0</td>\n",
       "      <td>0</td>\n",
       "      <td>0</td>\n",
       "      <td>0</td>\n",
       "      <td>0</td>\n",
       "      <td>0</td>\n",
       "      <td>...</td>\n",
       "      <td>0</td>\n",
       "      <td>0</td>\n",
       "      <td>0</td>\n",
       "      <td>0</td>\n",
       "      <td>0</td>\n",
       "      <td>0</td>\n",
       "      <td>0</td>\n",
       "      <td>0</td>\n",
       "      <td>0</td>\n",
       "      <td>0</td>\n",
       "    </tr>\n",
       "    <tr>\n",
       "      <th>4</th>\n",
       "      <td>0</td>\n",
       "      <td>0</td>\n",
       "      <td>0</td>\n",
       "      <td>0</td>\n",
       "      <td>0</td>\n",
       "      <td>0</td>\n",
       "      <td>0</td>\n",
       "      <td>0</td>\n",
       "      <td>0</td>\n",
       "      <td>0</td>\n",
       "      <td>...</td>\n",
       "      <td>0</td>\n",
       "      <td>0</td>\n",
       "      <td>0</td>\n",
       "      <td>0</td>\n",
       "      <td>0</td>\n",
       "      <td>0</td>\n",
       "      <td>0</td>\n",
       "      <td>0</td>\n",
       "      <td>0</td>\n",
       "      <td>0</td>\n",
       "    </tr>\n",
       "    <tr>\n",
       "      <th>...</th>\n",
       "      <td>...</td>\n",
       "      <td>...</td>\n",
       "      <td>...</td>\n",
       "      <td>...</td>\n",
       "      <td>...</td>\n",
       "      <td>...</td>\n",
       "      <td>...</td>\n",
       "      <td>...</td>\n",
       "      <td>...</td>\n",
       "      <td>...</td>\n",
       "      <td>...</td>\n",
       "      <td>...</td>\n",
       "      <td>...</td>\n",
       "      <td>...</td>\n",
       "      <td>...</td>\n",
       "      <td>...</td>\n",
       "      <td>...</td>\n",
       "      <td>...</td>\n",
       "      <td>...</td>\n",
       "      <td>...</td>\n",
       "      <td>...</td>\n",
       "    </tr>\n",
       "    <tr>\n",
       "      <th>27995</th>\n",
       "      <td>9</td>\n",
       "      <td>0</td>\n",
       "      <td>0</td>\n",
       "      <td>0</td>\n",
       "      <td>0</td>\n",
       "      <td>0</td>\n",
       "      <td>0</td>\n",
       "      <td>0</td>\n",
       "      <td>0</td>\n",
       "      <td>0</td>\n",
       "      <td>...</td>\n",
       "      <td>0</td>\n",
       "      <td>0</td>\n",
       "      <td>0</td>\n",
       "      <td>0</td>\n",
       "      <td>0</td>\n",
       "      <td>0</td>\n",
       "      <td>0</td>\n",
       "      <td>0</td>\n",
       "      <td>0</td>\n",
       "      <td>0</td>\n",
       "    </tr>\n",
       "    <tr>\n",
       "      <th>27996</th>\n",
       "      <td>9</td>\n",
       "      <td>0</td>\n",
       "      <td>0</td>\n",
       "      <td>0</td>\n",
       "      <td>0</td>\n",
       "      <td>0</td>\n",
       "      <td>0</td>\n",
       "      <td>0</td>\n",
       "      <td>0</td>\n",
       "      <td>0</td>\n",
       "      <td>...</td>\n",
       "      <td>0</td>\n",
       "      <td>0</td>\n",
       "      <td>0</td>\n",
       "      <td>0</td>\n",
       "      <td>0</td>\n",
       "      <td>0</td>\n",
       "      <td>0</td>\n",
       "      <td>0</td>\n",
       "      <td>0</td>\n",
       "      <td>0</td>\n",
       "    </tr>\n",
       "    <tr>\n",
       "      <th>27997</th>\n",
       "      <td>9</td>\n",
       "      <td>0</td>\n",
       "      <td>0</td>\n",
       "      <td>0</td>\n",
       "      <td>0</td>\n",
       "      <td>0</td>\n",
       "      <td>0</td>\n",
       "      <td>0</td>\n",
       "      <td>0</td>\n",
       "      <td>0</td>\n",
       "      <td>...</td>\n",
       "      <td>0</td>\n",
       "      <td>0</td>\n",
       "      <td>0</td>\n",
       "      <td>0</td>\n",
       "      <td>0</td>\n",
       "      <td>0</td>\n",
       "      <td>0</td>\n",
       "      <td>0</td>\n",
       "      <td>0</td>\n",
       "      <td>0</td>\n",
       "    </tr>\n",
       "    <tr>\n",
       "      <th>27998</th>\n",
       "      <td>9</td>\n",
       "      <td>0</td>\n",
       "      <td>0</td>\n",
       "      <td>0</td>\n",
       "      <td>0</td>\n",
       "      <td>0</td>\n",
       "      <td>0</td>\n",
       "      <td>0</td>\n",
       "      <td>0</td>\n",
       "      <td>0</td>\n",
       "      <td>...</td>\n",
       "      <td>0</td>\n",
       "      <td>0</td>\n",
       "      <td>0</td>\n",
       "      <td>0</td>\n",
       "      <td>0</td>\n",
       "      <td>0</td>\n",
       "      <td>0</td>\n",
       "      <td>0</td>\n",
       "      <td>0</td>\n",
       "      <td>0</td>\n",
       "    </tr>\n",
       "    <tr>\n",
       "      <th>27999</th>\n",
       "      <td>9</td>\n",
       "      <td>0</td>\n",
       "      <td>0</td>\n",
       "      <td>0</td>\n",
       "      <td>0</td>\n",
       "      <td>0</td>\n",
       "      <td>0</td>\n",
       "      <td>0</td>\n",
       "      <td>0</td>\n",
       "      <td>0</td>\n",
       "      <td>...</td>\n",
       "      <td>0</td>\n",
       "      <td>0</td>\n",
       "      <td>0</td>\n",
       "      <td>0</td>\n",
       "      <td>0</td>\n",
       "      <td>0</td>\n",
       "      <td>0</td>\n",
       "      <td>0</td>\n",
       "      <td>0</td>\n",
       "      <td>0</td>\n",
       "    </tr>\n",
       "  </tbody>\n",
       "</table>\n",
       "<p>28000 rows × 785 columns</p>\n",
       "</div>"
      ],
      "text/plain": [
       "       label  pixel0  pixel1  pixel2  pixel3  pixel4  pixel5  pixel6  pixel7  \\\n",
       "0          0       0       0       0       0       0       0       0       0   \n",
       "1          0       0       0       0       0       0       0       0       0   \n",
       "2          0       0       0       0       0       0       0       0       0   \n",
       "3          0       0       0       0       0       0       0       0       0   \n",
       "4          0       0       0       0       0       0       0       0       0   \n",
       "...      ...     ...     ...     ...     ...     ...     ...     ...     ...   \n",
       "27995      9       0       0       0       0       0       0       0       0   \n",
       "27996      9       0       0       0       0       0       0       0       0   \n",
       "27997      9       0       0       0       0       0       0       0       0   \n",
       "27998      9       0       0       0       0       0       0       0       0   \n",
       "27999      9       0       0       0       0       0       0       0       0   \n",
       "\n",
       "       pixel8  ...  pixel774  pixel775  pixel776  pixel777  pixel778  \\\n",
       "0           0  ...         0         0         0         0         0   \n",
       "1           0  ...         0         0         0         0         0   \n",
       "2           0  ...         0         0         0         0         0   \n",
       "3           0  ...         0         0         0         0         0   \n",
       "4           0  ...         0         0         0         0         0   \n",
       "...       ...  ...       ...       ...       ...       ...       ...   \n",
       "27995       0  ...         0         0         0         0         0   \n",
       "27996       0  ...         0         0         0         0         0   \n",
       "27997       0  ...         0         0         0         0         0   \n",
       "27998       0  ...         0         0         0         0         0   \n",
       "27999       0  ...         0         0         0         0         0   \n",
       "\n",
       "       pixel779  pixel780  pixel781  pixel782  pixel783  \n",
       "0             0         0         0         0         0  \n",
       "1             0         0         0         0         0  \n",
       "2             0         0         0         0         0  \n",
       "3             0         0         0         0         0  \n",
       "4             0         0         0         0         0  \n",
       "...         ...       ...       ...       ...       ...  \n",
       "27995         0         0         0         0         0  \n",
       "27996         0         0         0         0         0  \n",
       "27997         0         0         0         0         0  \n",
       "27998         0         0         0         0         0  \n",
       "27999         0         0         0         0         0  \n",
       "\n",
       "[28000 rows x 785 columns]"
      ]
     },
     "execution_count": 8,
     "metadata": {},
     "output_type": "execute_result"
    }
   ],
   "source": [
    "dataset_test"
   ]
  },
  {
   "cell_type": "code",
   "execution_count": 9,
   "id": "8445c713",
   "metadata": {
    "execution": {
     "iopub.execute_input": "2025-09-25T09:35:28.793505Z",
     "iopub.status.busy": "2025-09-25T09:35:28.793231Z",
     "iopub.status.idle": "2025-09-25T09:35:28.799976Z",
     "shell.execute_reply": "2025-09-25T09:35:28.799074Z"
    },
    "papermill": {
     "duration": 0.018545,
     "end_time": "2025-09-25T09:35:28.801663",
     "exception": false,
     "start_time": "2025-09-25T09:35:28.783118",
     "status": "completed"
    },
    "tags": []
   },
   "outputs": [
    {
     "data": {
      "text/plain": [
       "1    3193\n",
       "7    2892\n",
       "2    2813\n",
       "3    2790\n",
       "0    2771\n",
       "9    2770\n",
       "8    2762\n",
       "4    2752\n",
       "6    2739\n",
       "5    2518\n",
       "Name: label, dtype: int64"
      ]
     },
     "execution_count": 9,
     "metadata": {},
     "output_type": "execute_result"
    }
   ],
   "source": [
    "dataset_test['label'].value_counts()"
   ]
  },
  {
   "cell_type": "code",
   "execution_count": 10,
   "id": "9391e7b8",
   "metadata": {
    "execution": {
     "iopub.execute_input": "2025-09-25T09:35:28.820937Z",
     "iopub.status.busy": "2025-09-25T09:35:28.820662Z",
     "iopub.status.idle": "2025-09-25T09:35:30.988260Z",
     "shell.execute_reply": "2025-09-25T09:35:30.987302Z"
    },
    "papermill": {
     "duration": 2.179177,
     "end_time": "2025-09-25T09:35:30.990157",
     "exception": false,
     "start_time": "2025-09-25T09:35:28.810980",
     "status": "completed"
    },
    "tags": []
   },
   "outputs": [
    {
     "data": {
      "text/html": [
       "<div>\n",
       "<style scoped>\n",
       "    .dataframe tbody tr th:only-of-type {\n",
       "        vertical-align: middle;\n",
       "    }\n",
       "\n",
       "    .dataframe tbody tr th {\n",
       "        vertical-align: top;\n",
       "    }\n",
       "\n",
       "    .dataframe thead th {\n",
       "        text-align: right;\n",
       "    }\n",
       "</style>\n",
       "<table border=\"1\" class=\"dataframe\">\n",
       "  <thead>\n",
       "    <tr style=\"text-align: right;\">\n",
       "      <th></th>\n",
       "      <th>label</th>\n",
       "      <th>pixel0</th>\n",
       "      <th>pixel1</th>\n",
       "      <th>pixel2</th>\n",
       "      <th>pixel3</th>\n",
       "      <th>pixel4</th>\n",
       "      <th>pixel5</th>\n",
       "      <th>pixel6</th>\n",
       "      <th>pixel7</th>\n",
       "      <th>pixel8</th>\n",
       "      <th>...</th>\n",
       "      <th>pixel774</th>\n",
       "      <th>pixel775</th>\n",
       "      <th>pixel776</th>\n",
       "      <th>pixel777</th>\n",
       "      <th>pixel778</th>\n",
       "      <th>pixel779</th>\n",
       "      <th>pixel780</th>\n",
       "      <th>pixel781</th>\n",
       "      <th>pixel782</th>\n",
       "      <th>pixel783</th>\n",
       "    </tr>\n",
       "  </thead>\n",
       "  <tbody>\n",
       "    <tr>\n",
       "      <th>count</th>\n",
       "      <td>42000.000000</td>\n",
       "      <td>42000.0</td>\n",
       "      <td>42000.0</td>\n",
       "      <td>42000.0</td>\n",
       "      <td>42000.0</td>\n",
       "      <td>42000.0</td>\n",
       "      <td>42000.0</td>\n",
       "      <td>42000.0</td>\n",
       "      <td>42000.0</td>\n",
       "      <td>42000.0</td>\n",
       "      <td>...</td>\n",
       "      <td>42000.000000</td>\n",
       "      <td>42000.000000</td>\n",
       "      <td>42000.000000</td>\n",
       "      <td>42000.00000</td>\n",
       "      <td>42000.000000</td>\n",
       "      <td>42000.000000</td>\n",
       "      <td>42000.0</td>\n",
       "      <td>42000.0</td>\n",
       "      <td>42000.0</td>\n",
       "      <td>42000.0</td>\n",
       "    </tr>\n",
       "    <tr>\n",
       "      <th>mean</th>\n",
       "      <td>4.456643</td>\n",
       "      <td>0.0</td>\n",
       "      <td>0.0</td>\n",
       "      <td>0.0</td>\n",
       "      <td>0.0</td>\n",
       "      <td>0.0</td>\n",
       "      <td>0.0</td>\n",
       "      <td>0.0</td>\n",
       "      <td>0.0</td>\n",
       "      <td>0.0</td>\n",
       "      <td>...</td>\n",
       "      <td>0.219286</td>\n",
       "      <td>0.117095</td>\n",
       "      <td>0.059024</td>\n",
       "      <td>0.02019</td>\n",
       "      <td>0.017238</td>\n",
       "      <td>0.002857</td>\n",
       "      <td>0.0</td>\n",
       "      <td>0.0</td>\n",
       "      <td>0.0</td>\n",
       "      <td>0.0</td>\n",
       "    </tr>\n",
       "    <tr>\n",
       "      <th>std</th>\n",
       "      <td>2.887730</td>\n",
       "      <td>0.0</td>\n",
       "      <td>0.0</td>\n",
       "      <td>0.0</td>\n",
       "      <td>0.0</td>\n",
       "      <td>0.0</td>\n",
       "      <td>0.0</td>\n",
       "      <td>0.0</td>\n",
       "      <td>0.0</td>\n",
       "      <td>0.0</td>\n",
       "      <td>...</td>\n",
       "      <td>6.312890</td>\n",
       "      <td>4.633819</td>\n",
       "      <td>3.274488</td>\n",
       "      <td>1.75987</td>\n",
       "      <td>1.894498</td>\n",
       "      <td>0.414264</td>\n",
       "      <td>0.0</td>\n",
       "      <td>0.0</td>\n",
       "      <td>0.0</td>\n",
       "      <td>0.0</td>\n",
       "    </tr>\n",
       "    <tr>\n",
       "      <th>min</th>\n",
       "      <td>0.000000</td>\n",
       "      <td>0.0</td>\n",
       "      <td>0.0</td>\n",
       "      <td>0.0</td>\n",
       "      <td>0.0</td>\n",
       "      <td>0.0</td>\n",
       "      <td>0.0</td>\n",
       "      <td>0.0</td>\n",
       "      <td>0.0</td>\n",
       "      <td>0.0</td>\n",
       "      <td>...</td>\n",
       "      <td>0.000000</td>\n",
       "      <td>0.000000</td>\n",
       "      <td>0.000000</td>\n",
       "      <td>0.00000</td>\n",
       "      <td>0.000000</td>\n",
       "      <td>0.000000</td>\n",
       "      <td>0.0</td>\n",
       "      <td>0.0</td>\n",
       "      <td>0.0</td>\n",
       "      <td>0.0</td>\n",
       "    </tr>\n",
       "    <tr>\n",
       "      <th>25%</th>\n",
       "      <td>2.000000</td>\n",
       "      <td>0.0</td>\n",
       "      <td>0.0</td>\n",
       "      <td>0.0</td>\n",
       "      <td>0.0</td>\n",
       "      <td>0.0</td>\n",
       "      <td>0.0</td>\n",
       "      <td>0.0</td>\n",
       "      <td>0.0</td>\n",
       "      <td>0.0</td>\n",
       "      <td>...</td>\n",
       "      <td>0.000000</td>\n",
       "      <td>0.000000</td>\n",
       "      <td>0.000000</td>\n",
       "      <td>0.00000</td>\n",
       "      <td>0.000000</td>\n",
       "      <td>0.000000</td>\n",
       "      <td>0.0</td>\n",
       "      <td>0.0</td>\n",
       "      <td>0.0</td>\n",
       "      <td>0.0</td>\n",
       "    </tr>\n",
       "    <tr>\n",
       "      <th>50%</th>\n",
       "      <td>4.000000</td>\n",
       "      <td>0.0</td>\n",
       "      <td>0.0</td>\n",
       "      <td>0.0</td>\n",
       "      <td>0.0</td>\n",
       "      <td>0.0</td>\n",
       "      <td>0.0</td>\n",
       "      <td>0.0</td>\n",
       "      <td>0.0</td>\n",
       "      <td>0.0</td>\n",
       "      <td>...</td>\n",
       "      <td>0.000000</td>\n",
       "      <td>0.000000</td>\n",
       "      <td>0.000000</td>\n",
       "      <td>0.00000</td>\n",
       "      <td>0.000000</td>\n",
       "      <td>0.000000</td>\n",
       "      <td>0.0</td>\n",
       "      <td>0.0</td>\n",
       "      <td>0.0</td>\n",
       "      <td>0.0</td>\n",
       "    </tr>\n",
       "    <tr>\n",
       "      <th>75%</th>\n",
       "      <td>7.000000</td>\n",
       "      <td>0.0</td>\n",
       "      <td>0.0</td>\n",
       "      <td>0.0</td>\n",
       "      <td>0.0</td>\n",
       "      <td>0.0</td>\n",
       "      <td>0.0</td>\n",
       "      <td>0.0</td>\n",
       "      <td>0.0</td>\n",
       "      <td>0.0</td>\n",
       "      <td>...</td>\n",
       "      <td>0.000000</td>\n",
       "      <td>0.000000</td>\n",
       "      <td>0.000000</td>\n",
       "      <td>0.00000</td>\n",
       "      <td>0.000000</td>\n",
       "      <td>0.000000</td>\n",
       "      <td>0.0</td>\n",
       "      <td>0.0</td>\n",
       "      <td>0.0</td>\n",
       "      <td>0.0</td>\n",
       "    </tr>\n",
       "    <tr>\n",
       "      <th>max</th>\n",
       "      <td>9.000000</td>\n",
       "      <td>0.0</td>\n",
       "      <td>0.0</td>\n",
       "      <td>0.0</td>\n",
       "      <td>0.0</td>\n",
       "      <td>0.0</td>\n",
       "      <td>0.0</td>\n",
       "      <td>0.0</td>\n",
       "      <td>0.0</td>\n",
       "      <td>0.0</td>\n",
       "      <td>...</td>\n",
       "      <td>254.000000</td>\n",
       "      <td>254.000000</td>\n",
       "      <td>253.000000</td>\n",
       "      <td>253.00000</td>\n",
       "      <td>254.000000</td>\n",
       "      <td>62.000000</td>\n",
       "      <td>0.0</td>\n",
       "      <td>0.0</td>\n",
       "      <td>0.0</td>\n",
       "      <td>0.0</td>\n",
       "    </tr>\n",
       "  </tbody>\n",
       "</table>\n",
       "<p>8 rows × 785 columns</p>\n",
       "</div>"
      ],
      "text/plain": [
       "              label   pixel0   pixel1   pixel2   pixel3   pixel4   pixel5  \\\n",
       "count  42000.000000  42000.0  42000.0  42000.0  42000.0  42000.0  42000.0   \n",
       "mean       4.456643      0.0      0.0      0.0      0.0      0.0      0.0   \n",
       "std        2.887730      0.0      0.0      0.0      0.0      0.0      0.0   \n",
       "min        0.000000      0.0      0.0      0.0      0.0      0.0      0.0   \n",
       "25%        2.000000      0.0      0.0      0.0      0.0      0.0      0.0   \n",
       "50%        4.000000      0.0      0.0      0.0      0.0      0.0      0.0   \n",
       "75%        7.000000      0.0      0.0      0.0      0.0      0.0      0.0   \n",
       "max        9.000000      0.0      0.0      0.0      0.0      0.0      0.0   \n",
       "\n",
       "        pixel6   pixel7   pixel8  ...      pixel774      pixel775  \\\n",
       "count  42000.0  42000.0  42000.0  ...  42000.000000  42000.000000   \n",
       "mean       0.0      0.0      0.0  ...      0.219286      0.117095   \n",
       "std        0.0      0.0      0.0  ...      6.312890      4.633819   \n",
       "min        0.0      0.0      0.0  ...      0.000000      0.000000   \n",
       "25%        0.0      0.0      0.0  ...      0.000000      0.000000   \n",
       "50%        0.0      0.0      0.0  ...      0.000000      0.000000   \n",
       "75%        0.0      0.0      0.0  ...      0.000000      0.000000   \n",
       "max        0.0      0.0      0.0  ...    254.000000    254.000000   \n",
       "\n",
       "           pixel776     pixel777      pixel778      pixel779  pixel780  \\\n",
       "count  42000.000000  42000.00000  42000.000000  42000.000000   42000.0   \n",
       "mean       0.059024      0.02019      0.017238      0.002857       0.0   \n",
       "std        3.274488      1.75987      1.894498      0.414264       0.0   \n",
       "min        0.000000      0.00000      0.000000      0.000000       0.0   \n",
       "25%        0.000000      0.00000      0.000000      0.000000       0.0   \n",
       "50%        0.000000      0.00000      0.000000      0.000000       0.0   \n",
       "75%        0.000000      0.00000      0.000000      0.000000       0.0   \n",
       "max      253.000000    253.00000    254.000000     62.000000       0.0   \n",
       "\n",
       "       pixel781  pixel782  pixel783  \n",
       "count   42000.0   42000.0   42000.0  \n",
       "mean        0.0       0.0       0.0  \n",
       "std         0.0       0.0       0.0  \n",
       "min         0.0       0.0       0.0  \n",
       "25%         0.0       0.0       0.0  \n",
       "50%         0.0       0.0       0.0  \n",
       "75%         0.0       0.0       0.0  \n",
       "max         0.0       0.0       0.0  \n",
       "\n",
       "[8 rows x 785 columns]"
      ]
     },
     "execution_count": 10,
     "metadata": {},
     "output_type": "execute_result"
    }
   ],
   "source": [
    "dataset_train.describe()"
   ]
  },
  {
   "cell_type": "code",
   "execution_count": 11,
   "id": "c927f6a0",
   "metadata": {
    "execution": {
     "iopub.execute_input": "2025-09-25T09:35:31.015739Z",
     "iopub.status.busy": "2025-09-25T09:35:31.015347Z",
     "iopub.status.idle": "2025-09-25T09:35:32.731295Z",
     "shell.execute_reply": "2025-09-25T09:35:32.730393Z"
    },
    "papermill": {
     "duration": 1.731082,
     "end_time": "2025-09-25T09:35:32.732995",
     "exception": false,
     "start_time": "2025-09-25T09:35:31.001913",
     "status": "completed"
    },
    "tags": []
   },
   "outputs": [
    {
     "data": {
      "text/html": [
       "<div>\n",
       "<style scoped>\n",
       "    .dataframe tbody tr th:only-of-type {\n",
       "        vertical-align: middle;\n",
       "    }\n",
       "\n",
       "    .dataframe tbody tr th {\n",
       "        vertical-align: top;\n",
       "    }\n",
       "\n",
       "    .dataframe thead th {\n",
       "        text-align: right;\n",
       "    }\n",
       "</style>\n",
       "<table border=\"1\" class=\"dataframe\">\n",
       "  <thead>\n",
       "    <tr style=\"text-align: right;\">\n",
       "      <th></th>\n",
       "      <th>label</th>\n",
       "      <th>pixel0</th>\n",
       "      <th>pixel1</th>\n",
       "      <th>pixel2</th>\n",
       "      <th>pixel3</th>\n",
       "      <th>pixel4</th>\n",
       "      <th>pixel5</th>\n",
       "      <th>pixel6</th>\n",
       "      <th>pixel7</th>\n",
       "      <th>pixel8</th>\n",
       "      <th>...</th>\n",
       "      <th>pixel774</th>\n",
       "      <th>pixel775</th>\n",
       "      <th>pixel776</th>\n",
       "      <th>pixel777</th>\n",
       "      <th>pixel778</th>\n",
       "      <th>pixel779</th>\n",
       "      <th>pixel780</th>\n",
       "      <th>pixel781</th>\n",
       "      <th>pixel782</th>\n",
       "      <th>pixel783</th>\n",
       "    </tr>\n",
       "  </thead>\n",
       "  <tbody>\n",
       "    <tr>\n",
       "      <th>count</th>\n",
       "      <td>28000.000000</td>\n",
       "      <td>28000.0</td>\n",
       "      <td>28000.0</td>\n",
       "      <td>28000.0</td>\n",
       "      <td>28000.0</td>\n",
       "      <td>28000.0</td>\n",
       "      <td>28000.0</td>\n",
       "      <td>28000.0</td>\n",
       "      <td>28000.0</td>\n",
       "      <td>28000.0</td>\n",
       "      <td>...</td>\n",
       "      <td>28000.000000</td>\n",
       "      <td>28000.000000</td>\n",
       "      <td>28000.000000</td>\n",
       "      <td>28000.000000</td>\n",
       "      <td>28000.000000</td>\n",
       "      <td>28000.0</td>\n",
       "      <td>28000.0</td>\n",
       "      <td>28000.0</td>\n",
       "      <td>28000.0</td>\n",
       "      <td>28000.0</td>\n",
       "    </tr>\n",
       "    <tr>\n",
       "      <th>mean</th>\n",
       "      <td>4.446107</td>\n",
       "      <td>0.0</td>\n",
       "      <td>0.0</td>\n",
       "      <td>0.0</td>\n",
       "      <td>0.0</td>\n",
       "      <td>0.0</td>\n",
       "      <td>0.0</td>\n",
       "      <td>0.0</td>\n",
       "      <td>0.0</td>\n",
       "      <td>0.0</td>\n",
       "      <td>...</td>\n",
       "      <td>0.164607</td>\n",
       "      <td>0.073214</td>\n",
       "      <td>0.028036</td>\n",
       "      <td>0.011250</td>\n",
       "      <td>0.006536</td>\n",
       "      <td>0.0</td>\n",
       "      <td>0.0</td>\n",
       "      <td>0.0</td>\n",
       "      <td>0.0</td>\n",
       "      <td>0.0</td>\n",
       "    </tr>\n",
       "    <tr>\n",
       "      <th>std</th>\n",
       "      <td>2.893929</td>\n",
       "      <td>0.0</td>\n",
       "      <td>0.0</td>\n",
       "      <td>0.0</td>\n",
       "      <td>0.0</td>\n",
       "      <td>0.0</td>\n",
       "      <td>0.0</td>\n",
       "      <td>0.0</td>\n",
       "      <td>0.0</td>\n",
       "      <td>0.0</td>\n",
       "      <td>...</td>\n",
       "      <td>5.473293</td>\n",
       "      <td>3.616811</td>\n",
       "      <td>1.813602</td>\n",
       "      <td>1.205211</td>\n",
       "      <td>0.807475</td>\n",
       "      <td>0.0</td>\n",
       "      <td>0.0</td>\n",
       "      <td>0.0</td>\n",
       "      <td>0.0</td>\n",
       "      <td>0.0</td>\n",
       "    </tr>\n",
       "    <tr>\n",
       "      <th>min</th>\n",
       "      <td>0.000000</td>\n",
       "      <td>0.0</td>\n",
       "      <td>0.0</td>\n",
       "      <td>0.0</td>\n",
       "      <td>0.0</td>\n",
       "      <td>0.0</td>\n",
       "      <td>0.0</td>\n",
       "      <td>0.0</td>\n",
       "      <td>0.0</td>\n",
       "      <td>0.0</td>\n",
       "      <td>...</td>\n",
       "      <td>0.000000</td>\n",
       "      <td>0.000000</td>\n",
       "      <td>0.000000</td>\n",
       "      <td>0.000000</td>\n",
       "      <td>0.000000</td>\n",
       "      <td>0.0</td>\n",
       "      <td>0.0</td>\n",
       "      <td>0.0</td>\n",
       "      <td>0.0</td>\n",
       "      <td>0.0</td>\n",
       "    </tr>\n",
       "    <tr>\n",
       "      <th>25%</th>\n",
       "      <td>2.000000</td>\n",
       "      <td>0.0</td>\n",
       "      <td>0.0</td>\n",
       "      <td>0.0</td>\n",
       "      <td>0.0</td>\n",
       "      <td>0.0</td>\n",
       "      <td>0.0</td>\n",
       "      <td>0.0</td>\n",
       "      <td>0.0</td>\n",
       "      <td>0.0</td>\n",
       "      <td>...</td>\n",
       "      <td>0.000000</td>\n",
       "      <td>0.000000</td>\n",
       "      <td>0.000000</td>\n",
       "      <td>0.000000</td>\n",
       "      <td>0.000000</td>\n",
       "      <td>0.0</td>\n",
       "      <td>0.0</td>\n",
       "      <td>0.0</td>\n",
       "      <td>0.0</td>\n",
       "      <td>0.0</td>\n",
       "    </tr>\n",
       "    <tr>\n",
       "      <th>50%</th>\n",
       "      <td>4.000000</td>\n",
       "      <td>0.0</td>\n",
       "      <td>0.0</td>\n",
       "      <td>0.0</td>\n",
       "      <td>0.0</td>\n",
       "      <td>0.0</td>\n",
       "      <td>0.0</td>\n",
       "      <td>0.0</td>\n",
       "      <td>0.0</td>\n",
       "      <td>0.0</td>\n",
       "      <td>...</td>\n",
       "      <td>0.000000</td>\n",
       "      <td>0.000000</td>\n",
       "      <td>0.000000</td>\n",
       "      <td>0.000000</td>\n",
       "      <td>0.000000</td>\n",
       "      <td>0.0</td>\n",
       "      <td>0.0</td>\n",
       "      <td>0.0</td>\n",
       "      <td>0.0</td>\n",
       "      <td>0.0</td>\n",
       "    </tr>\n",
       "    <tr>\n",
       "      <th>75%</th>\n",
       "      <td>7.000000</td>\n",
       "      <td>0.0</td>\n",
       "      <td>0.0</td>\n",
       "      <td>0.0</td>\n",
       "      <td>0.0</td>\n",
       "      <td>0.0</td>\n",
       "      <td>0.0</td>\n",
       "      <td>0.0</td>\n",
       "      <td>0.0</td>\n",
       "      <td>0.0</td>\n",
       "      <td>...</td>\n",
       "      <td>0.000000</td>\n",
       "      <td>0.000000</td>\n",
       "      <td>0.000000</td>\n",
       "      <td>0.000000</td>\n",
       "      <td>0.000000</td>\n",
       "      <td>0.0</td>\n",
       "      <td>0.0</td>\n",
       "      <td>0.0</td>\n",
       "      <td>0.0</td>\n",
       "      <td>0.0</td>\n",
       "    </tr>\n",
       "    <tr>\n",
       "      <th>max</th>\n",
       "      <td>9.000000</td>\n",
       "      <td>0.0</td>\n",
       "      <td>0.0</td>\n",
       "      <td>0.0</td>\n",
       "      <td>0.0</td>\n",
       "      <td>0.0</td>\n",
       "      <td>0.0</td>\n",
       "      <td>0.0</td>\n",
       "      <td>0.0</td>\n",
       "      <td>0.0</td>\n",
       "      <td>...</td>\n",
       "      <td>253.000000</td>\n",
       "      <td>254.000000</td>\n",
       "      <td>193.000000</td>\n",
       "      <td>187.000000</td>\n",
       "      <td>119.000000</td>\n",
       "      <td>0.0</td>\n",
       "      <td>0.0</td>\n",
       "      <td>0.0</td>\n",
       "      <td>0.0</td>\n",
       "      <td>0.0</td>\n",
       "    </tr>\n",
       "  </tbody>\n",
       "</table>\n",
       "<p>8 rows × 785 columns</p>\n",
       "</div>"
      ],
      "text/plain": [
       "              label   pixel0   pixel1   pixel2   pixel3   pixel4   pixel5  \\\n",
       "count  28000.000000  28000.0  28000.0  28000.0  28000.0  28000.0  28000.0   \n",
       "mean       4.446107      0.0      0.0      0.0      0.0      0.0      0.0   \n",
       "std        2.893929      0.0      0.0      0.0      0.0      0.0      0.0   \n",
       "min        0.000000      0.0      0.0      0.0      0.0      0.0      0.0   \n",
       "25%        2.000000      0.0      0.0      0.0      0.0      0.0      0.0   \n",
       "50%        4.000000      0.0      0.0      0.0      0.0      0.0      0.0   \n",
       "75%        7.000000      0.0      0.0      0.0      0.0      0.0      0.0   \n",
       "max        9.000000      0.0      0.0      0.0      0.0      0.0      0.0   \n",
       "\n",
       "        pixel6   pixel7   pixel8  ...      pixel774      pixel775  \\\n",
       "count  28000.0  28000.0  28000.0  ...  28000.000000  28000.000000   \n",
       "mean       0.0      0.0      0.0  ...      0.164607      0.073214   \n",
       "std        0.0      0.0      0.0  ...      5.473293      3.616811   \n",
       "min        0.0      0.0      0.0  ...      0.000000      0.000000   \n",
       "25%        0.0      0.0      0.0  ...      0.000000      0.000000   \n",
       "50%        0.0      0.0      0.0  ...      0.000000      0.000000   \n",
       "75%        0.0      0.0      0.0  ...      0.000000      0.000000   \n",
       "max        0.0      0.0      0.0  ...    253.000000    254.000000   \n",
       "\n",
       "           pixel776      pixel777      pixel778  pixel779  pixel780  pixel781  \\\n",
       "count  28000.000000  28000.000000  28000.000000   28000.0   28000.0   28000.0   \n",
       "mean       0.028036      0.011250      0.006536       0.0       0.0       0.0   \n",
       "std        1.813602      1.205211      0.807475       0.0       0.0       0.0   \n",
       "min        0.000000      0.000000      0.000000       0.0       0.0       0.0   \n",
       "25%        0.000000      0.000000      0.000000       0.0       0.0       0.0   \n",
       "50%        0.000000      0.000000      0.000000       0.0       0.0       0.0   \n",
       "75%        0.000000      0.000000      0.000000       0.0       0.0       0.0   \n",
       "max      193.000000    187.000000    119.000000       0.0       0.0       0.0   \n",
       "\n",
       "       pixel782  pixel783  \n",
       "count   28000.0   28000.0  \n",
       "mean        0.0       0.0  \n",
       "std         0.0       0.0  \n",
       "min         0.0       0.0  \n",
       "25%         0.0       0.0  \n",
       "50%         0.0       0.0  \n",
       "75%         0.0       0.0  \n",
       "max         0.0       0.0  \n",
       "\n",
       "[8 rows x 785 columns]"
      ]
     },
     "execution_count": 11,
     "metadata": {},
     "output_type": "execute_result"
    }
   ],
   "source": [
    "dataset_test.describe()"
   ]
  },
  {
   "cell_type": "code",
   "execution_count": 12,
   "id": "f689dde3",
   "metadata": {
    "execution": {
     "iopub.execute_input": "2025-09-25T09:35:32.753104Z",
     "iopub.status.busy": "2025-09-25T09:35:32.752874Z",
     "iopub.status.idle": "2025-09-25T09:35:32.757301Z",
     "shell.execute_reply": "2025-09-25T09:35:32.756454Z"
    },
    "papermill": {
     "duration": 0.01625,
     "end_time": "2025-09-25T09:35:32.758874",
     "exception": false,
     "start_time": "2025-09-25T09:35:32.742624",
     "status": "completed"
    },
    "tags": []
   },
   "outputs": [],
   "source": [
    "X_train = dataset_train.iloc[:, 1:]\n",
    "y_train = dataset_train.iloc[:, 0]\n",
    "X_test = dataset_test.iloc[:, 1:]\n",
    "y_test = dataset_test.iloc[:, 0]"
   ]
  },
  {
   "cell_type": "code",
   "execution_count": 13,
   "id": "3dbb883f",
   "metadata": {
    "execution": {
     "iopub.execute_input": "2025-09-25T09:35:32.778160Z",
     "iopub.status.busy": "2025-09-25T09:35:32.777720Z",
     "iopub.status.idle": "2025-09-25T09:35:32.782153Z",
     "shell.execute_reply": "2025-09-25T09:35:32.781246Z"
    },
    "papermill": {
     "duration": 0.015925,
     "end_time": "2025-09-25T09:35:32.783888",
     "exception": false,
     "start_time": "2025-09-25T09:35:32.767963",
     "status": "completed"
    },
    "tags": []
   },
   "outputs": [
    {
     "name": "stdout",
     "output_type": "stream",
     "text": [
      "(42000, 784)\n",
      "(42000,)\n",
      "(28000, 784)\n",
      "(28000,)\n"
     ]
    }
   ],
   "source": [
    "print(X_train.shape)\n",
    "print(y_train.shape)\n",
    "print(X_test.shape)\n",
    "print(y_test.shape)"
   ]
  },
  {
   "cell_type": "code",
   "execution_count": 14,
   "id": "1bcbd29c",
   "metadata": {
    "execution": {
     "iopub.execute_input": "2025-09-25T09:35:32.803664Z",
     "iopub.status.busy": "2025-09-25T09:35:32.803015Z",
     "iopub.status.idle": "2025-09-25T09:35:32.818445Z",
     "shell.execute_reply": "2025-09-25T09:35:32.817764Z"
    },
    "executionInfo": {
     "elapsed": 44,
     "status": "ok",
     "timestamp": 1671821741250,
     "user": {
      "displayName": "1578_Avishek Chowdhury",
      "userId": "14734427622886483691"
     },
     "user_tz": -360
    },
    "id": "SOXiTmPe5MVM",
    "outputId": "cf13a105-3a71-4e1e-b361-68aff6ce196f",
    "papermill": {
     "duration": 0.026795,
     "end_time": "2025-09-25T09:35:32.819995",
     "exception": false,
     "start_time": "2025-09-25T09:35:32.793200",
     "status": "completed"
    },
    "tags": []
   },
   "outputs": [
    {
     "data": {
      "text/html": [
       "<div>\n",
       "<style scoped>\n",
       "    .dataframe tbody tr th:only-of-type {\n",
       "        vertical-align: middle;\n",
       "    }\n",
       "\n",
       "    .dataframe tbody tr th {\n",
       "        vertical-align: top;\n",
       "    }\n",
       "\n",
       "    .dataframe thead th {\n",
       "        text-align: right;\n",
       "    }\n",
       "</style>\n",
       "<table border=\"1\" class=\"dataframe\">\n",
       "  <thead>\n",
       "    <tr style=\"text-align: right;\">\n",
       "      <th></th>\n",
       "      <th>pixel0</th>\n",
       "      <th>pixel1</th>\n",
       "      <th>pixel2</th>\n",
       "      <th>pixel3</th>\n",
       "      <th>pixel4</th>\n",
       "      <th>pixel5</th>\n",
       "      <th>pixel6</th>\n",
       "      <th>pixel7</th>\n",
       "      <th>pixel8</th>\n",
       "      <th>pixel9</th>\n",
       "      <th>...</th>\n",
       "      <th>pixel774</th>\n",
       "      <th>pixel775</th>\n",
       "      <th>pixel776</th>\n",
       "      <th>pixel777</th>\n",
       "      <th>pixel778</th>\n",
       "      <th>pixel779</th>\n",
       "      <th>pixel780</th>\n",
       "      <th>pixel781</th>\n",
       "      <th>pixel782</th>\n",
       "      <th>pixel783</th>\n",
       "    </tr>\n",
       "  </thead>\n",
       "  <tbody>\n",
       "    <tr>\n",
       "      <th>0</th>\n",
       "      <td>0</td>\n",
       "      <td>0</td>\n",
       "      <td>0</td>\n",
       "      <td>0</td>\n",
       "      <td>0</td>\n",
       "      <td>0</td>\n",
       "      <td>0</td>\n",
       "      <td>0</td>\n",
       "      <td>0</td>\n",
       "      <td>0</td>\n",
       "      <td>...</td>\n",
       "      <td>0</td>\n",
       "      <td>0</td>\n",
       "      <td>0</td>\n",
       "      <td>0</td>\n",
       "      <td>0</td>\n",
       "      <td>0</td>\n",
       "      <td>0</td>\n",
       "      <td>0</td>\n",
       "      <td>0</td>\n",
       "      <td>0</td>\n",
       "    </tr>\n",
       "    <tr>\n",
       "      <th>1</th>\n",
       "      <td>0</td>\n",
       "      <td>0</td>\n",
       "      <td>0</td>\n",
       "      <td>0</td>\n",
       "      <td>0</td>\n",
       "      <td>0</td>\n",
       "      <td>0</td>\n",
       "      <td>0</td>\n",
       "      <td>0</td>\n",
       "      <td>0</td>\n",
       "      <td>...</td>\n",
       "      <td>0</td>\n",
       "      <td>0</td>\n",
       "      <td>0</td>\n",
       "      <td>0</td>\n",
       "      <td>0</td>\n",
       "      <td>0</td>\n",
       "      <td>0</td>\n",
       "      <td>0</td>\n",
       "      <td>0</td>\n",
       "      <td>0</td>\n",
       "    </tr>\n",
       "    <tr>\n",
       "      <th>2</th>\n",
       "      <td>0</td>\n",
       "      <td>0</td>\n",
       "      <td>0</td>\n",
       "      <td>0</td>\n",
       "      <td>0</td>\n",
       "      <td>0</td>\n",
       "      <td>0</td>\n",
       "      <td>0</td>\n",
       "      <td>0</td>\n",
       "      <td>0</td>\n",
       "      <td>...</td>\n",
       "      <td>0</td>\n",
       "      <td>0</td>\n",
       "      <td>0</td>\n",
       "      <td>0</td>\n",
       "      <td>0</td>\n",
       "      <td>0</td>\n",
       "      <td>0</td>\n",
       "      <td>0</td>\n",
       "      <td>0</td>\n",
       "      <td>0</td>\n",
       "    </tr>\n",
       "    <tr>\n",
       "      <th>3</th>\n",
       "      <td>0</td>\n",
       "      <td>0</td>\n",
       "      <td>0</td>\n",
       "      <td>0</td>\n",
       "      <td>0</td>\n",
       "      <td>0</td>\n",
       "      <td>0</td>\n",
       "      <td>0</td>\n",
       "      <td>0</td>\n",
       "      <td>0</td>\n",
       "      <td>...</td>\n",
       "      <td>0</td>\n",
       "      <td>0</td>\n",
       "      <td>0</td>\n",
       "      <td>0</td>\n",
       "      <td>0</td>\n",
       "      <td>0</td>\n",
       "      <td>0</td>\n",
       "      <td>0</td>\n",
       "      <td>0</td>\n",
       "      <td>0</td>\n",
       "    </tr>\n",
       "    <tr>\n",
       "      <th>4</th>\n",
       "      <td>0</td>\n",
       "      <td>0</td>\n",
       "      <td>0</td>\n",
       "      <td>0</td>\n",
       "      <td>0</td>\n",
       "      <td>0</td>\n",
       "      <td>0</td>\n",
       "      <td>0</td>\n",
       "      <td>0</td>\n",
       "      <td>0</td>\n",
       "      <td>...</td>\n",
       "      <td>0</td>\n",
       "      <td>0</td>\n",
       "      <td>0</td>\n",
       "      <td>0</td>\n",
       "      <td>0</td>\n",
       "      <td>0</td>\n",
       "      <td>0</td>\n",
       "      <td>0</td>\n",
       "      <td>0</td>\n",
       "      <td>0</td>\n",
       "    </tr>\n",
       "    <tr>\n",
       "      <th>...</th>\n",
       "      <td>...</td>\n",
       "      <td>...</td>\n",
       "      <td>...</td>\n",
       "      <td>...</td>\n",
       "      <td>...</td>\n",
       "      <td>...</td>\n",
       "      <td>...</td>\n",
       "      <td>...</td>\n",
       "      <td>...</td>\n",
       "      <td>...</td>\n",
       "      <td>...</td>\n",
       "      <td>...</td>\n",
       "      <td>...</td>\n",
       "      <td>...</td>\n",
       "      <td>...</td>\n",
       "      <td>...</td>\n",
       "      <td>...</td>\n",
       "      <td>...</td>\n",
       "      <td>...</td>\n",
       "      <td>...</td>\n",
       "      <td>...</td>\n",
       "    </tr>\n",
       "    <tr>\n",
       "      <th>41995</th>\n",
       "      <td>0</td>\n",
       "      <td>0</td>\n",
       "      <td>0</td>\n",
       "      <td>0</td>\n",
       "      <td>0</td>\n",
       "      <td>0</td>\n",
       "      <td>0</td>\n",
       "      <td>0</td>\n",
       "      <td>0</td>\n",
       "      <td>0</td>\n",
       "      <td>...</td>\n",
       "      <td>0</td>\n",
       "      <td>0</td>\n",
       "      <td>0</td>\n",
       "      <td>0</td>\n",
       "      <td>0</td>\n",
       "      <td>0</td>\n",
       "      <td>0</td>\n",
       "      <td>0</td>\n",
       "      <td>0</td>\n",
       "      <td>0</td>\n",
       "    </tr>\n",
       "    <tr>\n",
       "      <th>41996</th>\n",
       "      <td>0</td>\n",
       "      <td>0</td>\n",
       "      <td>0</td>\n",
       "      <td>0</td>\n",
       "      <td>0</td>\n",
       "      <td>0</td>\n",
       "      <td>0</td>\n",
       "      <td>0</td>\n",
       "      <td>0</td>\n",
       "      <td>0</td>\n",
       "      <td>...</td>\n",
       "      <td>0</td>\n",
       "      <td>0</td>\n",
       "      <td>0</td>\n",
       "      <td>0</td>\n",
       "      <td>0</td>\n",
       "      <td>0</td>\n",
       "      <td>0</td>\n",
       "      <td>0</td>\n",
       "      <td>0</td>\n",
       "      <td>0</td>\n",
       "    </tr>\n",
       "    <tr>\n",
       "      <th>41997</th>\n",
       "      <td>0</td>\n",
       "      <td>0</td>\n",
       "      <td>0</td>\n",
       "      <td>0</td>\n",
       "      <td>0</td>\n",
       "      <td>0</td>\n",
       "      <td>0</td>\n",
       "      <td>0</td>\n",
       "      <td>0</td>\n",
       "      <td>0</td>\n",
       "      <td>...</td>\n",
       "      <td>0</td>\n",
       "      <td>0</td>\n",
       "      <td>0</td>\n",
       "      <td>0</td>\n",
       "      <td>0</td>\n",
       "      <td>0</td>\n",
       "      <td>0</td>\n",
       "      <td>0</td>\n",
       "      <td>0</td>\n",
       "      <td>0</td>\n",
       "    </tr>\n",
       "    <tr>\n",
       "      <th>41998</th>\n",
       "      <td>0</td>\n",
       "      <td>0</td>\n",
       "      <td>0</td>\n",
       "      <td>0</td>\n",
       "      <td>0</td>\n",
       "      <td>0</td>\n",
       "      <td>0</td>\n",
       "      <td>0</td>\n",
       "      <td>0</td>\n",
       "      <td>0</td>\n",
       "      <td>...</td>\n",
       "      <td>0</td>\n",
       "      <td>0</td>\n",
       "      <td>0</td>\n",
       "      <td>0</td>\n",
       "      <td>0</td>\n",
       "      <td>0</td>\n",
       "      <td>0</td>\n",
       "      <td>0</td>\n",
       "      <td>0</td>\n",
       "      <td>0</td>\n",
       "    </tr>\n",
       "    <tr>\n",
       "      <th>41999</th>\n",
       "      <td>0</td>\n",
       "      <td>0</td>\n",
       "      <td>0</td>\n",
       "      <td>0</td>\n",
       "      <td>0</td>\n",
       "      <td>0</td>\n",
       "      <td>0</td>\n",
       "      <td>0</td>\n",
       "      <td>0</td>\n",
       "      <td>0</td>\n",
       "      <td>...</td>\n",
       "      <td>0</td>\n",
       "      <td>0</td>\n",
       "      <td>0</td>\n",
       "      <td>0</td>\n",
       "      <td>0</td>\n",
       "      <td>0</td>\n",
       "      <td>0</td>\n",
       "      <td>0</td>\n",
       "      <td>0</td>\n",
       "      <td>0</td>\n",
       "    </tr>\n",
       "  </tbody>\n",
       "</table>\n",
       "<p>42000 rows × 784 columns</p>\n",
       "</div>"
      ],
      "text/plain": [
       "       pixel0  pixel1  pixel2  pixel3  pixel4  pixel5  pixel6  pixel7  pixel8  \\\n",
       "0           0       0       0       0       0       0       0       0       0   \n",
       "1           0       0       0       0       0       0       0       0       0   \n",
       "2           0       0       0       0       0       0       0       0       0   \n",
       "3           0       0       0       0       0       0       0       0       0   \n",
       "4           0       0       0       0       0       0       0       0       0   \n",
       "...       ...     ...     ...     ...     ...     ...     ...     ...     ...   \n",
       "41995       0       0       0       0       0       0       0       0       0   \n",
       "41996       0       0       0       0       0       0       0       0       0   \n",
       "41997       0       0       0       0       0       0       0       0       0   \n",
       "41998       0       0       0       0       0       0       0       0       0   \n",
       "41999       0       0       0       0       0       0       0       0       0   \n",
       "\n",
       "       pixel9  ...  pixel774  pixel775  pixel776  pixel777  pixel778  \\\n",
       "0           0  ...         0         0         0         0         0   \n",
       "1           0  ...         0         0         0         0         0   \n",
       "2           0  ...         0         0         0         0         0   \n",
       "3           0  ...         0         0         0         0         0   \n",
       "4           0  ...         0         0         0         0         0   \n",
       "...       ...  ...       ...       ...       ...       ...       ...   \n",
       "41995       0  ...         0         0         0         0         0   \n",
       "41996       0  ...         0         0         0         0         0   \n",
       "41997       0  ...         0         0         0         0         0   \n",
       "41998       0  ...         0         0         0         0         0   \n",
       "41999       0  ...         0         0         0         0         0   \n",
       "\n",
       "       pixel779  pixel780  pixel781  pixel782  pixel783  \n",
       "0             0         0         0         0         0  \n",
       "1             0         0         0         0         0  \n",
       "2             0         0         0         0         0  \n",
       "3             0         0         0         0         0  \n",
       "4             0         0         0         0         0  \n",
       "...         ...       ...       ...       ...       ...  \n",
       "41995         0         0         0         0         0  \n",
       "41996         0         0         0         0         0  \n",
       "41997         0         0         0         0         0  \n",
       "41998         0         0         0         0         0  \n",
       "41999         0         0         0         0         0  \n",
       "\n",
       "[42000 rows x 784 columns]"
      ]
     },
     "execution_count": 14,
     "metadata": {},
     "output_type": "execute_result"
    }
   ],
   "source": [
    "X_train"
   ]
  },
  {
   "cell_type": "code",
   "execution_count": 15,
   "id": "b8145469",
   "metadata": {
    "execution": {
     "iopub.execute_input": "2025-09-25T09:35:32.840203Z",
     "iopub.status.busy": "2025-09-25T09:35:32.839968Z",
     "iopub.status.idle": "2025-09-25T09:35:32.845833Z",
     "shell.execute_reply": "2025-09-25T09:35:32.845177Z"
    },
    "executionInfo": {
     "elapsed": 33,
     "status": "ok",
     "timestamp": 1671821741251,
     "user": {
      "displayName": "1578_Avishek Chowdhury",
      "userId": "14734427622886483691"
     },
     "user_tz": -360
    },
    "id": "fzUK43Es5SO6",
    "outputId": "2194b928-ab4d-4664-a8e6-ed7e916fc246",
    "papermill": {
     "duration": 0.017663,
     "end_time": "2025-09-25T09:35:32.847331",
     "exception": false,
     "start_time": "2025-09-25T09:35:32.829668",
     "status": "completed"
    },
    "tags": []
   },
   "outputs": [
    {
     "data": {
      "text/plain": [
       "0        1\n",
       "1        0\n",
       "2        1\n",
       "3        4\n",
       "4        0\n",
       "        ..\n",
       "41995    0\n",
       "41996    1\n",
       "41997    7\n",
       "41998    6\n",
       "41999    9\n",
       "Name: label, Length: 42000, dtype: int64"
      ]
     },
     "execution_count": 15,
     "metadata": {},
     "output_type": "execute_result"
    }
   ],
   "source": [
    "y_train"
   ]
  },
  {
   "cell_type": "code",
   "execution_count": 16,
   "id": "d9b5a055",
   "metadata": {
    "execution": {
     "iopub.execute_input": "2025-09-25T09:35:32.867497Z",
     "iopub.status.busy": "2025-09-25T09:35:32.866989Z",
     "iopub.status.idle": "2025-09-25T09:35:32.881388Z",
     "shell.execute_reply": "2025-09-25T09:35:32.880577Z"
    },
    "papermill": {
     "duration": 0.026237,
     "end_time": "2025-09-25T09:35:32.883100",
     "exception": false,
     "start_time": "2025-09-25T09:35:32.856863",
     "status": "completed"
    },
    "tags": []
   },
   "outputs": [
    {
     "data": {
      "text/html": [
       "<div>\n",
       "<style scoped>\n",
       "    .dataframe tbody tr th:only-of-type {\n",
       "        vertical-align: middle;\n",
       "    }\n",
       "\n",
       "    .dataframe tbody tr th {\n",
       "        vertical-align: top;\n",
       "    }\n",
       "\n",
       "    .dataframe thead th {\n",
       "        text-align: right;\n",
       "    }\n",
       "</style>\n",
       "<table border=\"1\" class=\"dataframe\">\n",
       "  <thead>\n",
       "    <tr style=\"text-align: right;\">\n",
       "      <th></th>\n",
       "      <th>pixel0</th>\n",
       "      <th>pixel1</th>\n",
       "      <th>pixel2</th>\n",
       "      <th>pixel3</th>\n",
       "      <th>pixel4</th>\n",
       "      <th>pixel5</th>\n",
       "      <th>pixel6</th>\n",
       "      <th>pixel7</th>\n",
       "      <th>pixel8</th>\n",
       "      <th>pixel9</th>\n",
       "      <th>...</th>\n",
       "      <th>pixel774</th>\n",
       "      <th>pixel775</th>\n",
       "      <th>pixel776</th>\n",
       "      <th>pixel777</th>\n",
       "      <th>pixel778</th>\n",
       "      <th>pixel779</th>\n",
       "      <th>pixel780</th>\n",
       "      <th>pixel781</th>\n",
       "      <th>pixel782</th>\n",
       "      <th>pixel783</th>\n",
       "    </tr>\n",
       "  </thead>\n",
       "  <tbody>\n",
       "    <tr>\n",
       "      <th>0</th>\n",
       "      <td>0</td>\n",
       "      <td>0</td>\n",
       "      <td>0</td>\n",
       "      <td>0</td>\n",
       "      <td>0</td>\n",
       "      <td>0</td>\n",
       "      <td>0</td>\n",
       "      <td>0</td>\n",
       "      <td>0</td>\n",
       "      <td>0</td>\n",
       "      <td>...</td>\n",
       "      <td>0</td>\n",
       "      <td>0</td>\n",
       "      <td>0</td>\n",
       "      <td>0</td>\n",
       "      <td>0</td>\n",
       "      <td>0</td>\n",
       "      <td>0</td>\n",
       "      <td>0</td>\n",
       "      <td>0</td>\n",
       "      <td>0</td>\n",
       "    </tr>\n",
       "    <tr>\n",
       "      <th>1</th>\n",
       "      <td>0</td>\n",
       "      <td>0</td>\n",
       "      <td>0</td>\n",
       "      <td>0</td>\n",
       "      <td>0</td>\n",
       "      <td>0</td>\n",
       "      <td>0</td>\n",
       "      <td>0</td>\n",
       "      <td>0</td>\n",
       "      <td>0</td>\n",
       "      <td>...</td>\n",
       "      <td>0</td>\n",
       "      <td>0</td>\n",
       "      <td>0</td>\n",
       "      <td>0</td>\n",
       "      <td>0</td>\n",
       "      <td>0</td>\n",
       "      <td>0</td>\n",
       "      <td>0</td>\n",
       "      <td>0</td>\n",
       "      <td>0</td>\n",
       "    </tr>\n",
       "    <tr>\n",
       "      <th>2</th>\n",
       "      <td>0</td>\n",
       "      <td>0</td>\n",
       "      <td>0</td>\n",
       "      <td>0</td>\n",
       "      <td>0</td>\n",
       "      <td>0</td>\n",
       "      <td>0</td>\n",
       "      <td>0</td>\n",
       "      <td>0</td>\n",
       "      <td>0</td>\n",
       "      <td>...</td>\n",
       "      <td>0</td>\n",
       "      <td>0</td>\n",
       "      <td>0</td>\n",
       "      <td>0</td>\n",
       "      <td>0</td>\n",
       "      <td>0</td>\n",
       "      <td>0</td>\n",
       "      <td>0</td>\n",
       "      <td>0</td>\n",
       "      <td>0</td>\n",
       "    </tr>\n",
       "    <tr>\n",
       "      <th>3</th>\n",
       "      <td>0</td>\n",
       "      <td>0</td>\n",
       "      <td>0</td>\n",
       "      <td>0</td>\n",
       "      <td>0</td>\n",
       "      <td>0</td>\n",
       "      <td>0</td>\n",
       "      <td>0</td>\n",
       "      <td>0</td>\n",
       "      <td>0</td>\n",
       "      <td>...</td>\n",
       "      <td>0</td>\n",
       "      <td>0</td>\n",
       "      <td>0</td>\n",
       "      <td>0</td>\n",
       "      <td>0</td>\n",
       "      <td>0</td>\n",
       "      <td>0</td>\n",
       "      <td>0</td>\n",
       "      <td>0</td>\n",
       "      <td>0</td>\n",
       "    </tr>\n",
       "    <tr>\n",
       "      <th>4</th>\n",
       "      <td>0</td>\n",
       "      <td>0</td>\n",
       "      <td>0</td>\n",
       "      <td>0</td>\n",
       "      <td>0</td>\n",
       "      <td>0</td>\n",
       "      <td>0</td>\n",
       "      <td>0</td>\n",
       "      <td>0</td>\n",
       "      <td>0</td>\n",
       "      <td>...</td>\n",
       "      <td>0</td>\n",
       "      <td>0</td>\n",
       "      <td>0</td>\n",
       "      <td>0</td>\n",
       "      <td>0</td>\n",
       "      <td>0</td>\n",
       "      <td>0</td>\n",
       "      <td>0</td>\n",
       "      <td>0</td>\n",
       "      <td>0</td>\n",
       "    </tr>\n",
       "    <tr>\n",
       "      <th>...</th>\n",
       "      <td>...</td>\n",
       "      <td>...</td>\n",
       "      <td>...</td>\n",
       "      <td>...</td>\n",
       "      <td>...</td>\n",
       "      <td>...</td>\n",
       "      <td>...</td>\n",
       "      <td>...</td>\n",
       "      <td>...</td>\n",
       "      <td>...</td>\n",
       "      <td>...</td>\n",
       "      <td>...</td>\n",
       "      <td>...</td>\n",
       "      <td>...</td>\n",
       "      <td>...</td>\n",
       "      <td>...</td>\n",
       "      <td>...</td>\n",
       "      <td>...</td>\n",
       "      <td>...</td>\n",
       "      <td>...</td>\n",
       "      <td>...</td>\n",
       "    </tr>\n",
       "    <tr>\n",
       "      <th>27995</th>\n",
       "      <td>0</td>\n",
       "      <td>0</td>\n",
       "      <td>0</td>\n",
       "      <td>0</td>\n",
       "      <td>0</td>\n",
       "      <td>0</td>\n",
       "      <td>0</td>\n",
       "      <td>0</td>\n",
       "      <td>0</td>\n",
       "      <td>0</td>\n",
       "      <td>...</td>\n",
       "      <td>0</td>\n",
       "      <td>0</td>\n",
       "      <td>0</td>\n",
       "      <td>0</td>\n",
       "      <td>0</td>\n",
       "      <td>0</td>\n",
       "      <td>0</td>\n",
       "      <td>0</td>\n",
       "      <td>0</td>\n",
       "      <td>0</td>\n",
       "    </tr>\n",
       "    <tr>\n",
       "      <th>27996</th>\n",
       "      <td>0</td>\n",
       "      <td>0</td>\n",
       "      <td>0</td>\n",
       "      <td>0</td>\n",
       "      <td>0</td>\n",
       "      <td>0</td>\n",
       "      <td>0</td>\n",
       "      <td>0</td>\n",
       "      <td>0</td>\n",
       "      <td>0</td>\n",
       "      <td>...</td>\n",
       "      <td>0</td>\n",
       "      <td>0</td>\n",
       "      <td>0</td>\n",
       "      <td>0</td>\n",
       "      <td>0</td>\n",
       "      <td>0</td>\n",
       "      <td>0</td>\n",
       "      <td>0</td>\n",
       "      <td>0</td>\n",
       "      <td>0</td>\n",
       "    </tr>\n",
       "    <tr>\n",
       "      <th>27997</th>\n",
       "      <td>0</td>\n",
       "      <td>0</td>\n",
       "      <td>0</td>\n",
       "      <td>0</td>\n",
       "      <td>0</td>\n",
       "      <td>0</td>\n",
       "      <td>0</td>\n",
       "      <td>0</td>\n",
       "      <td>0</td>\n",
       "      <td>0</td>\n",
       "      <td>...</td>\n",
       "      <td>0</td>\n",
       "      <td>0</td>\n",
       "      <td>0</td>\n",
       "      <td>0</td>\n",
       "      <td>0</td>\n",
       "      <td>0</td>\n",
       "      <td>0</td>\n",
       "      <td>0</td>\n",
       "      <td>0</td>\n",
       "      <td>0</td>\n",
       "    </tr>\n",
       "    <tr>\n",
       "      <th>27998</th>\n",
       "      <td>0</td>\n",
       "      <td>0</td>\n",
       "      <td>0</td>\n",
       "      <td>0</td>\n",
       "      <td>0</td>\n",
       "      <td>0</td>\n",
       "      <td>0</td>\n",
       "      <td>0</td>\n",
       "      <td>0</td>\n",
       "      <td>0</td>\n",
       "      <td>...</td>\n",
       "      <td>0</td>\n",
       "      <td>0</td>\n",
       "      <td>0</td>\n",
       "      <td>0</td>\n",
       "      <td>0</td>\n",
       "      <td>0</td>\n",
       "      <td>0</td>\n",
       "      <td>0</td>\n",
       "      <td>0</td>\n",
       "      <td>0</td>\n",
       "    </tr>\n",
       "    <tr>\n",
       "      <th>27999</th>\n",
       "      <td>0</td>\n",
       "      <td>0</td>\n",
       "      <td>0</td>\n",
       "      <td>0</td>\n",
       "      <td>0</td>\n",
       "      <td>0</td>\n",
       "      <td>0</td>\n",
       "      <td>0</td>\n",
       "      <td>0</td>\n",
       "      <td>0</td>\n",
       "      <td>...</td>\n",
       "      <td>0</td>\n",
       "      <td>0</td>\n",
       "      <td>0</td>\n",
       "      <td>0</td>\n",
       "      <td>0</td>\n",
       "      <td>0</td>\n",
       "      <td>0</td>\n",
       "      <td>0</td>\n",
       "      <td>0</td>\n",
       "      <td>0</td>\n",
       "    </tr>\n",
       "  </tbody>\n",
       "</table>\n",
       "<p>28000 rows × 784 columns</p>\n",
       "</div>"
      ],
      "text/plain": [
       "       pixel0  pixel1  pixel2  pixel3  pixel4  pixel5  pixel6  pixel7  pixel8  \\\n",
       "0           0       0       0       0       0       0       0       0       0   \n",
       "1           0       0       0       0       0       0       0       0       0   \n",
       "2           0       0       0       0       0       0       0       0       0   \n",
       "3           0       0       0       0       0       0       0       0       0   \n",
       "4           0       0       0       0       0       0       0       0       0   \n",
       "...       ...     ...     ...     ...     ...     ...     ...     ...     ...   \n",
       "27995       0       0       0       0       0       0       0       0       0   \n",
       "27996       0       0       0       0       0       0       0       0       0   \n",
       "27997       0       0       0       0       0       0       0       0       0   \n",
       "27998       0       0       0       0       0       0       0       0       0   \n",
       "27999       0       0       0       0       0       0       0       0       0   \n",
       "\n",
       "       pixel9  ...  pixel774  pixel775  pixel776  pixel777  pixel778  \\\n",
       "0           0  ...         0         0         0         0         0   \n",
       "1           0  ...         0         0         0         0         0   \n",
       "2           0  ...         0         0         0         0         0   \n",
       "3           0  ...         0         0         0         0         0   \n",
       "4           0  ...         0         0         0         0         0   \n",
       "...       ...  ...       ...       ...       ...       ...       ...   \n",
       "27995       0  ...         0         0         0         0         0   \n",
       "27996       0  ...         0         0         0         0         0   \n",
       "27997       0  ...         0         0         0         0         0   \n",
       "27998       0  ...         0         0         0         0         0   \n",
       "27999       0  ...         0         0         0         0         0   \n",
       "\n",
       "       pixel779  pixel780  pixel781  pixel782  pixel783  \n",
       "0             0         0         0         0         0  \n",
       "1             0         0         0         0         0  \n",
       "2             0         0         0         0         0  \n",
       "3             0         0         0         0         0  \n",
       "4             0         0         0         0         0  \n",
       "...         ...       ...       ...       ...       ...  \n",
       "27995         0         0         0         0         0  \n",
       "27996         0         0         0         0         0  \n",
       "27997         0         0         0         0         0  \n",
       "27998         0         0         0         0         0  \n",
       "27999         0         0         0         0         0  \n",
       "\n",
       "[28000 rows x 784 columns]"
      ]
     },
     "execution_count": 16,
     "metadata": {},
     "output_type": "execute_result"
    }
   ],
   "source": [
    "X_test"
   ]
  },
  {
   "cell_type": "code",
   "execution_count": 17,
   "id": "365d59da",
   "metadata": {
    "execution": {
     "iopub.execute_input": "2025-09-25T09:35:32.903888Z",
     "iopub.status.busy": "2025-09-25T09:35:32.903681Z",
     "iopub.status.idle": "2025-09-25T09:35:32.909006Z",
     "shell.execute_reply": "2025-09-25T09:35:32.908273Z"
    },
    "papermill": {
     "duration": 0.017985,
     "end_time": "2025-09-25T09:35:32.910923",
     "exception": false,
     "start_time": "2025-09-25T09:35:32.892938",
     "status": "completed"
    },
    "tags": []
   },
   "outputs": [
    {
     "data": {
      "text/plain": [
       "0        0\n",
       "1        0\n",
       "2        0\n",
       "3        0\n",
       "4        0\n",
       "        ..\n",
       "27995    9\n",
       "27996    9\n",
       "27997    9\n",
       "27998    9\n",
       "27999    9\n",
       "Name: label, Length: 28000, dtype: int64"
      ]
     },
     "execution_count": 17,
     "metadata": {},
     "output_type": "execute_result"
    }
   ],
   "source": [
    "y_test"
   ]
  },
  {
   "cell_type": "markdown",
   "id": "b174c29f",
   "metadata": {
    "id": "VhtYg63_32mi",
    "papermill": {
     "duration": 0.009994,
     "end_time": "2025-09-25T09:35:32.931070",
     "exception": false,
     "start_time": "2025-09-25T09:35:32.921076",
     "status": "completed"
    },
    "tags": []
   },
   "source": [
    "## Scaling Features"
   ]
  },
  {
   "cell_type": "code",
   "execution_count": 18,
   "id": "07101b11",
   "metadata": {
    "execution": {
     "iopub.execute_input": "2025-09-25T09:35:32.952845Z",
     "iopub.status.busy": "2025-09-25T09:35:32.952203Z",
     "iopub.status.idle": "2025-09-25T09:35:33.466768Z",
     "shell.execute_reply": "2025-09-25T09:35:33.465892Z"
    },
    "id": "2HSHvUQx3pVm",
    "papermill": {
     "duration": 0.527912,
     "end_time": "2025-09-25T09:35:33.468925",
     "exception": false,
     "start_time": "2025-09-25T09:35:32.941013",
     "status": "completed"
    },
    "tags": []
   },
   "outputs": [],
   "source": [
    "sc = MinMaxScaler()\n",
    "X_train = sc.fit_transform(X_train)\n",
    "X_test = sc.fit_transform(X_test)"
   ]
  },
  {
   "cell_type": "code",
   "execution_count": 19,
   "id": "fba45b88",
   "metadata": {
    "execution": {
     "iopub.execute_input": "2025-09-25T09:35:33.491780Z",
     "iopub.status.busy": "2025-09-25T09:35:33.491463Z",
     "iopub.status.idle": "2025-09-25T09:35:33.497312Z",
     "shell.execute_reply": "2025-09-25T09:35:33.496453Z"
    },
    "executionInfo": {
     "elapsed": 19,
     "status": "ok",
     "timestamp": 1671821741254,
     "user": {
      "displayName": "1578_Avishek Chowdhury",
      "userId": "14734427622886483691"
     },
     "user_tz": -360
    },
    "id": "jSj6M9SO5W1m",
    "outputId": "513734c6-8342-47ed-bb2d-62fa5ff9591b",
    "papermill": {
     "duration": 0.018736,
     "end_time": "2025-09-25T09:35:33.499001",
     "exception": false,
     "start_time": "2025-09-25T09:35:33.480265",
     "status": "completed"
    },
    "tags": []
   },
   "outputs": [
    {
     "data": {
      "text/plain": [
       "array([[0., 0., 0., ..., 0., 0., 0.],\n",
       "       [0., 0., 0., ..., 0., 0., 0.],\n",
       "       [0., 0., 0., ..., 0., 0., 0.],\n",
       "       ...,\n",
       "       [0., 0., 0., ..., 0., 0., 0.],\n",
       "       [0., 0., 0., ..., 0., 0., 0.],\n",
       "       [0., 0., 0., ..., 0., 0., 0.]])"
      ]
     },
     "execution_count": 19,
     "metadata": {},
     "output_type": "execute_result"
    }
   ],
   "source": [
    "X_train"
   ]
  },
  {
   "cell_type": "code",
   "execution_count": 20,
   "id": "8ae15557",
   "metadata": {
    "execution": {
     "iopub.execute_input": "2025-09-25T09:35:33.520077Z",
     "iopub.status.busy": "2025-09-25T09:35:33.519833Z",
     "iopub.status.idle": "2025-09-25T09:35:33.525876Z",
     "shell.execute_reply": "2025-09-25T09:35:33.524995Z"
    },
    "papermill": {
     "duration": 0.018496,
     "end_time": "2025-09-25T09:35:33.527492",
     "exception": false,
     "start_time": "2025-09-25T09:35:33.508996",
     "status": "completed"
    },
    "tags": []
   },
   "outputs": [
    {
     "data": {
      "text/plain": [
       "array([[0., 0., 0., ..., 0., 0., 0.],\n",
       "       [0., 0., 0., ..., 0., 0., 0.],\n",
       "       [0., 0., 0., ..., 0., 0., 0.],\n",
       "       ...,\n",
       "       [0., 0., 0., ..., 0., 0., 0.],\n",
       "       [0., 0., 0., ..., 0., 0., 0.],\n",
       "       [0., 0., 0., ..., 0., 0., 0.]])"
      ]
     },
     "execution_count": 20,
     "metadata": {},
     "output_type": "execute_result"
    }
   ],
   "source": [
    "X_test"
   ]
  },
  {
   "cell_type": "markdown",
   "id": "3ef21263",
   "metadata": {
    "id": "yZr22WSb4Kb8",
    "papermill": {
     "duration": 0.00987,
     "end_time": "2025-09-25T09:35:33.548178",
     "exception": false,
     "start_time": "2025-09-25T09:35:33.538308",
     "status": "completed"
    },
    "tags": []
   },
   "source": [
    "## Binarizing Output"
   ]
  },
  {
   "cell_type": "code",
   "execution_count": 21,
   "id": "812451ac",
   "metadata": {
    "execution": {
     "iopub.execute_input": "2025-09-25T09:35:33.569340Z",
     "iopub.status.busy": "2025-09-25T09:35:33.569079Z",
     "iopub.status.idle": "2025-09-25T09:35:33.589833Z",
     "shell.execute_reply": "2025-09-25T09:35:33.589068Z"
    },
    "id": "vJsFgQUSK8wL",
    "papermill": {
     "duration": 0.033133,
     "end_time": "2025-09-25T09:35:33.591442",
     "exception": false,
     "start_time": "2025-09-25T09:35:33.558309",
     "status": "completed"
    },
    "tags": []
   },
   "outputs": [
    {
     "data": {
      "text/plain": [
       "(42000, 10)"
      ]
     },
     "execution_count": 21,
     "metadata": {},
     "output_type": "execute_result"
    }
   ],
   "source": [
    "lb = LabelBinarizer()\n",
    "y_train = lb.fit_transform(y_train)\n",
    "y_test = lb.fit_transform(y_test)\n",
    "y_train.shape"
   ]
  },
  {
   "cell_type": "code",
   "execution_count": 22,
   "id": "55b25d36",
   "metadata": {
    "execution": {
     "iopub.execute_input": "2025-09-25T09:35:33.612867Z",
     "iopub.status.busy": "2025-09-25T09:35:33.612624Z",
     "iopub.status.idle": "2025-09-25T09:35:33.617831Z",
     "shell.execute_reply": "2025-09-25T09:35:33.617176Z"
    },
    "papermill": {
     "duration": 0.017759,
     "end_time": "2025-09-25T09:35:33.619366",
     "exception": false,
     "start_time": "2025-09-25T09:35:33.601607",
     "status": "completed"
    },
    "tags": []
   },
   "outputs": [
    {
     "data": {
      "text/plain": [
       "array([[0, 1, 0, ..., 0, 0, 0],\n",
       "       [1, 0, 0, ..., 0, 0, 0],\n",
       "       [0, 1, 0, ..., 0, 0, 0],\n",
       "       ...,\n",
       "       [0, 0, 0, ..., 1, 0, 0],\n",
       "       [0, 0, 0, ..., 0, 0, 0],\n",
       "       [0, 0, 0, ..., 0, 0, 1]])"
      ]
     },
     "execution_count": 22,
     "metadata": {},
     "output_type": "execute_result"
    }
   ],
   "source": [
    "y_train"
   ]
  },
  {
   "cell_type": "code",
   "execution_count": 23,
   "id": "fd70523a",
   "metadata": {
    "execution": {
     "iopub.execute_input": "2025-09-25T09:35:33.640846Z",
     "iopub.status.busy": "2025-09-25T09:35:33.640609Z",
     "iopub.status.idle": "2025-09-25T09:35:33.645707Z",
     "shell.execute_reply": "2025-09-25T09:35:33.644925Z"
    },
    "papermill": {
     "duration": 0.017733,
     "end_time": "2025-09-25T09:35:33.647290",
     "exception": false,
     "start_time": "2025-09-25T09:35:33.629557",
     "status": "completed"
    },
    "tags": []
   },
   "outputs": [
    {
     "data": {
      "text/plain": [
       "array([[1, 0, 0, ..., 0, 0, 0],\n",
       "       [1, 0, 0, ..., 0, 0, 0],\n",
       "       [1, 0, 0, ..., 0, 0, 0],\n",
       "       ...,\n",
       "       [0, 0, 0, ..., 0, 0, 1],\n",
       "       [0, 0, 0, ..., 0, 0, 1],\n",
       "       [0, 0, 0, ..., 0, 0, 1]])"
      ]
     },
     "execution_count": 23,
     "metadata": {},
     "output_type": "execute_result"
    }
   ],
   "source": [
    "y_test"
   ]
  },
  {
   "cell_type": "markdown",
   "id": "6d2f1929",
   "metadata": {
    "id": "W_9dK6Iw5EXZ",
    "papermill": {
     "duration": 0.010565,
     "end_time": "2025-09-25T09:35:33.669643",
     "exception": false,
     "start_time": "2025-09-25T09:35:33.659078",
     "status": "completed"
    },
    "tags": []
   },
   "source": [
    "## Spliting Train & Test Set\n"
   ]
  },
  {
   "cell_type": "code",
   "execution_count": 24,
   "id": "c7686211",
   "metadata": {
    "execution": {
     "iopub.execute_input": "2025-09-25T09:35:33.691972Z",
     "iopub.status.busy": "2025-09-25T09:35:33.691733Z",
     "iopub.status.idle": "2025-09-25T09:35:33.695001Z",
     "shell.execute_reply": "2025-09-25T09:35:33.694378Z"
    },
    "id": "ARtvOrWsWImO",
    "papermill": {
     "duration": 0.015897,
     "end_time": "2025-09-25T09:35:33.696493",
     "exception": false,
     "start_time": "2025-09-25T09:35:33.680596",
     "status": "completed"
    },
    "tags": []
   },
   "outputs": [],
   "source": [
    "# X_train, X_val, y_train, y_val = train_test_split(X_train, y_train, train_size = 0.8, random_state = 45)"
   ]
  },
  {
   "cell_type": "code",
   "execution_count": 25,
   "id": "601125fd",
   "metadata": {
    "execution": {
     "iopub.execute_input": "2025-09-25T09:35:33.718124Z",
     "iopub.status.busy": "2025-09-25T09:35:33.717891Z",
     "iopub.status.idle": "2025-09-25T09:35:33.721143Z",
     "shell.execute_reply": "2025-09-25T09:35:33.720499Z"
    },
    "executionInfo": {
     "elapsed": 57,
     "status": "ok",
     "timestamp": 1671821742973,
     "user": {
      "displayName": "1578_Avishek Chowdhury",
      "userId": "14734427622886483691"
     },
     "user_tz": -360
    },
    "id": "zUaoqtZC8LW5",
    "outputId": "2e17883d-0258-4a47-d1ff-211074b6717d",
    "papermill": {
     "duration": 0.015703,
     "end_time": "2025-09-25T09:35:33.722701",
     "exception": false,
     "start_time": "2025-09-25T09:35:33.706998",
     "status": "completed"
    },
    "tags": []
   },
   "outputs": [],
   "source": [
    "# print(X_train.shape, X_val.shape, y_train.shape, y_val.shape)"
   ]
  },
  {
   "cell_type": "code",
   "execution_count": 26,
   "id": "f9c7c714",
   "metadata": {
    "execution": {
     "iopub.execute_input": "2025-09-25T09:35:33.744060Z",
     "iopub.status.busy": "2025-09-25T09:35:33.743830Z",
     "iopub.status.idle": "2025-09-25T09:35:33.748761Z",
     "shell.execute_reply": "2025-09-25T09:35:33.748077Z"
    },
    "executionInfo": {
     "elapsed": 49,
     "status": "ok",
     "timestamp": 1671821742975,
     "user": {
      "displayName": "1578_Avishek Chowdhury",
      "userId": "14734427622886483691"
     },
     "user_tz": -360
    },
    "id": "qydb7AVI_s4C",
    "outputId": "821d2196-37e7-41aa-f1b1-a14dcd257187",
    "papermill": {
     "duration": 0.017311,
     "end_time": "2025-09-25T09:35:33.750329",
     "exception": false,
     "start_time": "2025-09-25T09:35:33.733018",
     "status": "completed"
    },
    "tags": []
   },
   "outputs": [
    {
     "data": {
      "text/plain": [
       "(42000, 28, 28, 1)"
      ]
     },
     "execution_count": 26,
     "metadata": {},
     "output_type": "execute_result"
    }
   ],
   "source": [
    "X_train = X_train.reshape(-1, 28, 28, 1)\n",
    "X_train.shape"
   ]
  },
  {
   "cell_type": "code",
   "execution_count": 27,
   "id": "655a4f1a",
   "metadata": {
    "execution": {
     "iopub.execute_input": "2025-09-25T09:35:33.771854Z",
     "iopub.status.busy": "2025-09-25T09:35:33.771596Z",
     "iopub.status.idle": "2025-09-25T09:35:33.774819Z",
     "shell.execute_reply": "2025-09-25T09:35:33.774061Z"
    },
    "executionInfo": {
     "elapsed": 40,
     "status": "ok",
     "timestamp": 1671821742975,
     "user": {
      "displayName": "1578_Avishek Chowdhury",
      "userId": "14734427622886483691"
     },
     "user_tz": -360
    },
    "id": "RyXlO3S3_2uA",
    "outputId": "a3a9925d-cafe-4379-8774-037816e01ce1",
    "papermill": {
     "duration": 0.015808,
     "end_time": "2025-09-25T09:35:33.776374",
     "exception": false,
     "start_time": "2025-09-25T09:35:33.760566",
     "status": "completed"
    },
    "tags": []
   },
   "outputs": [],
   "source": [
    "# X_val = X_val.reshape(-1, 28, 28, 1)\n",
    "# X_val.shape"
   ]
  },
  {
   "cell_type": "code",
   "execution_count": 28,
   "id": "23704afa",
   "metadata": {
    "execution": {
     "iopub.execute_input": "2025-09-25T09:35:33.798574Z",
     "iopub.status.busy": "2025-09-25T09:35:33.798310Z",
     "iopub.status.idle": "2025-09-25T09:35:33.803377Z",
     "shell.execute_reply": "2025-09-25T09:35:33.802579Z"
    },
    "papermill": {
     "duration": 0.018051,
     "end_time": "2025-09-25T09:35:33.804936",
     "exception": false,
     "start_time": "2025-09-25T09:35:33.786885",
     "status": "completed"
    },
    "tags": []
   },
   "outputs": [
    {
     "data": {
      "text/plain": [
       "(28000, 28, 28, 1)"
      ]
     },
     "execution_count": 28,
     "metadata": {},
     "output_type": "execute_result"
    }
   ],
   "source": [
    "X_test = X_test.reshape(-1, 28, 28, 1)\n",
    "X_test.shape"
   ]
  },
  {
   "cell_type": "code",
   "execution_count": 29,
   "id": "56bdffc8",
   "metadata": {
    "execution": {
     "iopub.execute_input": "2025-09-25T09:35:33.826695Z",
     "iopub.status.busy": "2025-09-25T09:35:33.826443Z",
     "iopub.status.idle": "2025-09-25T09:35:34.072244Z",
     "shell.execute_reply": "2025-09-25T09:35:34.071359Z"
    },
    "papermill": {
     "duration": 0.258754,
     "end_time": "2025-09-25T09:35:34.074111",
     "exception": false,
     "start_time": "2025-09-25T09:35:33.815357",
     "status": "completed"
    },
    "tags": []
   },
   "outputs": [
    {
     "data": {
      "text/plain": [
       "<matplotlib.image.AxesImage at 0x7fdac9b74940>"
      ]
     },
     "execution_count": 29,
     "metadata": {},
     "output_type": "execute_result"
    },
    {
     "data": {
      "image/png": "[encoded data removed]",
      "text/plain": [
       "<Figure size 640x480 with 1 Axes>"
      ]
     },
     "metadata": {},
     "output_type": "display_data"
    }
   ],
   "source": [
    "plt.imshow(X_train[45], cmap = \"gray\")"
   ]
  },
  {
   "cell_type": "markdown",
   "id": "f5ff6164",
   "metadata": {
    "papermill": {
     "duration": 0.010989,
     "end_time": "2025-09-25T09:35:34.096446",
     "exception": false,
     "start_time": "2025-09-25T09:35:34.085457",
     "status": "completed"
    },
    "tags": []
   },
   "source": [
    "## Image Augmentation\n"
   ]
  },
  {
   "cell_type": "code",
   "execution_count": 30,
   "id": "821c0914",
   "metadata": {
    "execution": {
     "iopub.execute_input": "2025-09-25T09:35:34.119468Z",
     "iopub.status.busy": "2025-09-25T09:35:34.119147Z",
     "iopub.status.idle": "2025-09-25T09:35:34.123392Z",
     "shell.execute_reply": "2025-09-25T09:35:34.122705Z"
    },
    "papermill": {
     "duration": 0.017789,
     "end_time": "2025-09-25T09:35:34.125006",
     "exception": false,
     "start_time": "2025-09-25T09:35:34.107217",
     "status": "completed"
    },
    "tags": []
   },
   "outputs": [],
   "source": [
    "# Define ImageDataGenerator\n",
    "datagen = ImageDataGenerator(\n",
    "    rotation_range = 30,\n",
    "    zoom_range = 0.4,\n",
    "    shear_range = 0.5,\n",
    "    cval = 0.0,\n",
    "    fill_mode = 'constant')"
   ]
  },
  {
   "cell_type": "code",
   "execution_count": 31,
   "id": "617348e5",
   "metadata": {
    "execution": {
     "iopub.execute_input": "2025-09-25T09:35:34.147813Z",
     "iopub.status.busy": "2025-09-25T09:35:34.147513Z",
     "iopub.status.idle": "2025-09-25T09:35:34.204273Z",
     "shell.execute_reply": "2025-09-25T09:35:34.203471Z"
    },
    "papermill": {
     "duration": 0.070386,
     "end_time": "2025-09-25T09:35:34.206285",
     "exception": false,
     "start_time": "2025-09-25T09:35:34.135899",
     "status": "completed"
    },
    "tags": []
   },
   "outputs": [],
   "source": [
    "# Generate augmented data\n",
    "batch_size = 32\n",
    "train_generator = datagen.flow(X_train, y_train, batch_size = batch_size, shuffle = False)"
   ]
  },
  {
   "cell_type": "code",
   "execution_count": 32,
   "id": "a9884005",
   "metadata": {
    "execution": {
     "iopub.execute_input": "2025-09-25T09:35:34.230216Z",
     "iopub.status.busy": "2025-09-25T09:35:34.229884Z",
     "iopub.status.idle": "2025-09-25T09:35:34.235389Z",
     "shell.execute_reply": "2025-09-25T09:35:34.234565Z"
    },
    "papermill": {
     "duration": 0.019213,
     "end_time": "2025-09-25T09:35:34.236955",
     "exception": false,
     "start_time": "2025-09-25T09:35:34.217742",
     "status": "completed"
    },
    "tags": []
   },
   "outputs": [
    {
     "data": {
      "text/plain": [
       "1313"
      ]
     },
     "execution_count": 32,
     "metadata": {},
     "output_type": "execute_result"
    }
   ],
   "source": [
    "len(train_generator)"
   ]
  },
  {
   "cell_type": "markdown",
   "id": "fbc4e225",
   "metadata": {
    "id": "hW66EaXA4vnR",
    "papermill": {
     "duration": 0.010721,
     "end_time": "2025-09-25T09:35:34.259124",
     "exception": false,
     "start_time": "2025-09-25T09:35:34.248403",
     "status": "completed"
    },
    "tags": []
   },
   "source": [
    "## Creating and Training a CNN Model\n"
   ]
  },
  {
   "cell_type": "code",
   "execution_count": 33,
   "id": "7f0399db",
   "metadata": {
    "execution": {
     "iopub.execute_input": "2025-09-25T09:35:34.282082Z",
     "iopub.status.busy": "2025-09-25T09:35:34.281757Z",
     "iopub.status.idle": "2025-09-25T09:35:36.595002Z",
     "shell.execute_reply": "2025-09-25T09:35:36.594056Z"
    },
    "id": "4_diEvVc_-HH",
    "papermill": {
     "duration": 2.327259,
     "end_time": "2025-09-25T09:35:36.597182",
     "exception": false,
     "start_time": "2025-09-25T09:35:34.269923",
     "status": "completed"
    },
    "tags": []
   },
   "outputs": [],
   "source": [
    "cnn_model = models.Sequential([\n",
    "    # layers.Input((28, 28, 1)),\n",
    "\n",
    "    layers.Conv2D(filters = 32, kernel_size = (3, 3), activation = 'relu', input_shape = (28, 28, 1)),\n",
    "    # layers.Conv2D(filters = 32, kernel_size = (3, 3), activation = 'relu'),\n",
    "    layers.MaxPooling2D((2, 2)),\n",
    "    \n",
    "    layers.Conv2D(filters = 64, kernel_size = (3, 3), activation = 'relu'),\n",
    "    layers.MaxPooling2D((2, 2)),\n",
    "\n",
    "    # layers.Conv2D(filters = 64, kernel_size = (3, 3), activation = 'relu'),\n",
    "    # layers.MaxPooling2D((2, 2)),\n",
    "    \n",
    "    layers.Flatten(),\n",
    "    layers.Dense(units = 64, activation = 'relu'),\n",
    "    layers.Dropout(rate = 0.5),\n",
    "    layers.Dense(units = 10, activation = 'softmax')\n",
    "])"
   ]
  },
  {
   "cell_type": "code",
   "execution_count": 34,
   "id": "a82105d4",
   "metadata": {
    "execution": {
     "iopub.execute_input": "2025-09-25T09:35:36.623400Z",
     "iopub.status.busy": "2025-09-25T09:35:36.623114Z",
     "iopub.status.idle": "2025-09-25T09:35:36.647781Z",
     "shell.execute_reply": "2025-09-25T09:35:36.646829Z"
    },
    "executionInfo": {
     "elapsed": 34,
     "status": "ok",
     "timestamp": 1671821742979,
     "user": {
      "displayName": "1578_Avishek Chowdhury",
      "userId": "14734427622886483691"
     },
     "user_tz": -360
    },
    "id": "ATyz_NHT0GBM",
    "outputId": "35e43b94-4261-45f9-f030-d9567dbac002",
    "papermill": {
     "duration": 0.045644,
     "end_time": "2025-09-25T09:35:36.655289",
     "exception": false,
     "start_time": "2025-09-25T09:35:36.609645",
     "status": "completed"
    },
    "tags": []
   },
   "outputs": [
    {
     "name": "stdout",
     "output_type": "stream",
     "text": [
      "Model: \"sequential\"\n",
      "_________________________________________________________________\n",
      " Layer (type)                Output Shape              Param #   \n",
      "=================================================================\n",
      " conv2d (Conv2D)             (None, 26, 26, 32)        320       \n",
      "                                                                 \n",
      " max_pooling2d (MaxPooling2D  (None, 13, 13, 32)       0         \n",
      " )                                                               \n",
      "                                                                 \n",
      " conv2d_1 (Conv2D)           (None, 11, 11, 64)        18496     \n",
      "                                                                 \n",
      " max_pooling2d_1 (MaxPooling  (None, 5, 5, 64)         0         \n",
      " 2D)                                                             \n",
      "                                                                 \n",
      " flatten (Flatten)           (None, 1600)              0         \n",
      "                                                                 \n",
      " dense (Dense)               (None, 64)                102464    \n",
      "                                                                 \n",
      " dropout (Dropout)           (None, 64)                0         \n",
      "                                                                 \n",
      " dense_1 (Dense)             (None, 10)                650       \n",
      "                                                                 \n",
      "=================================================================\n",
      "Total params: 121,930\n",
      "Trainable params: 121,930\n",
      "Non-trainable params: 0\n",
      "_________________________________________________________________\n"
     ]
    }
   ],
   "source": [
    "cnn_model.summary()"
   ]
  },
  {
   "cell_type": "code",
   "execution_count": 35,
   "id": "2590901c",
   "metadata": {
    "execution": {
     "iopub.execute_input": "2025-09-25T09:35:36.681583Z",
     "iopub.status.busy": "2025-09-25T09:35:36.681310Z",
     "iopub.status.idle": "2025-09-25T09:35:36.685188Z",
     "shell.execute_reply": "2025-09-25T09:35:36.684506Z"
    },
    "papermill": {
     "duration": 0.01814,
     "end_time": "2025-09-25T09:35:36.686638",
     "exception": false,
     "start_time": "2025-09-25T09:35:36.668498",
     "status": "completed"
    },
    "tags": []
   },
   "outputs": [],
   "source": [
    "n_epoch = 100\n",
    "acc_callback = EarlyStopping(monitor = 'val_accuracy', verbose = 1, patience = 15, mode = 'max', restore_best_weights = True, start_from_epoch = 30)\n",
    "# loss_callback = EarlyStopping(monitor = 'val_loss', verbose = 1, patience = 15, mode = 'min', restore_best_weights = True, start_from_epoch = 30)"
   ]
  },
  {
   "cell_type": "code",
   "execution_count": 36,
   "id": "ded51952",
   "metadata": {
    "execution": {
     "iopub.execute_input": "2025-09-25T09:35:36.711183Z",
     "iopub.status.busy": "2025-09-25T09:35:36.710930Z",
     "iopub.status.idle": "2025-09-25T09:35:36.724649Z",
     "shell.execute_reply": "2025-09-25T09:35:36.724035Z"
    },
    "id": "KyFKGexVET4M",
    "papermill": {
     "duration": 0.027658,
     "end_time": "2025-09-25T09:35:36.726163",
     "exception": false,
     "start_time": "2025-09-25T09:35:36.698505",
     "status": "completed"
    },
    "tags": []
   },
   "outputs": [],
   "source": [
    "cnn_model.compile(loss = 'categorical_crossentropy', optimizer = 'adam', metrics = ['accuracy'])"
   ]
  },
  {
   "cell_type": "code",
   "execution_count": 37,
   "id": "fe4e3820",
   "metadata": {
    "execution": {
     "iopub.execute_input": "2025-09-25T09:35:36.750877Z",
     "iopub.status.busy": "2025-09-25T09:35:36.750654Z",
     "iopub.status.idle": "2025-09-25T09:46:09.691440Z",
     "shell.execute_reply": "2025-09-25T09:46:09.690399Z"
    },
    "executionInfo": {
     "elapsed": 298109,
     "status": "ok",
     "timestamp": 1671822041071,
     "user": {
      "displayName": "1578_Avishek Chowdhury",
      "userId": "14734427622886483691"
     },
     "user_tz": -360
    },
    "id": "358VdnTrAD0A",
    "outputId": "de3f648c-e3bc-4086-d485-b75379f07f5e",
    "papermill": {
     "duration": 632.955245,
     "end_time": "2025-09-25T09:46:09.693107",
     "exception": false,
     "start_time": "2025-09-25T09:35:36.737862",
     "status": "completed"
    },
    "tags": []
   },
   "outputs": [
    {
     "name": "stdout",
     "output_type": "stream",
     "text": [
      "Epoch 1/100\n",
      "1313/1313 [==============================] - 18s 10ms/step - loss: 0.6205 - accuracy: 0.8002 - val_loss: 0.1010 - val_accuracy: 0.9697\n",
      "Epoch 2/100\n",
      "1313/1313 [==============================] - 12s 9ms/step - loss: 0.2989 - accuracy: 0.9083 - val_loss: 0.0681 - val_accuracy: 0.9783\n",
      "Epoch 3/100\n",
      "1313/1313 [==============================] - 12s 9ms/step - loss: 0.2374 - accuracy: 0.9283 - val_loss: 0.0588 - val_accuracy: 0.9818\n",
      "Epoch 4/100\n",
      "1313/1313 [==============================] - 13s 10ms/step - loss: 0.1970 - accuracy: 0.9401 - val_loss: 0.0562 - val_accuracy: 0.9835\n",
      "Epoch 5/100\n",
      "1313/1313 [==============================] - 12s 9ms/step - loss: 0.1843 - accuracy: 0.9447 - val_loss: 0.0550 - val_accuracy: 0.9844\n",
      "Epoch 6/100\n",
      "1313/1313 [==============================] - 12s 9ms/step - loss: 0.1675 - accuracy: 0.9493 - val_loss: 0.0508 - val_accuracy: 0.9851\n",
      "Epoch 7/100\n",
      "1313/1313 [==============================] - 12s 9ms/step - loss: 0.1523 - accuracy: 0.9537 - val_loss: 0.0540 - val_accuracy: 0.9833\n",
      "Epoch 8/100\n",
      "1313/1313 [==============================] - 12s 9ms/step - loss: 0.1427 - accuracy: 0.9582 - val_loss: 0.0460 - val_accuracy: 0.9860\n",
      "Epoch 9/100\n",
      "1313/1313 [==============================] - 12s 9ms/step - loss: 0.1402 - accuracy: 0.9584 - val_loss: 0.0441 - val_accuracy: 0.9874\n",
      "Epoch 10/100\n",
      "1313/1313 [==============================] - 12s 9ms/step - loss: 0.1268 - accuracy: 0.9619 - val_loss: 0.0451 - val_accuracy: 0.9866\n",
      "Epoch 11/100\n",
      "1313/1313 [==============================] - 12s 9ms/step - loss: 0.1200 - accuracy: 0.9643 - val_loss: 0.0408 - val_accuracy: 0.9884\n",
      "Epoch 12/100\n",
      "1313/1313 [==============================] - 12s 9ms/step - loss: 0.1216 - accuracy: 0.9643 - val_loss: 0.0440 - val_accuracy: 0.9869\n",
      "Epoch 13/100\n",
      "1313/1313 [==============================] - 12s 9ms/step - loss: 0.1181 - accuracy: 0.9651 - val_loss: 0.0379 - val_accuracy: 0.9890\n",
      "Epoch 14/100\n",
      "1313/1313 [==============================] - 12s 9ms/step - loss: 0.1146 - accuracy: 0.9662 - val_loss: 0.0548 - val_accuracy: 0.9849\n",
      "Epoch 15/100\n",
      "1313/1313 [==============================] - 12s 9ms/step - loss: 0.1065 - accuracy: 0.9688 - val_loss: 0.0430 - val_accuracy: 0.9874\n",
      "Epoch 16/100\n",
      "1313/1313 [==============================] - 12s 9ms/step - loss: 0.1044 - accuracy: 0.9696 - val_loss: 0.0475 - val_accuracy: 0.9865\n",
      "Epoch 17/100\n",
      "1313/1313 [==============================] - 12s 9ms/step - loss: 0.1058 - accuracy: 0.9694 - val_loss: 0.0423 - val_accuracy: 0.9886\n",
      "Epoch 18/100\n",
      "1313/1313 [==============================] - 12s 9ms/step - loss: 0.1021 - accuracy: 0.9698 - val_loss: 0.0397 - val_accuracy: 0.9889\n",
      "Epoch 19/100\n",
      "1313/1313 [==============================] - 12s 9ms/step - loss: 0.1041 - accuracy: 0.9701 - val_loss: 0.0437 - val_accuracy: 0.9874\n",
      "Epoch 20/100\n",
      "1313/1313 [==============================] - 12s 9ms/step - loss: 0.0960 - accuracy: 0.9715 - val_loss: 0.0351 - val_accuracy: 0.9896\n",
      "Epoch 21/100\n",
      "1313/1313 [==============================] - 12s 9ms/step - loss: 0.0965 - accuracy: 0.9709 - val_loss: 0.0395 - val_accuracy: 0.9889\n",
      "Epoch 22/100\n",
      "1313/1313 [==============================] - 12s 9ms/step - loss: 0.0931 - accuracy: 0.9721 - val_loss: 0.0356 - val_accuracy: 0.9902\n",
      "Epoch 23/100\n",
      "1313/1313 [==============================] - 12s 9ms/step - loss: 0.0952 - accuracy: 0.9708 - val_loss: 0.0357 - val_accuracy: 0.9899\n",
      "Epoch 24/100\n",
      "1313/1313 [==============================] - 13s 10ms/step - loss: 0.0942 - accuracy: 0.9726 - val_loss: 0.0371 - val_accuracy: 0.9895\n",
      "Epoch 25/100\n",
      "1313/1313 [==============================] - 12s 9ms/step - loss: 0.0930 - accuracy: 0.9729 - val_loss: 0.0386 - val_accuracy: 0.9890\n",
      "Epoch 26/100\n",
      "1313/1313 [==============================] - 12s 9ms/step - loss: 0.0881 - accuracy: 0.9743 - val_loss: 0.0360 - val_accuracy: 0.9902\n",
      "Epoch 27/100\n",
      "1313/1313 [==============================] - 12s 9ms/step - loss: 0.0881 - accuracy: 0.9730 - val_loss: 0.0359 - val_accuracy: 0.9901\n",
      "Epoch 28/100\n",
      "1313/1313 [==============================] - 13s 10ms/step - loss: 0.0892 - accuracy: 0.9745 - val_loss: 0.0409 - val_accuracy: 0.9883\n",
      "Epoch 29/100\n",
      "1313/1313 [==============================] - 13s 10ms/step - loss: 0.0866 - accuracy: 0.9745 - val_loss: 0.0435 - val_accuracy: 0.9883\n",
      "Epoch 30/100\n",
      "1313/1313 [==============================] - 13s 10ms/step - loss: 0.0869 - accuracy: 0.9739 - val_loss: 0.0369 - val_accuracy: 0.9891\n",
      "Epoch 31/100\n",
      "1313/1313 [==============================] - 13s 10ms/step - loss: 0.0868 - accuracy: 0.9745 - val_loss: 0.0409 - val_accuracy: 0.9892\n",
      "Epoch 32/100\n",
      "1313/1313 [==============================] - 12s 9ms/step - loss: 0.0849 - accuracy: 0.9749 - val_loss: 0.0429 - val_accuracy: 0.9882\n",
      "Epoch 33/100\n",
      "1313/1313 [==============================] - 12s 9ms/step - loss: 0.0804 - accuracy: 0.9759 - val_loss: 0.0401 - val_accuracy: 0.9891\n",
      "Epoch 34/100\n",
      "1313/1313 [==============================] - 12s 9ms/step - loss: 0.0875 - accuracy: 0.9740 - val_loss: 0.0557 - val_accuracy: 0.9856\n",
      "Epoch 35/100\n",
      "1313/1313 [==============================] - 12s 9ms/step - loss: 0.0812 - accuracy: 0.9753 - val_loss: 0.0372 - val_accuracy: 0.9893\n",
      "Epoch 36/100\n",
      "1313/1313 [==============================] - 12s 9ms/step - loss: 0.0813 - accuracy: 0.9760 - val_loss: 0.0346 - val_accuracy: 0.9911\n",
      "Epoch 37/100\n",
      "1313/1313 [==============================] - 12s 9ms/step - loss: 0.0831 - accuracy: 0.9762 - val_loss: 0.0376 - val_accuracy: 0.9900\n",
      "Epoch 38/100\n",
      "1313/1313 [==============================] - 12s 9ms/step - loss: 0.0803 - accuracy: 0.9766 - val_loss: 0.0367 - val_accuracy: 0.9901\n",
      "Epoch 39/100\n",
      "1313/1313 [==============================] - 12s 9ms/step - loss: 0.0818 - accuracy: 0.9754 - val_loss: 0.0387 - val_accuracy: 0.9896\n",
      "Epoch 40/100\n",
      "1313/1313 [==============================] - 12s 9ms/step - loss: 0.0831 - accuracy: 0.9759 - val_loss: 0.0374 - val_accuracy: 0.9899\n",
      "Epoch 41/100\n",
      "1313/1313 [==============================] - 12s 9ms/step - loss: 0.0766 - accuracy: 0.9771 - val_loss: 0.0442 - val_accuracy: 0.9883\n",
      "Epoch 42/100\n",
      "1313/1313 [==============================] - 12s 9ms/step - loss: 0.0770 - accuracy: 0.9775 - val_loss: 0.0366 - val_accuracy: 0.9897\n",
      "Epoch 43/100\n",
      "1313/1313 [==============================] - 12s 9ms/step - loss: 0.0753 - accuracy: 0.9775 - val_loss: 0.0383 - val_accuracy: 0.9901\n",
      "Epoch 44/100\n",
      "1313/1313 [==============================] - 12s 9ms/step - loss: 0.0750 - accuracy: 0.9785 - val_loss: 0.0404 - val_accuracy: 0.9896\n",
      "Epoch 45/100\n",
      "1313/1313 [==============================] - 12s 9ms/step - loss: 0.0753 - accuracy: 0.9775 - val_loss: 0.0389 - val_accuracy: 0.9892\n",
      "Epoch 46/100\n",
      "1313/1313 [==============================] - 12s 9ms/step - loss: 0.0742 - accuracy: 0.9782 - val_loss: 0.0411 - val_accuracy: 0.9886\n",
      "Epoch 47/100\n",
      "1313/1313 [==============================] - 12s 9ms/step - loss: 0.0772 - accuracy: 0.9771 - val_loss: 0.0406 - val_accuracy: 0.9887\n",
      "Epoch 48/100\n",
      "1313/1313 [==============================] - 12s 9ms/step - loss: 0.0778 - accuracy: 0.9774 - val_loss: 0.0434 - val_accuracy: 0.9888\n",
      "Epoch 49/100\n",
      "1313/1313 [==============================] - 12s 9ms/step - loss: 0.0757 - accuracy: 0.9787 - val_loss: 0.0411 - val_accuracy: 0.9901\n",
      "Epoch 50/100\n",
      "1313/1313 [==============================] - 12s 9ms/step - loss: 0.0755 - accuracy: 0.9765 - val_loss: 0.0478 - val_accuracy: 0.9880\n",
      "Epoch 51/100\n",
      "1311/1313 [============================>.] - ETA: 0s - loss: 0.0726 - accuracy: 0.9782Restoring model weights from the end of the best epoch: 36.\n",
      "1313/1313 [==============================] - 12s 9ms/step - loss: 0.0727 - accuracy: 0.9781 - val_loss: 0.0408 - val_accuracy: 0.9893\n",
      "Epoch 51: early stopping\n"
     ]
    }
   ],
   "source": [
    "# hist = cnn_model.fit(X_train, y_train, validation_data = (X_val, y_val), epochs = n_epoch, callbacks = [acc_callback, loss_callback])\n",
    "hist = cnn_model.fit(train_generator, validation_data = (X_test, y_test), epochs = n_epoch, callbacks = acc_callback)"
   ]
  },
  {
   "cell_type": "code",
   "execution_count": 38,
   "id": "f5fe8072",
   "metadata": {
    "execution": {
     "iopub.execute_input": "2025-09-25T09:46:10.661684Z",
     "iopub.status.busy": "2025-09-25T09:46:10.661311Z",
     "iopub.status.idle": "2025-09-25T09:46:12.623376Z",
     "shell.execute_reply": "2025-09-25T09:46:12.622595Z"
    },
    "executionInfo": {
     "elapsed": 4769,
     "status": "ok",
     "timestamp": 1671822045807,
     "user": {
      "displayName": "1578_Avishek Chowdhury",
      "userId": "14734427622886483691"
     },
     "user_tz": -360
    },
    "id": "XejIje1UAHZK",
    "outputId": "c8a1acfe-b72d-49fb-8e6b-564a7b8ff1d3",
    "papermill": {
     "duration": 2.420722,
     "end_time": "2025-09-25T09:46:12.625033",
     "exception": false,
     "start_time": "2025-09-25T09:46:10.204311",
     "status": "completed"
    },
    "tags": []
   },
   "outputs": [
    {
     "name": "stdout",
     "output_type": "stream",
     "text": [
      "875/875 [==============================] - 2s 2ms/step - loss: 0.0346 - accuracy: 0.9911\n"
     ]
    }
   ],
   "source": [
    "# history_test = cnn_model.evaluate(X_val, y_val)\n",
    "history_test = cnn_model.evaluate(X_test, y_test)"
   ]
  },
  {
   "cell_type": "markdown",
   "id": "880591e7",
   "metadata": {
    "id": "4Qld_YmJ7gky",
    "papermill": {
     "duration": 0.504483,
     "end_time": "2025-09-25T09:46:13.586864",
     "exception": false,
     "start_time": "2025-09-25T09:46:13.082381",
     "status": "completed"
    },
    "tags": []
   },
   "source": [
    "## Making Predictions\n"
   ]
  },
  {
   "cell_type": "code",
   "execution_count": 39,
   "id": "ba27c6af",
   "metadata": {
    "execution": {
     "iopub.execute_input": "2025-09-25T09:46:14.554846Z",
     "iopub.status.busy": "2025-09-25T09:46:14.554471Z",
     "iopub.status.idle": "2025-09-25T09:46:17.599834Z",
     "shell.execute_reply": "2025-09-25T09:46:17.599010Z"
    },
    "executionInfo": {
     "elapsed": 5297,
     "status": "ok",
     "timestamp": 1671822051090,
     "user": {
      "displayName": "1578_Avishek Chowdhury",
      "userId": "14734427622886483691"
     },
     "user_tz": -360
    },
    "id": "oLpa4hLFAP1L",
    "outputId": "d920e500-8a65-4327-a693-2b075507235a",
    "papermill": {
     "duration": 3.551126,
     "end_time": "2025-09-25T09:46:17.601774",
     "exception": false,
     "start_time": "2025-09-25T09:46:14.050648",
     "status": "completed"
    },
    "tags": []
   },
   "outputs": [
    {
     "name": "stdout",
     "output_type": "stream",
     "text": [
      "1313/1313 [==============================] - 2s 1ms/step\n"
     ]
    }
   ],
   "source": [
    "# y_predicted_by_model = cnn_model.predict(X_test)\n",
    "y_predicted_by_model = cnn_model.predict(X_train)"
   ]
  },
  {
   "cell_type": "code",
   "execution_count": 40,
   "id": "dce6101d",
   "metadata": {
    "execution": {
     "iopub.execute_input": "2025-09-25T09:46:18.644440Z",
     "iopub.status.busy": "2025-09-25T09:46:18.644099Z",
     "iopub.status.idle": "2025-09-25T09:46:18.649271Z",
     "shell.execute_reply": "2025-09-25T09:46:18.648473Z"
    },
    "executionInfo": {
     "elapsed": 34,
     "status": "ok",
     "timestamp": 1671822051091,
     "user": {
      "displayName": "1578_Avishek Chowdhury",
      "userId": "14734427622886483691"
     },
     "user_tz": -360
    },
    "id": "xkKqRU1FBnFU",
    "outputId": "b5733896-ffff-4208-ba8b-b2301c1a909b",
    "papermill": {
     "duration": 0.538485,
     "end_time": "2025-09-25T09:46:18.651118",
     "exception": false,
     "start_time": "2025-09-25T09:46:18.112633",
     "status": "completed"
    },
    "tags": []
   },
   "outputs": [
    {
     "name": "stdout",
     "output_type": "stream",
     "text": [
      "[5.5322633e-17 1.0000000e+00 2.9556860e-11 7.9476817e-14 4.9226356e-10\n",
      " 5.0227114e-11 4.3465151e-10 2.2334127e-13 3.6393926e-11 1.7263602e-14]\n",
      "1\n"
     ]
    }
   ],
   "source": [
    "print(y_predicted_by_model[0])\n",
    "# print(\"\\n\")\n",
    "print(np.argmax(y_predicted_by_model[0]))"
   ]
  },
  {
   "cell_type": "code",
   "execution_count": 41,
   "id": "d143840d",
   "metadata": {
    "execution": {
     "iopub.execute_input": "2025-09-25T09:46:19.569710Z",
     "iopub.status.busy": "2025-09-25T09:46:19.569358Z",
     "iopub.status.idle": "2025-09-25T09:46:19.574643Z",
     "shell.execute_reply": "2025-09-25T09:46:19.573751Z"
    },
    "executionInfo": {
     "elapsed": 27,
     "status": "ok",
     "timestamp": 1671822051092,
     "user": {
      "displayName": "1578_Avishek Chowdhury",
      "userId": "14734427622886483691"
     },
     "user_tz": -360
    },
    "id": "6eEae5_K_9EG",
    "outputId": "09cd9aca-0e90-4113-e191-232de355c1d4",
    "papermill": {
     "duration": 0.466266,
     "end_time": "2025-09-25T09:46:19.576301",
     "exception": false,
     "start_time": "2025-09-25T09:46:19.110035",
     "status": "completed"
    },
    "tags": []
   },
   "outputs": [
    {
     "name": "stdout",
     "output_type": "stream",
     "text": [
      "1 0 1 4 0 "
     ]
    }
   ],
   "source": [
    "for i in range(5):\n",
    "  print(np.argmax(y_predicted_by_model[i]), end = ' ')"
   ]
  },
  {
   "cell_type": "code",
   "execution_count": 42,
   "id": "37dd32b2",
   "metadata": {
    "execution": {
     "iopub.execute_input": "2025-09-25T09:46:20.542656Z",
     "iopub.status.busy": "2025-09-25T09:46:20.542217Z",
     "iopub.status.idle": "2025-09-25T09:46:20.621955Z",
     "shell.execute_reply": "2025-09-25T09:46:20.621159Z"
    },
    "executionInfo": {
     "elapsed": 26,
     "status": "ok",
     "timestamp": 1671822051094,
     "user": {
      "displayName": "1578_Avishek Chowdhury",
      "userId": "14734427622886483691"
     },
     "user_tz": -360
    },
    "id": "_qw27t5EAWgA",
    "outputId": "8e1bcf4f-2417-49fb-80d5-45a679ad50a8",
    "papermill": {
     "duration": 0.542829,
     "end_time": "2025-09-25T09:46:20.623795",
     "exception": false,
     "start_time": "2025-09-25T09:46:20.080966",
     "status": "completed"
    },
    "tags": []
   },
   "outputs": [
    {
     "data": {
      "text/plain": [
       "[1, 0, 1, 4, 0]"
      ]
     },
     "execution_count": 42,
     "metadata": {},
     "output_type": "execute_result"
    }
   ],
   "source": [
    "y_predicted_labels = [np.argmax(i) for i in y_predicted_by_model]\n",
    "y_predicted_labels[:5]"
   ]
  },
  {
   "cell_type": "code",
   "execution_count": 43,
   "id": "808104a8",
   "metadata": {
    "execution": {
     "iopub.execute_input": "2025-09-25T09:46:21.589772Z",
     "iopub.status.busy": "2025-09-25T09:46:21.588804Z",
     "iopub.status.idle": "2025-09-25T09:46:21.594963Z",
     "shell.execute_reply": "2025-09-25T09:46:21.594121Z"
    },
    "papermill": {
     "duration": 0.464792,
     "end_time": "2025-09-25T09:46:21.596560",
     "exception": false,
     "start_time": "2025-09-25T09:46:21.131768",
     "status": "completed"
    },
    "tags": []
   },
   "outputs": [
    {
     "data": {
      "text/plain": [
       "array([[0, 1, 0, ..., 0, 0, 0],\n",
       "       [1, 0, 0, ..., 0, 0, 0],\n",
       "       [0, 1, 0, ..., 0, 0, 0],\n",
       "       ...,\n",
       "       [0, 0, 0, ..., 1, 0, 0],\n",
       "       [0, 0, 0, ..., 0, 0, 0],\n",
       "       [0, 0, 0, ..., 0, 0, 1]])"
      ]
     },
     "execution_count": 43,
     "metadata": {},
     "output_type": "execute_result"
    }
   ],
   "source": [
    "# y_test\n",
    "y_train"
   ]
  },
  {
   "cell_type": "code",
   "execution_count": 44,
   "id": "64f8fce6",
   "metadata": {
    "execution": {
     "iopub.execute_input": "2025-09-25T09:46:22.564505Z",
     "iopub.status.busy": "2025-09-25T09:46:22.564177Z",
     "iopub.status.idle": "2025-09-25T09:46:22.568299Z",
     "shell.execute_reply": "2025-09-25T09:46:22.567234Z"
    },
    "papermill": {
     "duration": 0.468979,
     "end_time": "2025-09-25T09:46:22.569895",
     "exception": false,
     "start_time": "2025-09-25T09:46:22.100916",
     "status": "completed"
    },
    "tags": []
   },
   "outputs": [],
   "source": [
    "# dataset_submission[\"Label\"] = y_predicted_labels\n",
    "# dataset_submission"
   ]
  },
  {
   "cell_type": "code",
   "execution_count": 45,
   "id": "ae75f34c",
   "metadata": {
    "execution": {
     "iopub.execute_input": "2025-09-25T09:46:23.535798Z",
     "iopub.status.busy": "2025-09-25T09:46:23.535347Z",
     "iopub.status.idle": "2025-09-25T09:46:23.539626Z",
     "shell.execute_reply": "2025-09-25T09:46:23.538773Z"
    },
    "papermill": {
     "duration": 0.466471,
     "end_time": "2025-09-25T09:46:23.541427",
     "exception": false,
     "start_time": "2025-09-25T09:46:23.074956",
     "status": "completed"
    },
    "tags": []
   },
   "outputs": [],
   "source": [
    "# dataset_submission.to_csv('submission.csv', index = False)"
   ]
  },
  {
   "cell_type": "markdown",
   "id": "3f86cfa3",
   "metadata": {
    "papermill": {
     "duration": 0.518136,
     "end_time": "2025-09-25T09:46:24.527571",
     "exception": false,
     "start_time": "2025-09-25T09:46:24.009435",
     "status": "completed"
    },
    "tags": []
   },
   "source": [
    "[Kaggle Notebook](https://www.kaggle.com/code/avishekchy1578/mnist-784-cnn-handwritten-digit-recognition)"
   ]
  }
 ],
 "metadata": {
  "kaggle": {
   "accelerator": "gpu",
   "dataSources": [
    {
     "databundleVersionId": 861823,
     "sourceId": 3004,
     "sourceType": "competition"
    },
    {
     "datasetId": 8332488,
     "sourceId": 13151246,
     "sourceType": "datasetVersion"
    }
   ],
   "dockerImageVersionId": 30528,
   "isGpuEnabled": true,
   "isInternetEnabled": true,
   "language": "python",
   "sourceType": "notebook"
  },
  "kernelspec": {
   "display_name": "Python 3",
   "language": "python",
   "name": "python3"
  },
  "language_info": {
   "codemirror_mode": {
    "name": "ipython",
    "version": 3
   },
   "file_extension": ".py",
   "mimetype": "text/x-python",
   "name": "python",
   "nbconvert_exporter": "python",
   "pygments_lexer": "ipython3",
   "version": "3.13.7"
  },
  "papermill": {
   "default_parameters": {},
   "duration": 679.976351,
   "end_time": "2025-09-25T09:46:27.669214",
   "environment_variables": {},
   "exception": null,
   "input_path": "__notebook__.ipynb",
   "output_path": "__notebook__.ipynb",
   "parameters": {},
   "start_time": "2025-09-25T09:35:07.692863",
   "version": "2.4.0"
  }
 },
 "nbformat": 4,
 "nbformat_minor": 5
}
