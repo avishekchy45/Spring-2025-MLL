{
 "cells": [
  {
   "cell_type": "markdown",
   "id": "9689e2d9",
   "metadata": {
    "id": "qHQuMV6VWYru",
    "papermill": {
     "duration": 0.017174,
     "end_time": "2024-04-07T20:27:02.045808",
     "exception": false,
     "start_time": "2024-04-07T20:27:02.028634",
     "status": "completed"
    },
    "tags": []
   },
   "source": [
    "## Mount Drive"
   ]
  },
  {
   "cell_type": "code",
   "execution_count": 141,
   "id": "a710da69",
   "metadata": {
    "execution": {
     "iopub.execute_input": "2025-09-27T21:05:05.991713Z",
     "iopub.status.busy": "2025-09-27T21:05:05.991431Z",
     "iopub.status.idle": "2025-09-27T21:05:05.995208Z",
     "shell.execute_reply": "2025-09-27T21:05:05.994432Z",
     "shell.execute_reply.started": "2025-09-27T21:05:05.991692Z"
    },
    "executionInfo": {
     "elapsed": 3617,
     "status": "ok",
     "timestamp": 1671903293198,
     "user": {
      "displayName": "1578_Avishek Chowdhury",
      "userId": "14734427622886483691"
     },
     "user_tz": -360
    },
    "id": "zt98eHYUWV-2",
    "outputId": "1c6b1f00-d6a3-4563-8d21-dd6617872a47",
    "papermill": {
     "duration": 0.023531,
     "end_time": "2024-04-07T20:27:02.086115",
     "exception": false,
     "start_time": "2024-04-07T20:27:02.062584",
     "status": "completed"
    },
    "tags": [],
    "trusted": true
   },
   "outputs": [],
   "source": [
    "# from google.colab import drive\n",
    "# drive.mount(\"/content/drive\")"
   ]
  },
  {
   "cell_type": "markdown",
   "id": "7cf707fb",
   "metadata": {
    "id": "Ud6hFF4rnhQK",
    "papermill": {
     "duration": 0.027215,
     "end_time": "2024-04-07T20:27:02.130740",
     "exception": false,
     "start_time": "2024-04-07T20:27:02.103525",
     "status": "completed"
    },
    "tags": []
   },
   "source": [
    "## Importing Packages"
   ]
  },
  {
   "cell_type": "code",
   "execution_count": 142,
   "id": "3de9ed7e",
   "metadata": {
    "execution": {
     "iopub.execute_input": "2025-09-27T21:05:25.360856Z",
     "iopub.status.busy": "2025-09-27T21:05:25.360248Z",
     "iopub.status.idle": "2025-09-27T21:05:25.366022Z",
     "shell.execute_reply": "2025-09-27T21:05:25.365394Z",
     "shell.execute_reply.started": "2025-09-27T21:05:25.360821Z"
    },
    "id": "RfU8VXwvngn0",
    "papermill": {
     "duration": 13.863858,
     "end_time": "2024-04-07T20:27:16.011295",
     "exception": false,
     "start_time": "2024-04-07T20:27:02.147437",
     "status": "completed"
    },
    "tags": [],
    "trusted": true
   },
   "outputs": [],
   "source": [
    "# Fetching Dataset\n",
    "import pandas as pd\n",
    "\n",
    "# Reading Image\n",
    "import os\n",
    "import cv2 as cv\n",
    "import matplotlib.pyplot as plt\n",
    "\n",
    "# Scaling Features\n",
    "from sklearn.preprocessing import MinMaxScaler\n",
    "\n",
    "# Binarizing Output\n",
    "from sklearn.preprocessing import LabelBinarizer\n",
    "\n",
    "# Spliting Train & Test Set\n",
    "from sklearn.model_selection import train_test_split\n",
    "\n",
    "# Image Augmentation\n",
    "from tensorflow.keras.preprocessing.image import ImageDataGenerator\n",
    "\n",
    "# Creating and Training Model\n",
    "from tensorflow.keras import layers, models\n",
    "from tensorflow.keras.callbacks import EarlyStopping\n",
    "from tensorflow.keras.applications import ResNet50, ResNet152\n",
    "\n",
    "# Evaluating Model\n",
    "from sklearn.metrics import (classification_report, multilabel_confusion_matrix, confusion_matrix)\n",
    "import seaborn as sb\n",
    "import matplotlib.pyplot as plt\n",
    "\n",
    "# Making Predictions\n",
    "import numpy as np"
   ]
  },
  {
   "cell_type": "markdown",
   "id": "ecfba56d",
   "metadata": {
    "id": "DOoaGBDk-FU_",
    "papermill": {
     "duration": 0.016727,
     "end_time": "2024-04-07T20:27:16.045558",
     "exception": false,
     "start_time": "2024-04-07T20:27:16.028831",
     "status": "completed"
    },
    "tags": []
   },
   "source": [
    "## Fetching Dataset"
   ]
  },
  {
   "cell_type": "code",
   "execution_count": 143,
   "id": "a887af47",
   "metadata": {
    "execution": {
     "iopub.execute_input": "2025-09-27T21:05:25.367311Z",
     "iopub.status.busy": "2025-09-27T21:05:25.367085Z",
     "iopub.status.idle": "2025-09-27T21:05:25.386240Z",
     "shell.execute_reply": "2025-09-27T21:05:25.385624Z",
     "shell.execute_reply.started": "2025-09-27T21:05:25.367289Z"
    },
    "trusted": true
   },
   "outputs": [],
   "source": [
    "dataset_train = pd.DataFrame(columns = ['Filename', 'Class'])\n",
    "dataset_test = pd.DataFrame(columns = ['Filename', 'Class'])"
   ]
  },
  {
   "cell_type": "code",
   "execution_count": 144,
   "id": "e4e8fb7e",
   "metadata": {
    "execution": {
     "iopub.execute_input": "2025-09-27T21:05:25.387387Z",
     "iopub.status.busy": "2025-09-27T21:05:25.387139Z",
     "iopub.status.idle": "2025-09-27T21:05:25.406033Z",
     "shell.execute_reply": "2025-09-27T21:05:25.405367Z",
     "shell.execute_reply.started": "2025-09-27T21:05:25.387372Z"
    },
    "trusted": true
   },
   "outputs": [
    {
     "data": {
      "text/html": [
       "<div>\n",
       "<style scoped>\n",
       "    .dataframe tbody tr th:only-of-type {\n",
       "        vertical-align: middle;\n",
       "    }\n",
       "\n",
       "    .dataframe tbody tr th {\n",
       "        vertical-align: top;\n",
       "    }\n",
       "\n",
       "    .dataframe thead th {\n",
       "        text-align: right;\n",
       "    }\n",
       "</style>\n",
       "<table border=\"1\" class=\"dataframe\">\n",
       "  <thead>\n",
       "    <tr style=\"text-align: right;\">\n",
       "      <th></th>\n",
       "      <th>Filename</th>\n",
       "      <th>Class</th>\n",
       "    </tr>\n",
       "  </thead>\n",
       "  <tbody>\n",
       "  </tbody>\n",
       "</table>\n",
       "</div>"
      ],
      "text/plain": [
       "Empty DataFrame\n",
       "Columns: [Filename, Class]\n",
       "Index: []"
      ]
     },
     "execution_count": 144,
     "metadata": {},
     "output_type": "execute_result"
    }
   ],
   "source": [
    "dataset_train"
   ]
  },
  {
   "cell_type": "code",
   "execution_count": 145,
   "id": "14d9797a",
   "metadata": {
    "execution": {
     "iopub.execute_input": "2025-09-27T21:05:25.407225Z",
     "iopub.status.busy": "2025-09-27T21:05:25.406981Z",
     "iopub.status.idle": "2025-09-27T21:05:25.426204Z",
     "shell.execute_reply": "2025-09-27T21:05:25.425500Z",
     "shell.execute_reply.started": "2025-09-27T21:05:25.407205Z"
    },
    "trusted": true
   },
   "outputs": [
    {
     "data": {
      "text/html": [
       "<div>\n",
       "<style scoped>\n",
       "    .dataframe tbody tr th:only-of-type {\n",
       "        vertical-align: middle;\n",
       "    }\n",
       "\n",
       "    .dataframe tbody tr th {\n",
       "        vertical-align: top;\n",
       "    }\n",
       "\n",
       "    .dataframe thead th {\n",
       "        text-align: right;\n",
       "    }\n",
       "</style>\n",
       "<table border=\"1\" class=\"dataframe\">\n",
       "  <thead>\n",
       "    <tr style=\"text-align: right;\">\n",
       "      <th></th>\n",
       "      <th>Filename</th>\n",
       "      <th>Class</th>\n",
       "    </tr>\n",
       "  </thead>\n",
       "  <tbody>\n",
       "  </tbody>\n",
       "</table>\n",
       "</div>"
      ],
      "text/plain": [
       "Empty DataFrame\n",
       "Columns: [Filename, Class]\n",
       "Index: []"
      ]
     },
     "execution_count": 145,
     "metadata": {},
     "output_type": "execute_result"
    }
   ],
   "source": [
    "dataset_test"
   ]
  },
  {
   "cell_type": "code",
   "execution_count": 146,
   "id": "406ba6b7",
   "metadata": {
    "execution": {
     "iopub.execute_input": "2025-09-27T21:05:25.427083Z",
     "iopub.status.busy": "2025-09-27T21:05:25.426858Z",
     "iopub.status.idle": "2025-09-27T21:05:25.496741Z",
     "shell.execute_reply": "2025-09-27T21:05:25.496075Z",
     "shell.execute_reply.started": "2025-09-27T21:05:25.427063Z"
    },
    "trusted": true
   },
   "outputs": [
    {
     "data": {
      "text/plain": [
       "['airplane',\n",
       " 'horse',\n",
       " 'truck',\n",
       " 'automobile',\n",
       " 'ship',\n",
       " 'dog',\n",
       " 'bird',\n",
       " 'frog',\n",
       " 'cat',\n",
       " 'deer']"
      ]
     },
     "execution_count": 146,
     "metadata": {},
     "output_type": "execute_result"
    }
   ],
   "source": [
    "dataset_dir = '/kaggle/input/cifar10/cifar10/'\n",
    "# dataset_dir = '/Datasets/cifar10/'\n",
    "train_dataset_dir = dataset_dir + 'train/'\n",
    "test_dataset_dir = dataset_dir + 'test/'\n",
    "class_names = os.listdir(train_dataset_dir)\n",
    "class_names"
   ]
  },
  {
   "cell_type": "code",
   "execution_count": 147,
   "id": "b690105a",
   "metadata": {
    "execution": {
     "iopub.execute_input": "2025-09-27T21:05:25.498189Z",
     "iopub.status.busy": "2025-09-27T21:05:25.498004Z",
     "iopub.status.idle": "2025-09-27T21:06:24.044393Z",
     "shell.execute_reply": "2025-09-27T21:06:24.043690Z",
     "shell.execute_reply.started": "2025-09-27T21:05:25.498175Z"
    },
    "id": "_bPX1QuDWDmS",
    "papermill": {
     "duration": 0.222835,
     "end_time": "2024-04-07T20:27:16.285082",
     "exception": false,
     "start_time": "2024-04-07T20:27:16.062247",
     "status": "completed"
    },
    "tags": [],
    "trusted": true
   },
   "outputs": [
    {
     "name": "stdout",
     "output_type": "stream",
     "text": [
      "Files and directories in ' /kaggle/input/cifar10/cifar10/train/airplane ' : 5000\n",
      "Files and directories in ' /kaggle/input/cifar10/cifar10/train/horse ' : 5000\n",
      "Files and directories in ' /kaggle/input/cifar10/cifar10/train/truck ' : 5000\n",
      "Files and directories in ' /kaggle/input/cifar10/cifar10/train/automobile ' : 5000\n",
      "Files and directories in ' /kaggle/input/cifar10/cifar10/train/ship ' : 5000\n",
      "Files and directories in ' /kaggle/input/cifar10/cifar10/train/dog ' : 5000\n",
      "Files and directories in ' /kaggle/input/cifar10/cifar10/train/bird ' : 5000\n",
      "Files and directories in ' /kaggle/input/cifar10/cifar10/train/frog ' : 5000\n",
      "Files and directories in ' /kaggle/input/cifar10/cifar10/train/cat ' : 5000\n",
      "Files and directories in ' /kaggle/input/cifar10/cifar10/train/deer ' : 5000\n"
     ]
    }
   ],
   "source": [
    "for i, class_name in enumerate(class_names):\n",
    "  # filenames = train_dataset_dir + dis\n",
    "  file_dir = os.path.join(train_dataset_dir, class_name)\n",
    "  file_list = os.listdir(file_dir)\n",
    "  for j, filename in enumerate(file_list):\n",
    "    # print(dis)\n",
    "    dataset_train.loc[len(dataset_train.index)] = [filename, class_name]\n",
    "  print(\"Files and directories in '\", file_dir, \"' :\", j+1)"
   ]
  },
  {
   "cell_type": "code",
   "execution_count": 148,
   "id": "0aeafc33-ac6a-4ace-a7c4-d9aa259aac33",
   "metadata": {
    "execution": {
     "iopub.execute_input": "2025-09-27T21:06:24.045341Z",
     "iopub.status.busy": "2025-09-27T21:06:24.045111Z",
     "iopub.status.idle": "2025-09-27T21:06:30.720157Z",
     "shell.execute_reply": "2025-09-27T21:06:30.719455Z",
     "shell.execute_reply.started": "2025-09-27T21:06:24.045316Z"
    },
    "trusted": true
   },
   "outputs": [
    {
     "name": "stdout",
     "output_type": "stream",
     "text": [
      "Files and directories in ' /kaggle/input/cifar10/cifar10/test/airplane ' : 1000\n",
      "Files and directories in ' /kaggle/input/cifar10/cifar10/test/horse ' : 1000\n",
      "Files and directories in ' /kaggle/input/cifar10/cifar10/test/truck ' : 1000\n",
      "Files and directories in ' /kaggle/input/cifar10/cifar10/test/automobile ' : 1000\n",
      "Files and directories in ' /kaggle/input/cifar10/cifar10/test/ship ' : 1000\n",
      "Files and directories in ' /kaggle/input/cifar10/cifar10/test/dog ' : 1000\n",
      "Files and directories in ' /kaggle/input/cifar10/cifar10/test/bird ' : 1000\n",
      "Files and directories in ' /kaggle/input/cifar10/cifar10/test/frog ' : 1000\n",
      "Files and directories in ' /kaggle/input/cifar10/cifar10/test/cat ' : 1000\n",
      "Files and directories in ' /kaggle/input/cifar10/cifar10/test/deer ' : 1000\n"
     ]
    }
   ],
   "source": [
    "for i, class_name in enumerate(class_names):\n",
    "  # filenames = test_dataset_dir + dis\n",
    "  file_dir = os.path.join(test_dataset_dir, class_name)\n",
    "  file_list = os.listdir(file_dir)\n",
    "  for j, filename in enumerate(file_list):\n",
    "    # print(dis)\n",
    "    dataset_test.loc[len(dataset_test.index)] = [filename, class_name]\n",
    "  print(\"Files and directories in '\", file_dir, \"' :\", j+1)"
   ]
  },
  {
   "cell_type": "code",
   "execution_count": 149,
   "id": "b9c48650",
   "metadata": {
    "execution": {
     "iopub.execute_input": "2025-09-27T21:06:30.721004Z",
     "iopub.status.busy": "2025-09-27T21:06:30.720829Z",
     "iopub.status.idle": "2025-09-27T21:06:30.728667Z",
     "shell.execute_reply": "2025-09-27T21:06:30.727997Z",
     "shell.execute_reply.started": "2025-09-27T21:06:30.720989Z"
    },
    "papermill": {
     "duration": 0.034506,
     "end_time": "2024-04-07T20:27:16.393709",
     "exception": false,
     "start_time": "2024-04-07T20:27:16.359203",
     "status": "completed"
    },
    "tags": [],
    "trusted": true
   },
   "outputs": [
    {
     "data": {
      "text/html": [
       "<div>\n",
       "<style scoped>\n",
       "    .dataframe tbody tr th:only-of-type {\n",
       "        vertical-align: middle;\n",
       "    }\n",
       "\n",
       "    .dataframe tbody tr th {\n",
       "        vertical-align: top;\n",
       "    }\n",
       "\n",
       "    .dataframe thead th {\n",
       "        text-align: right;\n",
       "    }\n",
       "</style>\n",
       "<table border=\"1\" class=\"dataframe\">\n",
       "  <thead>\n",
       "    <tr style=\"text-align: right;\">\n",
       "      <th></th>\n",
       "      <th>Filename</th>\n",
       "      <th>Class</th>\n",
       "    </tr>\n",
       "  </thead>\n",
       "  <tbody>\n",
       "    <tr>\n",
       "      <th>0</th>\n",
       "      <td>0566.png</td>\n",
       "      <td>airplane</td>\n",
       "    </tr>\n",
       "    <tr>\n",
       "      <th>1</th>\n",
       "      <td>4353.png</td>\n",
       "      <td>airplane</td>\n",
       "    </tr>\n",
       "    <tr>\n",
       "      <th>2</th>\n",
       "      <td>2664.png</td>\n",
       "      <td>airplane</td>\n",
       "    </tr>\n",
       "    <tr>\n",
       "      <th>3</th>\n",
       "      <td>0115.png</td>\n",
       "      <td>airplane</td>\n",
       "    </tr>\n",
       "    <tr>\n",
       "      <th>4</th>\n",
       "      <td>2539.png</td>\n",
       "      <td>airplane</td>\n",
       "    </tr>\n",
       "    <tr>\n",
       "      <th>...</th>\n",
       "      <td>...</td>\n",
       "      <td>...</td>\n",
       "    </tr>\n",
       "    <tr>\n",
       "      <th>49995</th>\n",
       "      <td>2392.png</td>\n",
       "      <td>deer</td>\n",
       "    </tr>\n",
       "    <tr>\n",
       "      <th>49996</th>\n",
       "      <td>3926.png</td>\n",
       "      <td>deer</td>\n",
       "    </tr>\n",
       "    <tr>\n",
       "      <th>49997</th>\n",
       "      <td>4225.png</td>\n",
       "      <td>deer</td>\n",
       "    </tr>\n",
       "    <tr>\n",
       "      <th>49998</th>\n",
       "      <td>2995.png</td>\n",
       "      <td>deer</td>\n",
       "    </tr>\n",
       "    <tr>\n",
       "      <th>49999</th>\n",
       "      <td>4164.png</td>\n",
       "      <td>deer</td>\n",
       "    </tr>\n",
       "  </tbody>\n",
       "</table>\n",
       "<p>50000 rows × 2 columns</p>\n",
       "</div>"
      ],
      "text/plain": [
       "       Filename     Class\n",
       "0      0566.png  airplane\n",
       "1      4353.png  airplane\n",
       "2      2664.png  airplane\n",
       "3      0115.png  airplane\n",
       "4      2539.png  airplane\n",
       "...         ...       ...\n",
       "49995  2392.png      deer\n",
       "49996  3926.png      deer\n",
       "49997  4225.png      deer\n",
       "49998  2995.png      deer\n",
       "49999  4164.png      deer\n",
       "\n",
       "[50000 rows x 2 columns]"
      ]
     },
     "execution_count": 149,
     "metadata": {},
     "output_type": "execute_result"
    }
   ],
   "source": [
    "dataset_train"
   ]
  },
  {
   "cell_type": "code",
   "execution_count": 150,
   "id": "4fc15922",
   "metadata": {
    "execution": {
     "iopub.execute_input": "2025-09-27T21:06:30.729704Z",
     "iopub.status.busy": "2025-09-27T21:06:30.729367Z",
     "iopub.status.idle": "2025-09-27T21:06:30.747849Z",
     "shell.execute_reply": "2025-09-27T21:06:30.747181Z",
     "shell.execute_reply.started": "2025-09-27T21:06:30.729676Z"
    },
    "papermill": {
     "duration": 0.030548,
     "end_time": "2024-04-07T20:27:16.487306",
     "exception": false,
     "start_time": "2024-04-07T20:27:16.456758",
     "status": "completed"
    },
    "tags": [],
    "trusted": true
   },
   "outputs": [
    {
     "data": {
      "text/html": [
       "<div>\n",
       "<style scoped>\n",
       "    .dataframe tbody tr th:only-of-type {\n",
       "        vertical-align: middle;\n",
       "    }\n",
       "\n",
       "    .dataframe tbody tr th {\n",
       "        vertical-align: top;\n",
       "    }\n",
       "\n",
       "    .dataframe thead th {\n",
       "        text-align: right;\n",
       "    }\n",
       "</style>\n",
       "<table border=\"1\" class=\"dataframe\">\n",
       "  <thead>\n",
       "    <tr style=\"text-align: right;\">\n",
       "      <th></th>\n",
       "      <th>Filename</th>\n",
       "      <th>Class</th>\n",
       "    </tr>\n",
       "  </thead>\n",
       "  <tbody>\n",
       "    <tr>\n",
       "      <th>0</th>\n",
       "      <td>0566.png</td>\n",
       "      <td>airplane</td>\n",
       "    </tr>\n",
       "    <tr>\n",
       "      <th>1</th>\n",
       "      <td>0115.png</td>\n",
       "      <td>airplane</td>\n",
       "    </tr>\n",
       "    <tr>\n",
       "      <th>2</th>\n",
       "      <td>0050.png</td>\n",
       "      <td>airplane</td>\n",
       "    </tr>\n",
       "    <tr>\n",
       "      <th>3</th>\n",
       "      <td>0501.png</td>\n",
       "      <td>airplane</td>\n",
       "    </tr>\n",
       "    <tr>\n",
       "      <th>4</th>\n",
       "      <td>0263.png</td>\n",
       "      <td>airplane</td>\n",
       "    </tr>\n",
       "    <tr>\n",
       "      <th>...</th>\n",
       "      <td>...</td>\n",
       "      <td>...</td>\n",
       "    </tr>\n",
       "    <tr>\n",
       "      <th>9995</th>\n",
       "      <td>0931.png</td>\n",
       "      <td>deer</td>\n",
       "    </tr>\n",
       "    <tr>\n",
       "      <th>9996</th>\n",
       "      <td>0222.png</td>\n",
       "      <td>deer</td>\n",
       "    </tr>\n",
       "    <tr>\n",
       "      <th>9997</th>\n",
       "      <td>0672.png</td>\n",
       "      <td>deer</td>\n",
       "    </tr>\n",
       "    <tr>\n",
       "      <th>9998</th>\n",
       "      <td>0544.png</td>\n",
       "      <td>deer</td>\n",
       "    </tr>\n",
       "    <tr>\n",
       "      <th>9999</th>\n",
       "      <td>0575.png</td>\n",
       "      <td>deer</td>\n",
       "    </tr>\n",
       "  </tbody>\n",
       "</table>\n",
       "<p>10000 rows × 2 columns</p>\n",
       "</div>"
      ],
      "text/plain": [
       "      Filename     Class\n",
       "0     0566.png  airplane\n",
       "1     0115.png  airplane\n",
       "2     0050.png  airplane\n",
       "3     0501.png  airplane\n",
       "4     0263.png  airplane\n",
       "...        ...       ...\n",
       "9995  0931.png      deer\n",
       "9996  0222.png      deer\n",
       "9997  0672.png      deer\n",
       "9998  0544.png      deer\n",
       "9999  0575.png      deer\n",
       "\n",
       "[10000 rows x 2 columns]"
      ]
     },
     "execution_count": 150,
     "metadata": {},
     "output_type": "execute_result"
    }
   ],
   "source": [
    "dataset_test"
   ]
  },
  {
   "cell_type": "code",
   "execution_count": 151,
   "id": "2ad980f0",
   "metadata": {
    "execution": {
     "iopub.execute_input": "2025-09-27T21:06:30.749866Z",
     "iopub.status.busy": "2025-09-27T21:06:30.749668Z",
     "iopub.status.idle": "2025-09-27T21:06:30.767724Z",
     "shell.execute_reply": "2025-09-27T21:06:30.767184Z",
     "shell.execute_reply.started": "2025-09-27T21:06:30.749851Z"
    },
    "id": "QJxZ0txo1g00",
    "papermill": {
     "duration": 0.028917,
     "end_time": "2024-04-07T20:27:35.260395",
     "exception": false,
     "start_time": "2024-04-07T20:27:35.231478",
     "status": "completed"
    },
    "tags": [],
    "trusted": true
   },
   "outputs": [],
   "source": [
    "X_train = dataset_train.loc[:, 'Filename'].values\n",
    "X_test = dataset_test.loc[:, 'Filename'].values\n",
    "y_train = dataset_train.loc[:, 'Class'].values\n",
    "y_test = dataset_test.loc[:, 'Class'].values"
   ]
  },
  {
   "cell_type": "code",
   "execution_count": 152,
   "id": "6c7eef55",
   "metadata": {
    "execution": {
     "iopub.execute_input": "2025-09-27T21:06:30.768538Z",
     "iopub.status.busy": "2025-09-27T21:06:30.768332Z",
     "iopub.status.idle": "2025-09-27T21:06:30.785278Z",
     "shell.execute_reply": "2025-09-27T21:06:30.784625Z",
     "shell.execute_reply.started": "2025-09-27T21:06:30.768523Z"
    },
    "papermill": {
     "duration": 0.025766,
     "end_time": "2024-04-07T20:27:35.303712",
     "exception": false,
     "start_time": "2024-04-07T20:27:35.277946",
     "status": "completed"
    },
    "tags": [],
    "trusted": true
   },
   "outputs": [
    {
     "data": {
      "text/plain": [
       "array(['0566.png', '4353.png', '2664.png', ..., '4225.png', '2995.png',\n",
       "       '4164.png'], dtype=object)"
      ]
     },
     "execution_count": 152,
     "metadata": {},
     "output_type": "execute_result"
    }
   ],
   "source": [
    "X_train"
   ]
  },
  {
   "cell_type": "code",
   "execution_count": 153,
   "id": "015161a7",
   "metadata": {
    "execution": {
     "iopub.execute_input": "2025-09-27T21:06:30.786747Z",
     "iopub.status.busy": "2025-09-27T21:06:30.785971Z",
     "iopub.status.idle": "2025-09-27T21:06:30.805655Z",
     "shell.execute_reply": "2025-09-27T21:06:30.805106Z",
     "shell.execute_reply.started": "2025-09-27T21:06:30.786725Z"
    },
    "papermill": {
     "duration": 0.026128,
     "end_time": "2024-04-07T20:27:35.347223",
     "exception": false,
     "start_time": "2024-04-07T20:27:35.321095",
     "status": "completed"
    },
    "tags": [],
    "trusted": true
   },
   "outputs": [
    {
     "data": {
      "text/plain": [
       "array(['0566.png', '0115.png', '0050.png', ..., '0672.png', '0544.png',\n",
       "       '0575.png'], dtype=object)"
      ]
     },
     "execution_count": 153,
     "metadata": {},
     "output_type": "execute_result"
    }
   ],
   "source": [
    "X_test"
   ]
  },
  {
   "cell_type": "code",
   "execution_count": 154,
   "id": "622c3eac",
   "metadata": {
    "execution": {
     "iopub.execute_input": "2025-09-27T21:06:30.806560Z",
     "iopub.status.busy": "2025-09-27T21:06:30.806347Z",
     "iopub.status.idle": "2025-09-27T21:06:30.822980Z",
     "shell.execute_reply": "2025-09-27T21:06:30.822339Z",
     "shell.execute_reply.started": "2025-09-27T21:06:30.806535Z"
    },
    "papermill": {
     "duration": 0.02646,
     "end_time": "2024-04-07T20:27:35.391291",
     "exception": false,
     "start_time": "2024-04-07T20:27:35.364831",
     "status": "completed"
    },
    "tags": [],
    "trusted": true
   },
   "outputs": [
    {
     "data": {
      "text/plain": [
       "array(['airplane', 'airplane', 'airplane', ..., 'deer', 'deer', 'deer'],\n",
       "      dtype=object)"
      ]
     },
     "execution_count": 154,
     "metadata": {},
     "output_type": "execute_result"
    }
   ],
   "source": [
    "y_train"
   ]
  },
  {
   "cell_type": "code",
   "execution_count": 155,
   "id": "30650689-79e9-400f-ae25-836bf5a4f770",
   "metadata": {
    "execution": {
     "iopub.execute_input": "2025-09-27T21:06:30.823814Z",
     "iopub.status.busy": "2025-09-27T21:06:30.823568Z",
     "iopub.status.idle": "2025-09-27T21:06:30.841524Z",
     "shell.execute_reply": "2025-09-27T21:06:30.840884Z",
     "shell.execute_reply.started": "2025-09-27T21:06:30.823794Z"
    },
    "trusted": true
   },
   "outputs": [
    {
     "data": {
      "text/plain": [
       "array(['airplane', 'airplane', 'airplane', ..., 'deer', 'deer', 'deer'],\n",
       "      dtype=object)"
      ]
     },
     "execution_count": 155,
     "metadata": {},
     "output_type": "execute_result"
    }
   ],
   "source": [
    "y_test"
   ]
  },
  {
   "cell_type": "code",
   "execution_count": 156,
   "id": "bcf4bcec",
   "metadata": {
    "execution": {
     "iopub.execute_input": "2025-09-27T21:06:30.842446Z",
     "iopub.status.busy": "2025-09-27T21:06:30.842263Z",
     "iopub.status.idle": "2025-09-27T21:06:30.856474Z",
     "shell.execute_reply": "2025-09-27T21:06:30.855810Z",
     "shell.execute_reply.started": "2025-09-27T21:06:30.842431Z"
    },
    "executionInfo": {
     "elapsed": 43,
     "status": "ok",
     "timestamp": 1671903293915,
     "user": {
      "displayName": "1578_Avishek Chowdhury",
      "userId": "14734427622886483691"
     },
     "user_tz": -360
    },
    "id": "d3RIocGkmY7a",
    "outputId": "f04ca66c-a98e-4542-8723-319185e5eb5f",
    "papermill": {
     "duration": 0.02525,
     "end_time": "2024-04-07T20:27:35.434872",
     "exception": false,
     "start_time": "2024-04-07T20:27:35.409622",
     "status": "completed"
    },
    "tags": [],
    "trusted": true
   },
   "outputs": [
    {
     "name": "stdout",
     "output_type": "stream",
     "text": [
      "(50000,)\n",
      "(10000,)\n",
      "(50000,)\n",
      "(10000,)\n"
     ]
    }
   ],
   "source": [
    "print(X_train.shape)\n",
    "print(X_test.shape)\n",
    "print(y_train.shape)\n",
    "print(y_test.shape)"
   ]
  },
  {
   "cell_type": "markdown",
   "id": "78899f52",
   "metadata": {
    "id": "OC7pi_STnmM_",
    "papermill": {
     "duration": 0.018052,
     "end_time": "2024-04-07T20:27:35.520608",
     "exception": false,
     "start_time": "2024-04-07T20:27:35.502556",
     "status": "completed"
    },
    "tags": []
   },
   "source": [
    "## Reading & Preprocessing Image"
   ]
  },
  {
   "cell_type": "code",
   "execution_count": 157,
   "id": "b9ac466a",
   "metadata": {
    "execution": {
     "iopub.execute_input": "2025-09-27T21:06:30.857323Z",
     "iopub.status.busy": "2025-09-27T21:06:30.857148Z",
     "iopub.status.idle": "2025-09-27T21:06:30.871680Z",
     "shell.execute_reply": "2025-09-27T21:06:30.871100Z",
     "shell.execute_reply.started": "2025-09-27T21:06:30.857309Z"
    },
    "id": "3LKOqFRYnGbZ",
    "papermill": {
     "duration": 0.025145,
     "end_time": "2024-04-07T20:27:35.563554",
     "exception": false,
     "start_time": "2024-04-07T20:27:35.538409",
     "status": "completed"
    },
    "tags": [],
    "trusted": true
   },
   "outputs": [],
   "source": [
    "IMG_SIZE = 32 # Same Height and Width is being used\n",
    "x_train_data = np.empty((len(X_train), IMG_SIZE, IMG_SIZE, 3), dtype = np.int64)\n",
    "x_test_data = np.empty((len(X_test), IMG_SIZE, IMG_SIZE, 3), dtype = np.int64)"
   ]
  },
  {
   "cell_type": "code",
   "execution_count": 158,
   "id": "f82dfaa6",
   "metadata": {
    "execution": {
     "iopub.execute_input": "2025-09-27T21:06:30.872889Z",
     "iopub.status.busy": "2025-09-27T21:06:30.872538Z",
     "iopub.status.idle": "2025-09-27T21:06:30.891931Z",
     "shell.execute_reply": "2025-09-27T21:06:30.891378Z",
     "shell.execute_reply.started": "2025-09-27T21:06:30.872865Z"
    },
    "executionInfo": {
     "elapsed": 34,
     "status": "ok",
     "timestamp": 1671903293917,
     "user": {
      "displayName": "1578_Avishek Chowdhury",
      "userId": "14734427622886483691"
     },
     "user_tz": -360
    },
    "id": "Ni0FKIEgn237",
    "outputId": "f7326934-6e1f-49d1-a0cb-4e3266851426",
    "papermill": {
     "duration": 0.06676,
     "end_time": "2024-04-07T20:27:35.648210",
     "exception": false,
     "start_time": "2024-04-07T20:27:35.581450",
     "status": "completed"
    },
    "tags": [],
    "trusted": true
   },
   "outputs": [
    {
     "name": "stdout",
     "output_type": "stream",
     "text": [
      "(50000, 32, 32, 3)\n",
      "(10000, 32, 32, 3)\n"
     ]
    }
   ],
   "source": [
    "print(x_train_data.shape)\n",
    "print(x_test_data.shape)"
   ]
  },
  {
   "cell_type": "code",
   "execution_count": 159,
   "id": "438b6f4b",
   "metadata": {
    "execution": {
     "iopub.execute_input": "2025-09-27T21:06:30.892844Z",
     "iopub.status.busy": "2025-09-27T21:06:30.892607Z",
     "iopub.status.idle": "2025-09-27T21:08:09.646478Z",
     "shell.execute_reply": "2025-09-27T21:08:09.645557Z",
     "shell.execute_reply.started": "2025-09-27T21:06:30.892823Z"
    },
    "id": "W7JloAtMn3px",
    "papermill": {
     "duration": 329.657234,
     "end_time": "2024-04-07T20:33:05.324608",
     "exception": false,
     "start_time": "2024-04-07T20:27:35.667374",
     "status": "completed"
    },
    "tags": [],
    "trusted": true
   },
   "outputs": [],
   "source": [
    "for i, img_path in enumerate(X_train):\n",
    "    img = cv.imread(train_dataset_dir + y_train[i] + \"/\" + img_path)\n",
    "    img_rs = cv.resize(img, dsize = (IMG_SIZE, IMG_SIZE))\n",
    "    # img_gray = cv.cvtColor(img_rs, cv.COLOR_BGR2GRAY)\n",
    "    # ret, candidate_threshold = cv.threshold(img_gray, 0, 255, cv.THRESH_BINARY_INV + cv.THRESH_OTSU)\n",
    "    x_train_data[i] = img_rs"
   ]
  },
  {
   "cell_type": "code",
   "execution_count": 160,
   "id": "9b1dba5e",
   "metadata": {
    "execution": {
     "iopub.execute_input": "2025-09-27T21:08:09.647823Z",
     "iopub.status.busy": "2025-09-27T21:08:09.647446Z",
     "iopub.status.idle": "2025-09-27T21:08:29.801663Z",
     "shell.execute_reply": "2025-09-27T21:08:29.801108Z",
     "shell.execute_reply.started": "2025-09-27T21:08:09.647795Z"
    },
    "papermill": {
     "duration": 81.718571,
     "end_time": "2024-04-07T20:34:27.062142",
     "exception": false,
     "start_time": "2024-04-07T20:33:05.343571",
     "status": "completed"
    },
    "tags": [],
    "trusted": true
   },
   "outputs": [],
   "source": [
    "for i, img_path in enumerate(X_test):\n",
    "    img = cv.imread(test_dataset_dir + y_test[i] + \"/\" + img_path)\n",
    "    img_rs = cv.resize(img, dsize = (IMG_SIZE, IMG_SIZE))\n",
    "    # img_gray = cv.cvtColor(img_rs, cv.COLOR_BGR2GRAY)\n",
    "    # ret, candidate_threshold = cv.threshold(img_gray, 0, 255, cv.THRESH_BINARY_INV + cv.THRESH_OTSU)\n",
    "    x_test_data[i] = img_rs"
   ]
  },
  {
   "cell_type": "code",
   "execution_count": 161,
   "id": "f52ed08d",
   "metadata": {
    "execution": {
     "iopub.execute_input": "2025-09-27T21:08:29.802647Z",
     "iopub.status.busy": "2025-09-27T21:08:29.802377Z",
     "iopub.status.idle": "2025-09-27T21:08:29.941009Z",
     "shell.execute_reply": "2025-09-27T21:08:29.940362Z",
     "shell.execute_reply.started": "2025-09-27T21:08:29.802623Z"
    },
    "id": "n2E7m-iKqjCn",
    "papermill": {
     "duration": 0.21951,
     "end_time": "2024-04-07T20:34:27.300834",
     "exception": false,
     "start_time": "2024-04-07T20:34:27.081324",
     "status": "completed"
    },
    "tags": [],
    "trusted": true
   },
   "outputs": [
    {
     "data": {
      "text/plain": [
       "<matplotlib.image.AxesImage at 0x7b63523899d0>"
      ]
     },
     "execution_count": 161,
     "metadata": {},
     "output_type": "execute_result"
    },
    {
     "data": {
      "image/png": "[encoded data removed]",
      "text/plain": [
       "<Figure size 640x480 with 1 Axes>"
      ]
     },
     "metadata": {},
     "output_type": "display_data"
    }
   ],
   "source": [
    "plt.imshow(x_train_data[1])"
   ]
  },
  {
   "cell_type": "code",
   "execution_count": 162,
   "id": "71fd4153",
   "metadata": {
    "execution": {
     "iopub.execute_input": "2025-09-27T21:08:29.944550Z",
     "iopub.status.busy": "2025-09-27T21:08:29.944289Z",
     "iopub.status.idle": "2025-09-27T21:08:30.083171Z",
     "shell.execute_reply": "2025-09-27T21:08:30.082489Z",
     "shell.execute_reply.started": "2025-09-27T21:08:29.944534Z"
    },
    "papermill": {
     "duration": 0.193655,
     "end_time": "2024-04-07T20:34:27.739678",
     "exception": false,
     "start_time": "2024-04-07T20:34:27.546023",
     "status": "completed"
    },
    "tags": [],
    "trusted": true
   },
   "outputs": [
    {
     "data": {
      "text/plain": [
       "<matplotlib.image.AxesImage at 0x7b6352418550>"
      ]
     },
     "execution_count": 162,
     "metadata": {},
     "output_type": "execute_result"
    },
    {
     "data": {
      "image/png": "[encoded data removed]",
      "text/plain": [
       "<Figure size 640x480 with 1 Axes>"
      ]
     },
     "metadata": {},
     "output_type": "display_data"
    }
   ],
   "source": [
    "plt.imshow(x_test_data[1])"
   ]
  },
  {
   "cell_type": "code",
   "execution_count": 163,
   "id": "f571bcb5",
   "metadata": {
    "execution": {
     "iopub.execute_input": "2025-09-27T21:08:30.083959Z",
     "iopub.status.busy": "2025-09-27T21:08:30.083758Z",
     "iopub.status.idle": "2025-09-27T21:08:30.088693Z",
     "shell.execute_reply": "2025-09-27T21:08:30.087942Z",
     "shell.execute_reply.started": "2025-09-27T21:08:30.083943Z"
    },
    "papermill": {
     "duration": 0.026938,
     "end_time": "2024-04-07T20:34:27.785727",
     "exception": false,
     "start_time": "2024-04-07T20:34:27.758789",
     "status": "completed"
    },
    "tags": [],
    "trusted": true
   },
   "outputs": [
    {
     "data": {
      "text/plain": [
       "32"
      ]
     },
     "execution_count": 163,
     "metadata": {},
     "output_type": "execute_result"
    }
   ],
   "source": [
    "len(x_train_data[0][0])"
   ]
  },
  {
   "cell_type": "code",
   "execution_count": 164,
   "id": "86659654",
   "metadata": {
    "execution": {
     "iopub.execute_input": "2025-09-27T21:08:30.089567Z",
     "iopub.status.busy": "2025-09-27T21:08:30.089370Z",
     "iopub.status.idle": "2025-09-27T21:08:30.104437Z",
     "shell.execute_reply": "2025-09-27T21:08:30.103816Z",
     "shell.execute_reply.started": "2025-09-27T21:08:30.089551Z"
    },
    "papermill": {
     "duration": 0.02685,
     "end_time": "2024-04-07T20:34:27.831774",
     "exception": false,
     "start_time": "2024-04-07T20:34:27.804924",
     "status": "completed"
    },
    "tags": [],
    "trusted": true
   },
   "outputs": [
    {
     "data": {
      "text/plain": [
       "32"
      ]
     },
     "execution_count": 164,
     "metadata": {},
     "output_type": "execute_result"
    }
   ],
   "source": [
    "len(x_test_data[0][0])"
   ]
  },
  {
   "cell_type": "code",
   "execution_count": 165,
   "id": "354ab0c5",
   "metadata": {
    "execution": {
     "iopub.execute_input": "2025-09-27T21:08:30.105268Z",
     "iopub.status.busy": "2025-09-27T21:08:30.105083Z",
     "iopub.status.idle": "2025-09-27T21:08:30.120830Z",
     "shell.execute_reply": "2025-09-27T21:08:30.120268Z",
     "shell.execute_reply.started": "2025-09-27T21:08:30.105253Z"
    },
    "id": "qHatxo9Jn6kC",
    "papermill": {
     "duration": 0.026501,
     "end_time": "2024-04-07T20:34:27.879250",
     "exception": false,
     "start_time": "2024-04-07T20:34:27.852749",
     "status": "completed"
    },
    "tags": [],
    "trusted": true
   },
   "outputs": [],
   "source": [
    "X_train = np.reshape(x_train_data, (X_train.shape[0], IMG_SIZE * IMG_SIZE, 3))\n",
    "X_test = np.reshape(x_test_data, (X_test.shape[0], IMG_SIZE * IMG_SIZE, 3))"
   ]
  },
  {
   "cell_type": "code",
   "execution_count": 166,
   "id": "03aff0fa",
   "metadata": {
    "execution": {
     "iopub.execute_input": "2025-09-27T21:08:30.121827Z",
     "iopub.status.busy": "2025-09-27T21:08:30.121589Z",
     "iopub.status.idle": "2025-09-27T21:08:30.141558Z",
     "shell.execute_reply": "2025-09-27T21:08:30.141032Z",
     "shell.execute_reply.started": "2025-09-27T21:08:30.121805Z"
    },
    "executionInfo": {
     "elapsed": 209,
     "status": "ok",
     "timestamp": 1671908771631,
     "user": {
      "displayName": "1578_Avishek Chowdhury",
      "userId": "14734427622886483691"
     },
     "user_tz": -360
    },
    "id": "96_UEjVEn8yy",
    "outputId": "c9d36c98-1bff-49dd-f61b-4b7f15cbf62e",
    "papermill": {
     "duration": 0.026362,
     "end_time": "2024-04-07T20:34:27.924803",
     "exception": false,
     "start_time": "2024-04-07T20:34:27.898441",
     "status": "completed"
    },
    "tags": [],
    "trusted": true
   },
   "outputs": [
    {
     "name": "stdout",
     "output_type": "stream",
     "text": [
      "(50000, 1024, 3)\n",
      "(10000, 1024, 3)\n"
     ]
    }
   ],
   "source": [
    "print(X_train.shape)\n",
    "print(X_test.shape)"
   ]
  },
  {
   "cell_type": "markdown",
   "id": "a46cc5ef",
   "metadata": {
    "id": "VhtYg63_32mi",
    "papermill": {
     "duration": 0.024261,
     "end_time": "2024-04-07T20:34:27.970945",
     "exception": false,
     "start_time": "2024-04-07T20:34:27.946684",
     "status": "completed"
    },
    "tags": []
   },
   "source": [
    "## Scaling Features"
   ]
  },
  {
   "cell_type": "code",
   "execution_count": 167,
   "id": "c7470d46",
   "metadata": {
    "execution": {
     "iopub.execute_input": "2025-09-27T21:08:30.143039Z",
     "iopub.status.busy": "2025-09-27T21:08:30.142363Z",
     "iopub.status.idle": "2025-09-27T21:08:30.157624Z",
     "shell.execute_reply": "2025-09-27T21:08:30.157091Z",
     "shell.execute_reply.started": "2025-09-27T21:08:30.143018Z"
    },
    "id": "2HSHvUQx3pVm",
    "papermill": {
     "duration": 0.683096,
     "end_time": "2024-04-07T20:34:28.681217",
     "exception": false,
     "start_time": "2024-04-07T20:34:27.998121",
     "status": "completed"
    },
    "tags": [],
    "trusted": true
   },
   "outputs": [],
   "source": [
    "# sc = MinMaxScaler()\n",
    "# X_train = sc.fit_transform(X_train)\n",
    "# X_test = sc.transform(X_test)"
   ]
  },
  {
   "cell_type": "code",
   "execution_count": 168,
   "id": "2ebbce89",
   "metadata": {
    "execution": {
     "iopub.execute_input": "2025-09-27T21:08:30.158513Z",
     "iopub.status.busy": "2025-09-27T21:08:30.158292Z",
     "iopub.status.idle": "2025-09-27T21:08:30.174066Z",
     "shell.execute_reply": "2025-09-27T21:08:30.173332Z",
     "shell.execute_reply.started": "2025-09-27T21:08:30.158494Z"
    },
    "executionInfo": {
     "elapsed": 203,
     "status": "ok",
     "timestamp": 1671908771633,
     "user": {
      "displayName": "1578_Avishek Chowdhury",
      "userId": "14734427622886483691"
     },
     "user_tz": -360
    },
    "id": "jSj6M9SO5W1m",
    "outputId": "875d5c1c-13e1-4509-85a9-5b505412fb91",
    "papermill": {
     "duration": 0.028483,
     "end_time": "2024-04-07T20:34:28.729649",
     "exception": false,
     "start_time": "2024-04-07T20:34:28.701166",
     "status": "completed"
    },
    "tags": [],
    "trusted": true
   },
   "outputs": [
    {
     "data": {
      "text/plain": [
       "array([[[182, 139,  96],\n",
       "        [182, 138,  99],\n",
       "        [181, 138, 103],\n",
       "        ...,\n",
       "        [176, 128,  86],\n",
       "        [174, 126,  84],\n",
       "        [174, 126,  84]],\n",
       "\n",
       "       [[ 96,  83,  57],\n",
       "        [ 96,  83,  57],\n",
       "        [ 98,  85,  59],\n",
       "        ...,\n",
       "        [118, 168, 196],\n",
       "        [118, 167, 196],\n",
       "        [116, 167, 197]],\n",
       "\n",
       "       [[180, 169, 155],\n",
       "        [180, 173, 158],\n",
       "        [184, 178, 164],\n",
       "        ...,\n",
       "        [208, 209, 205],\n",
       "        [208, 209, 206],\n",
       "        [209, 211, 209]],\n",
       "\n",
       "       ...,\n",
       "\n",
       "       [[ 17,  34,  45],\n",
       "        [ 53,  81,  88],\n",
       "        [ 65,  96, 111],\n",
       "        ...,\n",
       "        [ 69, 133, 156],\n",
       "        [ 75, 139, 162],\n",
       "        [ 77, 141, 164]],\n",
       "\n",
       "       [[ 27,  10,   7],\n",
       "        [ 29,  11,   8],\n",
       "        [ 28,  11,   8],\n",
       "        ...,\n",
       "        [113, 134, 127],\n",
       "        [105, 126, 120],\n",
       "        [ 95, 115, 111]],\n",
       "\n",
       "       [[158, 201, 205],\n",
       "        [132, 165, 173],\n",
       "        [124, 156, 167],\n",
       "        ...,\n",
       "        [112, 150, 151],\n",
       "        [111, 149, 149],\n",
       "        [117, 155, 156]]])"
      ]
     },
     "execution_count": 168,
     "metadata": {},
     "output_type": "execute_result"
    }
   ],
   "source": [
    "X_train"
   ]
  },
  {
   "cell_type": "code",
   "execution_count": 169,
   "id": "0d19fe7f",
   "metadata": {
    "execution": {
     "iopub.execute_input": "2025-09-27T21:08:30.175127Z",
     "iopub.status.busy": "2025-09-27T21:08:30.174887Z",
     "iopub.status.idle": "2025-09-27T21:08:30.189836Z",
     "shell.execute_reply": "2025-09-27T21:08:30.189147Z",
     "shell.execute_reply.started": "2025-09-27T21:08:30.175106Z"
    },
    "papermill": {
     "duration": 0.028121,
     "end_time": "2024-04-07T20:34:28.777338",
     "exception": false,
     "start_time": "2024-04-07T20:34:28.749217",
     "status": "completed"
    },
    "tags": [],
    "trusted": true
   },
   "outputs": [
    {
     "data": {
      "text/plain": [
       "array([[[240, 218, 187],\n",
       "        [236, 211, 181],\n",
       "        [237, 208, 179],\n",
       "        ...,\n",
       "        [212, 172, 144],\n",
       "        [212, 171, 146],\n",
       "        [211, 169, 147]],\n",
       "\n",
       "       [[195, 161, 149],\n",
       "        [192, 159, 144],\n",
       "        [189, 155, 132],\n",
       "        ...,\n",
       "        [255, 255, 255],\n",
       "        [255, 255, 255],\n",
       "        [255, 255, 255]],\n",
       "\n",
       "       [[235, 201, 181],\n",
       "        [232, 199, 189],\n",
       "        [234, 202, 192],\n",
       "        ...,\n",
       "        [ 66, 128, 117],\n",
       "        [ 70, 131, 120],\n",
       "        [ 73, 132, 120]],\n",
       "\n",
       "       ...,\n",
       "\n",
       "       [[  8,  13,  11],\n",
       "        [ 11,  18,  15],\n",
       "        [  3,   4,   3],\n",
       "        ...,\n",
       "        [128, 159, 170],\n",
       "        [122, 149, 161],\n",
       "        [131, 153, 166]],\n",
       "\n",
       "       [[189, 170, 167],\n",
       "        [194, 179, 176],\n",
       "        [210, 195, 191],\n",
       "        ...,\n",
       "        [ 74, 127, 163],\n",
       "        [ 75, 126, 156],\n",
       "        [ 79, 126, 156]],\n",
       "\n",
       "       [[ 40,  69,  68],\n",
       "        [ 36,  70,  66],\n",
       "        [ 38,  76,  70],\n",
       "        ...,\n",
       "        [ 46,  94, 105],\n",
       "        [ 59,  94, 107],\n",
       "        [ 49,  80,  88]]])"
      ]
     },
     "execution_count": 169,
     "metadata": {},
     "output_type": "execute_result"
    }
   ],
   "source": [
    "X_test"
   ]
  },
  {
   "cell_type": "markdown",
   "id": "caef3fdb",
   "metadata": {
    "id": "yZr22WSb4Kb8",
    "papermill": {
     "duration": 0.019328,
     "end_time": "2024-04-07T20:34:28.816481",
     "exception": false,
     "start_time": "2024-04-07T20:34:28.797153",
     "status": "completed"
    },
    "tags": []
   },
   "source": [
    "## Binarizing Output"
   ]
  },
  {
   "cell_type": "code",
   "execution_count": 170,
   "id": "1723a002",
   "metadata": {
    "execution": {
     "iopub.execute_input": "2025-09-27T21:08:30.190802Z",
     "iopub.status.busy": "2025-09-27T21:08:30.190555Z",
     "iopub.status.idle": "2025-09-27T21:08:30.340740Z",
     "shell.execute_reply": "2025-09-27T21:08:30.340000Z",
     "shell.execute_reply.started": "2025-09-27T21:08:30.190780Z"
    },
    "id": "vJsFgQUSK8wL",
    "papermill": {
     "duration": 0.038709,
     "end_time": "2024-04-07T20:34:28.874699",
     "exception": false,
     "start_time": "2024-04-07T20:34:28.835990",
     "status": "completed"
    },
    "tags": [],
    "trusted": true
   },
   "outputs": [],
   "source": [
    "lb = LabelBinarizer()\n",
    "y_train = lb.fit_transform(y_train)\n",
    "y_test = lb.transform(y_test)"
   ]
  },
  {
   "cell_type": "code",
   "execution_count": 171,
   "id": "8eb623c1-7e68-43bc-ab6c-c8568ea4f238",
   "metadata": {
    "execution": {
     "iopub.execute_input": "2025-09-27T21:08:30.341711Z",
     "iopub.status.busy": "2025-09-27T21:08:30.341508Z",
     "iopub.status.idle": "2025-09-27T21:08:30.346229Z",
     "shell.execute_reply": "2025-09-27T21:08:30.345618Z",
     "shell.execute_reply.started": "2025-09-27T21:08:30.341697Z"
    },
    "trusted": true
   },
   "outputs": [
    {
     "data": {
      "text/plain": [
       "array([[1, 0, 0, ..., 0, 0, 0],\n",
       "       [1, 0, 0, ..., 0, 0, 0],\n",
       "       [1, 0, 0, ..., 0, 0, 0],\n",
       "       ...,\n",
       "       [0, 0, 0, ..., 0, 0, 0],\n",
       "       [0, 0, 0, ..., 0, 0, 0],\n",
       "       [0, 0, 0, ..., 0, 0, 0]])"
      ]
     },
     "execution_count": 171,
     "metadata": {},
     "output_type": "execute_result"
    }
   ],
   "source": [
    "y_train"
   ]
  },
  {
   "cell_type": "code",
   "execution_count": 172,
   "id": "b23243ad-6073-45eb-aed0-102b25485f5f",
   "metadata": {
    "execution": {
     "iopub.execute_input": "2025-09-27T21:08:30.347090Z",
     "iopub.status.busy": "2025-09-27T21:08:30.346929Z",
     "iopub.status.idle": "2025-09-27T21:08:30.362965Z",
     "shell.execute_reply": "2025-09-27T21:08:30.362351Z",
     "shell.execute_reply.started": "2025-09-27T21:08:30.347077Z"
    },
    "trusted": true
   },
   "outputs": [
    {
     "data": {
      "text/plain": [
       "array([[1, 0, 0, ..., 0, 0, 0],\n",
       "       [1, 0, 0, ..., 0, 0, 0],\n",
       "       [1, 0, 0, ..., 0, 0, 0],\n",
       "       ...,\n",
       "       [0, 0, 0, ..., 0, 0, 0],\n",
       "       [0, 0, 0, ..., 0, 0, 0],\n",
       "       [0, 0, 0, ..., 0, 0, 0]])"
      ]
     },
     "execution_count": 172,
     "metadata": {},
     "output_type": "execute_result"
    }
   ],
   "source": [
    "y_test"
   ]
  },
  {
   "cell_type": "code",
   "execution_count": 173,
   "id": "829df919",
   "metadata": {
    "execution": {
     "iopub.execute_input": "2025-09-27T21:08:30.363990Z",
     "iopub.status.busy": "2025-09-27T21:08:30.363559Z",
     "iopub.status.idle": "2025-09-27T21:08:30.377946Z",
     "shell.execute_reply": "2025-09-27T21:08:30.377390Z",
     "shell.execute_reply.started": "2025-09-27T21:08:30.363965Z"
    },
    "executionInfo": {
     "elapsed": 129,
     "status": "ok",
     "timestamp": 1671908771634,
     "user": {
      "displayName": "1578_Avishek Chowdhury",
      "userId": "14734427622886483691"
     },
     "user_tz": -360
    },
    "id": "sNh6r-dsLCCI",
    "outputId": "0b6b9e16-92ac-4d08-8eb9-68e1fd13a2c0",
    "papermill": {
     "duration": 0.026798,
     "end_time": "2024-04-07T20:34:28.921277",
     "exception": false,
     "start_time": "2024-04-07T20:34:28.894479",
     "status": "completed"
    },
    "tags": [],
    "trusted": true
   },
   "outputs": [
    {
     "name": "stdout",
     "output_type": "stream",
     "text": [
      "(50000, 10)\n",
      "(10000, 10)\n"
     ]
    }
   ],
   "source": [
    "print(y_train.shape)\n",
    "print(y_test.shape)"
   ]
  },
  {
   "cell_type": "markdown",
   "id": "7b10e18e",
   "metadata": {
    "id": "W_9dK6Iw5EXZ",
    "papermill": {
     "duration": 0.019563,
     "end_time": "2024-04-07T20:34:28.960771",
     "exception": false,
     "start_time": "2024-04-07T20:34:28.941208",
     "status": "completed"
    },
    "tags": []
   },
   "source": [
    "## Spliting Train & Test Set\n"
   ]
  },
  {
   "cell_type": "code",
   "execution_count": 174,
   "id": "cbce3583",
   "metadata": {
    "execution": {
     "iopub.execute_input": "2025-09-27T21:08:30.378855Z",
     "iopub.status.busy": "2025-09-27T21:08:30.378637Z",
     "iopub.status.idle": "2025-09-27T21:08:31.112944Z",
     "shell.execute_reply": "2025-09-27T21:08:31.112126Z",
     "shell.execute_reply.started": "2025-09-27T21:08:30.378841Z"
    },
    "id": "ARtvOrWsWImO",
    "papermill": {
     "duration": 0.175416,
     "end_time": "2024-04-07T20:34:29.156152",
     "exception": false,
     "start_time": "2024-04-07T20:34:28.980736",
     "status": "completed"
    },
    "tags": [],
    "trusted": true
   },
   "outputs": [],
   "source": [
    "X_train, X_val, y_train, y_val = train_test_split(X_train, y_train, train_size = 0.9, random_state = 45, stratify = y_train)"
   ]
  },
  {
   "cell_type": "code",
   "execution_count": 175,
   "id": "3a7202c5",
   "metadata": {
    "execution": {
     "iopub.execute_input": "2025-09-27T21:08:31.113931Z",
     "iopub.status.busy": "2025-09-27T21:08:31.113692Z",
     "iopub.status.idle": "2025-09-27T21:08:31.118826Z",
     "shell.execute_reply": "2025-09-27T21:08:31.117937Z",
     "shell.execute_reply.started": "2025-09-27T21:08:31.113914Z"
    },
    "executionInfo": {
     "elapsed": 200,
     "status": "ok",
     "timestamp": 1671908772395,
     "user": {
      "displayName": "1578_Avishek Chowdhury",
      "userId": "14734427622886483691"
     },
     "user_tz": -360
    },
    "id": "zUaoqtZC8LW5",
    "outputId": "69ae0bba-ca64-40b7-8179-033bafd69b9b",
    "papermill": {
     "duration": 0.027727,
     "end_time": "2024-04-07T20:34:29.204285",
     "exception": false,
     "start_time": "2024-04-07T20:34:29.176558",
     "status": "completed"
    },
    "tags": [],
    "trusted": true
   },
   "outputs": [
    {
     "name": "stdout",
     "output_type": "stream",
     "text": [
      "(45000, 1024, 3) (5000, 1024, 3) (45000, 10) (5000, 10)\n"
     ]
    }
   ],
   "source": [
    "print(X_train.shape, X_val.shape, y_train.shape, y_val.shape)"
   ]
  },
  {
   "cell_type": "code",
   "execution_count": 176,
   "id": "b3c4b955",
   "metadata": {
    "execution": {
     "iopub.execute_input": "2025-09-27T21:08:31.119882Z",
     "iopub.status.busy": "2025-09-27T21:08:31.119642Z",
     "iopub.status.idle": "2025-09-27T21:08:31.134149Z",
     "shell.execute_reply": "2025-09-27T21:08:31.133622Z",
     "shell.execute_reply.started": "2025-09-27T21:08:31.119861Z"
    },
    "executionInfo": {
     "elapsed": 200,
     "status": "ok",
     "timestamp": 1671908772398,
     "user": {
      "displayName": "1578_Avishek Chowdhury",
      "userId": "14734427622886483691"
     },
     "user_tz": -360
    },
    "id": "qydb7AVI_s4C",
    "outputId": "1fae866b-e96e-4f03-dc1d-1e44fcc55d0b",
    "papermill": {
     "duration": 0.02706,
     "end_time": "2024-04-07T20:34:29.251410",
     "exception": false,
     "start_time": "2024-04-07T20:34:29.224350",
     "status": "completed"
    },
    "tags": [],
    "trusted": true
   },
   "outputs": [],
   "source": [
    "X_train = X_train.reshape(-1, IMG_SIZE, IMG_SIZE, 3)\n",
    "X_val = X_val.reshape(-1, IMG_SIZE, IMG_SIZE, 3)\n",
    "X_test = X_test.reshape(-1, IMG_SIZE, IMG_SIZE, 3)"
   ]
  },
  {
   "cell_type": "code",
   "execution_count": 177,
   "id": "72d1f274",
   "metadata": {
    "execution": {
     "iopub.execute_input": "2025-09-27T21:08:31.134959Z",
     "iopub.status.busy": "2025-09-27T21:08:31.134756Z",
     "iopub.status.idle": "2025-09-27T21:08:31.151430Z",
     "shell.execute_reply": "2025-09-27T21:08:31.150864Z",
     "shell.execute_reply.started": "2025-09-27T21:08:31.134944Z"
    },
    "executionInfo": {
     "elapsed": 193,
     "status": "ok",
     "timestamp": 1671908772399,
     "user": {
      "displayName": "1578_Avishek Chowdhury",
      "userId": "14734427622886483691"
     },
     "user_tz": -360
    },
    "id": "RyXlO3S3_2uA",
    "outputId": "69d566ec-0fb7-4749-dbed-3cb3e43bb029",
    "papermill": {
     "duration": 0.027098,
     "end_time": "2024-04-07T20:34:29.298265",
     "exception": false,
     "start_time": "2024-04-07T20:34:29.271167",
     "status": "completed"
    },
    "tags": [],
    "trusted": true
   },
   "outputs": [
    {
     "name": "stdout",
     "output_type": "stream",
     "text": [
      "(45000, 32, 32, 3)\n",
      "(5000, 32, 32, 3)\n",
      "(10000, 32, 32, 3)\n"
     ]
    }
   ],
   "source": [
    "print(X_train.shape)\n",
    "print(X_val.shape)\n",
    "print(X_test.shape)"
   ]
  },
  {
   "cell_type": "code",
   "execution_count": 178,
   "id": "268ef44c-6182-4d7f-8234-6ed46dd4ca0e",
   "metadata": {
    "execution": {
     "iopub.execute_input": "2025-09-27T21:08:31.152453Z",
     "iopub.status.busy": "2025-09-27T21:08:31.152177Z",
     "iopub.status.idle": "2025-09-27T21:08:31.295566Z",
     "shell.execute_reply": "2025-09-27T21:08:31.294945Z",
     "shell.execute_reply.started": "2025-09-27T21:08:31.152430Z"
    },
    "trusted": true
   },
   "outputs": [
    {
     "data": {
      "text/plain": [
       "<matplotlib.image.AxesImage at 0x7b63545d19d0>"
      ]
     },
     "execution_count": 178,
     "metadata": {},
     "output_type": "execute_result"
    },
    {
     "data": {
      "image/png": "[encoded data removed]",
      "text/plain": [
       "<Figure size 640x480 with 1 Axes>"
      ]
     },
     "metadata": {},
     "output_type": "display_data"
    }
   ],
   "source": [
    "plt.imshow(X_train[45])"
   ]
  },
  {
   "cell_type": "markdown",
   "id": "062e5723",
   "metadata": {
    "papermill": {
     "duration": 0.019702,
     "end_time": "2024-04-07T20:34:29.337794",
     "exception": false,
     "start_time": "2024-04-07T20:34:29.318092",
     "status": "completed"
    },
    "tags": []
   },
   "source": [
    "## Image Augmentation"
   ]
  },
  {
   "cell_type": "code",
   "execution_count": 179,
   "id": "da0fc219",
   "metadata": {
    "execution": {
     "iopub.execute_input": "2025-09-27T21:08:31.296598Z",
     "iopub.status.busy": "2025-09-27T21:08:31.296338Z",
     "iopub.status.idle": "2025-09-27T21:08:31.300007Z",
     "shell.execute_reply": "2025-09-27T21:08:31.299329Z",
     "shell.execute_reply.started": "2025-09-27T21:08:31.296559Z"
    },
    "papermill": {
     "duration": 0.026726,
     "end_time": "2024-04-07T20:34:29.384347",
     "exception": false,
     "start_time": "2024-04-07T20:34:29.357621",
     "status": "completed"
    },
    "tags": [],
    "trusted": true
   },
   "outputs": [],
   "source": [
    "# # Define ImageDataGenerator\n",
    "# datagen = ImageDataGenerator(\n",
    "#     rotation_range = 10,\n",
    "#     zoom_range = 0.1,\n",
    "#     shear_range = 0.5,\n",
    "#     cval = 0.0,\n",
    "#     fill_mode = 'constant')"
   ]
  },
  {
   "cell_type": "code",
   "execution_count": 180,
   "id": "a9b06031",
   "metadata": {
    "execution": {
     "iopub.execute_input": "2025-09-27T21:08:31.300993Z",
     "iopub.status.busy": "2025-09-27T21:08:31.300689Z",
     "iopub.status.idle": "2025-09-27T21:08:31.320257Z",
     "shell.execute_reply": "2025-09-27T21:08:31.319592Z",
     "shell.execute_reply.started": "2025-09-27T21:08:31.300978Z"
    },
    "papermill": {
     "duration": 0.10158,
     "end_time": "2024-04-07T20:34:29.507218",
     "exception": false,
     "start_time": "2024-04-07T20:34:29.405638",
     "status": "completed"
    },
    "tags": [],
    "trusted": true
   },
   "outputs": [],
   "source": [
    "# # Generate augmented data\n",
    "# batch_size = 32\n",
    "# train_generator = datagen.flow(X_train, y_train, batch_size = batch_size, shuffle = False)"
   ]
  },
  {
   "cell_type": "code",
   "execution_count": 181,
   "id": "97a1010a",
   "metadata": {
    "execution": {
     "iopub.execute_input": "2025-09-27T21:08:31.321746Z",
     "iopub.status.busy": "2025-09-27T21:08:31.321052Z",
     "iopub.status.idle": "2025-09-27T21:08:31.336465Z",
     "shell.execute_reply": "2025-09-27T21:08:31.335793Z",
     "shell.execute_reply.started": "2025-09-27T21:08:31.321721Z"
    },
    "papermill": {
     "duration": 0.028971,
     "end_time": "2024-04-07T20:34:29.556878",
     "exception": false,
     "start_time": "2024-04-07T20:34:29.527907",
     "status": "completed"
    },
    "tags": [],
    "trusted": true
   },
   "outputs": [],
   "source": [
    "# len(train_generator)"
   ]
  },
  {
   "cell_type": "markdown",
   "id": "997d8620",
   "metadata": {
    "id": "hW66EaXA4vnR",
    "papermill": {
     "duration": 0.01998,
     "end_time": "2024-04-07T20:34:29.596856",
     "exception": false,
     "start_time": "2024-04-07T20:34:29.576876",
     "status": "completed"
    },
    "tags": []
   },
   "source": [
    "## Creating and Training a CNN Model\n"
   ]
  },
  {
   "cell_type": "code",
   "execution_count": 182,
   "id": "5c15f80f",
   "metadata": {
    "execution": {
     "iopub.execute_input": "2025-09-27T21:08:31.337671Z",
     "iopub.status.busy": "2025-09-27T21:08:31.337411Z",
     "iopub.status.idle": "2025-09-27T21:08:31.353160Z",
     "shell.execute_reply": "2025-09-27T21:08:31.352430Z",
     "shell.execute_reply.started": "2025-09-27T21:08:31.337655Z"
    },
    "id": "4_diEvVc_-HH",
    "papermill": {
     "duration": 0.866008,
     "end_time": "2024-04-07T20:34:30.482952",
     "exception": false,
     "start_time": "2024-04-07T20:34:29.616944",
     "status": "completed"
    },
    "tags": [],
    "trusted": true
   },
   "outputs": [],
   "source": [
    "# model = models.Sequential()\n",
    "# model.add(layers.Input((IMG_SIZE, IMG_SIZE, 3)))\n",
    "# # model.add(layers.Conv2D(filters = 28, kernel_size = (3, 3), activation = 'relu', input_shape = (IMG_SIZE, IMG_SIZE, 3)))\n",
    "# model.add(layers.Conv2D(filters = 28, kernel_size = (3, 3), activation = 'relu'))\n",
    "# model.add(layers.MaxPooling2D((2, 2)))\n",
    "# model.add(layers.Conv2D(filters = 56, kernel_size = (3, 3), activation = 'relu'))\n",
    "# model.add(layers.MaxPooling2D((2, 2)))\n",
    "# model.add(layers.Conv2D(filters = 56, kernel_size = (3, 3), activation = 'relu'))\n",
    "# model.add(layers.Flatten())\n",
    "# model.add(layers.Dense(units = 56, activation = 'relu'))\n",
    "# model.add(layers.Dense(units = 10, activation = 'softmax'))"
   ]
  },
  {
   "cell_type": "markdown",
   "id": "a16a2fb5-d1b8-4c50-b4e7-96f74f3623e0",
   "metadata": {},
   "source": [
    "[Keras Available models](https://keras.io/api/applications/)"
   ]
  },
  {
   "cell_type": "code",
   "execution_count": 183,
   "id": "e27c1a13-1cd4-437a-a0e9-f27ee11d8134",
   "metadata": {
    "execution": {
     "iopub.execute_input": "2025-09-27T21:08:31.354011Z",
     "iopub.status.busy": "2025-09-27T21:08:31.353824Z",
     "iopub.status.idle": "2025-09-27T21:08:32.398009Z",
     "shell.execute_reply": "2025-09-27T21:08:32.397231Z",
     "shell.execute_reply.started": "2025-09-27T21:08:31.353989Z"
    },
    "trusted": true
   },
   "outputs": [],
   "source": [
    "# Load the pre-trained model\n",
    "resnet50 = ResNet50(weights='imagenet', input_shape=(IMG_SIZE*5, IMG_SIZE*5, 3), include_top=False)\n",
    "\n",
    "# Freeze the weights of the pre-trained layers\n",
    "for layer in resnet50.layers:\n",
    "    layer.trainable = False\n",
    "\n",
    "# Add your custom layers to the top of the pre-trained model\n",
    "model = models.Sequential(name = 'CIFAR-10-Object-Recognition')\n",
    "model.add(layers.Input((IMG_SIZE, IMG_SIZE, 3)))\n",
    "model.add(layers.UpSampling2D(size=(5, 5)))\n",
    "model.add(resnet50)\n",
    "model.add(layers.Flatten())\n",
    "model.add(layers.Dense(units=1024, activation='relu'))\n",
    "model.add(layers.Dense(units=512, activation='relu'))\n",
    "model.add(layers.Dense(units=10, activation='softmax'))"
   ]
  },
  {
   "cell_type": "code",
   "execution_count": 184,
   "id": "b7b06637",
   "metadata": {
    "execution": {
     "iopub.execute_input": "2025-09-27T21:08:32.399203Z",
     "iopub.status.busy": "2025-09-27T21:08:32.398856Z",
     "iopub.status.idle": "2025-09-27T21:08:32.417416Z",
     "shell.execute_reply": "2025-09-27T21:08:32.416883Z",
     "shell.execute_reply.started": "2025-09-27T21:08:32.399177Z"
    },
    "executionInfo": {
     "elapsed": 182,
     "status": "ok",
     "timestamp": 1671908772400,
     "user": {
      "displayName": "1578_Avishek Chowdhury",
      "userId": "14734427622886483691"
     },
     "user_tz": -360
    },
    "id": "ATyz_NHT0GBM",
    "outputId": "890a905b-9c65-4546-9fde-376c6943fcc7",
    "papermill": {
     "duration": 0.061242,
     "end_time": "2024-04-07T20:34:30.566107",
     "exception": false,
     "start_time": "2024-04-07T20:34:30.504865",
     "status": "completed"
    },
    "tags": [],
    "trusted": true
   },
   "outputs": [
    {
     "data": {
      "text/html": [
       "<pre style=\"white-space:pre;overflow-x:auto;line-height:normal;font-family:Menlo,'DejaVu Sans Mono',consolas,'Courier New',monospace\"><span style=\"font-weight: bold\">Model: \"CIFAR-10-Object-Recognition\"</span>\n",
       "</pre>\n"
      ],
      "text/plain": [
       "\u001b[1mModel: \"CIFAR-10-Object-Recognition\"\u001b[0m\n"
      ]
     },
     "metadata": {},
     "output_type": "display_data"
    },
    {
     "data": {
      "text/html": [
       "<pre style=\"white-space:pre;overflow-x:auto;line-height:normal;font-family:Menlo,'DejaVu Sans Mono',consolas,'Courier New',monospace\">┏━━━━━━━━━━━━━━━━━━━━━━━━━━━━━━━━━┳━━━━━━━━━━━━━━━━━━━━━━━━┳━━━━━━━━━━━━━━━┓\n",
       "┃<span style=\"font-weight: bold\"> Layer (type)                    </span>┃<span style=\"font-weight: bold\"> Output Shape           </span>┃<span style=\"font-weight: bold\">       Param # </span>┃\n",
       "┡━━━━━━━━━━━━━━━━━━━━━━━━━━━━━━━━━╇━━━━━━━━━━━━━━━━━━━━━━━━╇━━━━━━━━━━━━━━━┩\n",
       "│ up_sampling2d_2 (<span style=\"color: #0087ff; text-decoration-color: #0087ff\">UpSampling2D</span>)  │ (<span style=\"color: #00d7ff; text-decoration-color: #00d7ff\">None</span>, <span style=\"color: #00af00; text-decoration-color: #00af00\">160</span>, <span style=\"color: #00af00; text-decoration-color: #00af00\">160</span>, <span style=\"color: #00af00; text-decoration-color: #00af00\">3</span>)    │             <span style=\"color: #00af00; text-decoration-color: #00af00\">0</span> │\n",
       "├─────────────────────────────────┼────────────────────────┼───────────────┤\n",
       "│ resnet50 (<span style=\"color: #0087ff; text-decoration-color: #0087ff\">Functional</span>)           │ (<span style=\"color: #00d7ff; text-decoration-color: #00d7ff\">None</span>, <span style=\"color: #00af00; text-decoration-color: #00af00\">5</span>, <span style=\"color: #00af00; text-decoration-color: #00af00\">5</span>, <span style=\"color: #00af00; text-decoration-color: #00af00\">2048</span>)     │    <span style=\"color: #00af00; text-decoration-color: #00af00\">23,587,712</span> │\n",
       "├─────────────────────────────────┼────────────────────────┼───────────────┤\n",
       "│ flatten_3 (<span style=\"color: #0087ff; text-decoration-color: #0087ff\">Flatten</span>)             │ (<span style=\"color: #00d7ff; text-decoration-color: #00d7ff\">None</span>, <span style=\"color: #00af00; text-decoration-color: #00af00\">51200</span>)          │             <span style=\"color: #00af00; text-decoration-color: #00af00\">0</span> │\n",
       "├─────────────────────────────────┼────────────────────────┼───────────────┤\n",
       "│ dense_8 (<span style=\"color: #0087ff; text-decoration-color: #0087ff\">Dense</span>)                 │ (<span style=\"color: #00d7ff; text-decoration-color: #00d7ff\">None</span>, <span style=\"color: #00af00; text-decoration-color: #00af00\">1024</span>)           │    <span style=\"color: #00af00; text-decoration-color: #00af00\">52,429,824</span> │\n",
       "├─────────────────────────────────┼────────────────────────┼───────────────┤\n",
       "│ dense_9 (<span style=\"color: #0087ff; text-decoration-color: #0087ff\">Dense</span>)                 │ (<span style=\"color: #00d7ff; text-decoration-color: #00d7ff\">None</span>, <span style=\"color: #00af00; text-decoration-color: #00af00\">512</span>)            │       <span style=\"color: #00af00; text-decoration-color: #00af00\">524,800</span> │\n",
       "├─────────────────────────────────┼────────────────────────┼───────────────┤\n",
       "│ dense_10 (<span style=\"color: #0087ff; text-decoration-color: #0087ff\">Dense</span>)                │ (<span style=\"color: #00d7ff; text-decoration-color: #00d7ff\">None</span>, <span style=\"color: #00af00; text-decoration-color: #00af00\">10</span>)             │         <span style=\"color: #00af00; text-decoration-color: #00af00\">5,130</span> │\n",
       "└─────────────────────────────────┴────────────────────────┴───────────────┘\n",
       "</pre>\n"
      ],
      "text/plain": [
       "┏━━━━━━━━━━━━━━━━━━━━━━━━━━━━━━━━━┳━━━━━━━━━━━━━━━━━━━━━━━━┳━━━━━━━━━━━━━━━┓\n",
       "┃\u001b[1m \u001b[0m\u001b[1mLayer (type)                   \u001b[0m\u001b[1m \u001b[0m┃\u001b[1m \u001b[0m\u001b[1mOutput Shape          \u001b[0m\u001b[1m \u001b[0m┃\u001b[1m \u001b[0m\u001b[1m      Param #\u001b[0m\u001b[1m \u001b[0m┃\n",
       "┡━━━━━━━━━━━━━━━━━━━━━━━━━━━━━━━━━╇━━━━━━━━━━━━━━━━━━━━━━━━╇━━━━━━━━━━━━━━━┩\n",
       "│ up_sampling2d_2 (\u001b[38;5;33mUpSampling2D\u001b[0m)  │ (\u001b[38;5;45mNone\u001b[0m, \u001b[38;5;34m160\u001b[0m, \u001b[38;5;34m160\u001b[0m, \u001b[38;5;34m3\u001b[0m)    │             \u001b[38;5;34m0\u001b[0m │\n",
       "├─────────────────────────────────┼────────────────────────┼───────────────┤\n",
       "│ resnet50 (\u001b[38;5;33mFunctional\u001b[0m)           │ (\u001b[38;5;45mNone\u001b[0m, \u001b[38;5;34m5\u001b[0m, \u001b[38;5;34m5\u001b[0m, \u001b[38;5;34m2048\u001b[0m)     │    \u001b[38;5;34m23,587,712\u001b[0m │\n",
       "├─────────────────────────────────┼────────────────────────┼───────────────┤\n",
       "│ flatten_3 (\u001b[38;5;33mFlatten\u001b[0m)             │ (\u001b[38;5;45mNone\u001b[0m, \u001b[38;5;34m51200\u001b[0m)          │             \u001b[38;5;34m0\u001b[0m │\n",
       "├─────────────────────────────────┼────────────────────────┼───────────────┤\n",
       "│ dense_8 (\u001b[38;5;33mDense\u001b[0m)                 │ (\u001b[38;5;45mNone\u001b[0m, \u001b[38;5;34m1024\u001b[0m)           │    \u001b[38;5;34m52,429,824\u001b[0m │\n",
       "├─────────────────────────────────┼────────────────────────┼───────────────┤\n",
       "│ dense_9 (\u001b[38;5;33mDense\u001b[0m)                 │ (\u001b[38;5;45mNone\u001b[0m, \u001b[38;5;34m512\u001b[0m)            │       \u001b[38;5;34m524,800\u001b[0m │\n",
       "├─────────────────────────────────┼────────────────────────┼───────────────┤\n",
       "│ dense_10 (\u001b[38;5;33mDense\u001b[0m)                │ (\u001b[38;5;45mNone\u001b[0m, \u001b[38;5;34m10\u001b[0m)             │         \u001b[38;5;34m5,130\u001b[0m │\n",
       "└─────────────────────────────────┴────────────────────────┴───────────────┘\n"
      ]
     },
     "metadata": {},
     "output_type": "display_data"
    },
    {
     "data": {
      "text/html": [
       "<pre style=\"white-space:pre;overflow-x:auto;line-height:normal;font-family:Menlo,'DejaVu Sans Mono',consolas,'Courier New',monospace\"><span style=\"font-weight: bold\"> Total params: </span><span style=\"color: #00af00; text-decoration-color: #00af00\">76,547,466</span> (292.01 MB)\n",
       "</pre>\n"
      ],
      "text/plain": [
       "\u001b[1m Total params: \u001b[0m\u001b[38;5;34m76,547,466\u001b[0m (292.01 MB)\n"
      ]
     },
     "metadata": {},
     "output_type": "display_data"
    },
    {
     "data": {
      "text/html": [
       "<pre style=\"white-space:pre;overflow-x:auto;line-height:normal;font-family:Menlo,'DejaVu Sans Mono',consolas,'Courier New',monospace\"><span style=\"font-weight: bold\"> Trainable params: </span><span style=\"color: #00af00; text-decoration-color: #00af00\">52,959,754</span> (202.03 MB)\n",
       "</pre>\n"
      ],
      "text/plain": [
       "\u001b[1m Trainable params: \u001b[0m\u001b[38;5;34m52,959,754\u001b[0m (202.03 MB)\n"
      ]
     },
     "metadata": {},
     "output_type": "display_data"
    },
    {
     "data": {
      "text/html": [
       "<pre style=\"white-space:pre;overflow-x:auto;line-height:normal;font-family:Menlo,'DejaVu Sans Mono',consolas,'Courier New',monospace\"><span style=\"font-weight: bold\"> Non-trainable params: </span><span style=\"color: #00af00; text-decoration-color: #00af00\">23,587,712</span> (89.98 MB)\n",
       "</pre>\n"
      ],
      "text/plain": [
       "\u001b[1m Non-trainable params: \u001b[0m\u001b[38;5;34m23,587,712\u001b[0m (89.98 MB)\n"
      ]
     },
     "metadata": {},
     "output_type": "display_data"
    }
   ],
   "source": [
    "model.summary()"
   ]
  },
  {
   "cell_type": "code",
   "execution_count": 185,
   "id": "d8522733",
   "metadata": {
    "execution": {
     "iopub.execute_input": "2025-09-27T21:08:32.418210Z",
     "iopub.status.busy": "2025-09-27T21:08:32.418020Z",
     "iopub.status.idle": "2025-09-27T21:08:32.427287Z",
     "shell.execute_reply": "2025-09-27T21:08:32.426780Z",
     "shell.execute_reply.started": "2025-09-27T21:08:32.418184Z"
    },
    "papermill": {
     "duration": 0.029601,
     "end_time": "2024-04-07T20:34:30.617722",
     "exception": false,
     "start_time": "2024-04-07T20:34:30.588121",
     "status": "completed"
    },
    "tags": [],
    "trusted": true
   },
   "outputs": [],
   "source": [
    "epochs = 100\n",
    "acc_callback = EarlyStopping(monitor = 'val_accuracy', verbose = 1, patience = 10, mode = 'max', restore_best_weights = True, start_from_epoch = 15)\n",
    "# loss_callback = EarlyStopping(monitor = 'val_loss', verbose = 1, patience = 10, mode = 'min', restore_best_weights = True, start_from_epoch = 15)"
   ]
  },
  {
   "cell_type": "code",
   "execution_count": 186,
   "id": "41200377",
   "metadata": {
    "execution": {
     "iopub.execute_input": "2025-09-27T21:08:32.428459Z",
     "iopub.status.busy": "2025-09-27T21:08:32.428099Z",
     "iopub.status.idle": "2025-09-27T21:08:32.448571Z",
     "shell.execute_reply": "2025-09-27T21:08:32.447861Z",
     "shell.execute_reply.started": "2025-09-27T21:08:32.428436Z"
    },
    "id": "KyFKGexVET4M",
    "papermill": {
     "duration": 0.041613,
     "end_time": "2024-04-07T20:34:30.681602",
     "exception": false,
     "start_time": "2024-04-07T20:34:30.639989",
     "status": "completed"
    },
    "tags": [],
    "trusted": true
   },
   "outputs": [],
   "source": [
    "model.compile(optimizer = 'adam', loss = 'categorical_crossentropy', metrics = ['accuracy'])"
   ]
  },
  {
   "cell_type": "code",
   "execution_count": 187,
   "id": "6b7ecb70",
   "metadata": {
    "execution": {
     "iopub.execute_input": "2025-09-27T21:08:32.449543Z",
     "iopub.status.busy": "2025-09-27T21:08:32.449281Z",
     "iopub.status.idle": "2025-09-27T21:50:33.507000Z",
     "shell.execute_reply": "2025-09-27T21:50:33.506384Z",
     "shell.execute_reply.started": "2025-09-27T21:08:32.449500Z"
    },
    "executionInfo": {
     "elapsed": 327825,
     "status": "ok",
     "timestamp": 1671909100151,
     "user": {
      "displayName": "1578_Avishek Chowdhury",
      "userId": "14734427622886483691"
     },
     "user_tz": -360
    },
    "id": "358VdnTrAD0A",
    "outputId": "5501bbcd-7abf-4ccc-ab7f-546908b96607",
    "papermill": {
     "duration": 901.890319,
     "end_time": "2024-04-07T20:49:32.594066",
     "exception": false,
     "start_time": "2024-04-07T20:34:30.703747",
     "status": "completed"
    },
    "tags": [],
    "trusted": true
   },
   "outputs": [
    {
     "name": "stdout",
     "output_type": "stream",
     "text": [
      "Epoch 1/100\n",
      "\u001b[1m1407/1407\u001b[0m \u001b[32m━━━━━━━━━━━━━━━━━━━━\u001b[0m\u001b[37m\u001b[0m \u001b[1m112s\u001b[0m 71ms/step - accuracy: 0.6682 - loss: 2.5801 - val_accuracy: 0.7784 - val_loss: 0.6310\n",
      "Epoch 2/100\n",
      "\u001b[1m1407/1407\u001b[0m \u001b[32m━━━━━━━━━━━━━━━━━━━━\u001b[0m\u001b[37m\u001b[0m \u001b[1m92s\u001b[0m 66ms/step - accuracy: 0.8464 - loss: 0.4517 - val_accuracy: 0.8022 - val_loss: 0.6179\n",
      "Epoch 3/100\n",
      "\u001b[1m1407/1407\u001b[0m \u001b[32m━━━━━━━━━━━━━━━━━━━━\u001b[0m\u001b[37m\u001b[0m \u001b[1m93s\u001b[0m 66ms/step - accuracy: 0.8967 - loss: 0.2932 - val_accuracy: 0.8124 - val_loss: 0.5752\n",
      "Epoch 4/100\n",
      "\u001b[1m1407/1407\u001b[0m \u001b[32m━━━━━━━━━━━━━━━━━━━━\u001b[0m\u001b[37m\u001b[0m \u001b[1m93s\u001b[0m 66ms/step - accuracy: 0.9305 - loss: 0.2033 - val_accuracy: 0.8204 - val_loss: 0.6307\n",
      "Epoch 5/100\n",
      "\u001b[1m1407/1407\u001b[0m \u001b[32m━━━━━━━━━━━━━━━━━━━━\u001b[0m\u001b[37m\u001b[0m \u001b[1m92s\u001b[0m 66ms/step - accuracy: 0.9452 - loss: 0.1598 - val_accuracy: 0.8130 - val_loss: 0.7542\n",
      "Epoch 6/100\n",
      "\u001b[1m1407/1407\u001b[0m \u001b[32m━━━━━━━━━━━━━━━━━━━━\u001b[0m\u001b[37m\u001b[0m \u001b[1m92s\u001b[0m 65ms/step - accuracy: 0.9581 - loss: 0.1253 - val_accuracy: 0.8246 - val_loss: 0.7720\n",
      "Epoch 7/100\n",
      "\u001b[1m1407/1407\u001b[0m \u001b[32m━━━━━━━━━━━━━━━━━━━━\u001b[0m\u001b[37m\u001b[0m \u001b[1m92s\u001b[0m 65ms/step - accuracy: 0.9658 - loss: 0.1012 - val_accuracy: 0.8224 - val_loss: 0.7736\n",
      "Epoch 8/100\n",
      "\u001b[1m1407/1407\u001b[0m \u001b[32m━━━━━━━━━━━━━━━━━━━━\u001b[0m\u001b[37m\u001b[0m \u001b[1m92s\u001b[0m 65ms/step - accuracy: 0.9707 - loss: 0.0907 - val_accuracy: 0.8202 - val_loss: 0.8179\n",
      "Epoch 9/100\n",
      "\u001b[1m1407/1407\u001b[0m \u001b[32m━━━━━━━━━━━━━━━━━━━━\u001b[0m\u001b[37m\u001b[0m \u001b[1m93s\u001b[0m 66ms/step - accuracy: 0.9754 - loss: 0.0782 - val_accuracy: 0.8082 - val_loss: 1.0299\n",
      "Epoch 10/100\n",
      "\u001b[1m1407/1407\u001b[0m \u001b[32m━━━━━━━━━━━━━━━━━━━━\u001b[0m\u001b[37m\u001b[0m \u001b[1m93s\u001b[0m 66ms/step - accuracy: 0.9770 - loss: 0.0695 - val_accuracy: 0.7986 - val_loss: 1.0590\n",
      "Epoch 11/100\n",
      "\u001b[1m1407/1407\u001b[0m \u001b[32m━━━━━━━━━━━━━━━━━━━━\u001b[0m\u001b[37m\u001b[0m \u001b[1m92s\u001b[0m 65ms/step - accuracy: 0.9799 - loss: 0.0654 - val_accuracy: 0.8120 - val_loss: 1.0825\n",
      "Epoch 12/100\n",
      "\u001b[1m1407/1407\u001b[0m \u001b[32m━━━━━━━━━━━━━━━━━━━━\u001b[0m\u001b[37m\u001b[0m \u001b[1m92s\u001b[0m 66ms/step - accuracy: 0.9833 - loss: 0.0545 - val_accuracy: 0.8026 - val_loss: 1.1620\n",
      "Epoch 13/100\n",
      "\u001b[1m1407/1407\u001b[0m \u001b[32m━━━━━━━━━━━━━━━━━━━━\u001b[0m\u001b[37m\u001b[0m \u001b[1m93s\u001b[0m 66ms/step - accuracy: 0.9798 - loss: 0.0640 - val_accuracy: 0.8222 - val_loss: 1.0323\n",
      "Epoch 14/100\n",
      "\u001b[1m1407/1407\u001b[0m \u001b[32m━━━━━━━━━━━━━━━━━━━━\u001b[0m\u001b[37m\u001b[0m \u001b[1m92s\u001b[0m 65ms/step - accuracy: 0.9853 - loss: 0.0498 - val_accuracy: 0.8180 - val_loss: 1.1834\n",
      "Epoch 15/100\n",
      "\u001b[1m1407/1407\u001b[0m \u001b[32m━━━━━━━━━━━━━━━━━━━━\u001b[0m\u001b[37m\u001b[0m \u001b[1m93s\u001b[0m 66ms/step - accuracy: 0.9865 - loss: 0.0449 - val_accuracy: 0.8248 - val_loss: 1.0578\n",
      "Epoch 16/100\n",
      "\u001b[1m1407/1407\u001b[0m \u001b[32m━━━━━━━━━━━━━━━━━━━━\u001b[0m\u001b[37m\u001b[0m \u001b[1m93s\u001b[0m 66ms/step - accuracy: 0.9875 - loss: 0.0389 - val_accuracy: 0.7856 - val_loss: 1.5083\n",
      "Epoch 17/100\n",
      "\u001b[1m1407/1407\u001b[0m \u001b[32m━━━━━━━━━━━━━━━━━━━━\u001b[0m\u001b[37m\u001b[0m \u001b[1m93s\u001b[0m 66ms/step - accuracy: 0.9880 - loss: 0.0399 - val_accuracy: 0.8254 - val_loss: 1.1757\n",
      "Epoch 18/100\n",
      "\u001b[1m1407/1407\u001b[0m \u001b[32m━━━━━━━━━━━━━━━━━━━━\u001b[0m\u001b[37m\u001b[0m \u001b[1m93s\u001b[0m 66ms/step - accuracy: 0.9860 - loss: 0.0435 - val_accuracy: 0.8206 - val_loss: 1.2167\n",
      "Epoch 19/100\n",
      "\u001b[1m1407/1407\u001b[0m \u001b[32m━━━━━━━━━━━━━━━━━━━━\u001b[0m\u001b[37m\u001b[0m \u001b[1m92s\u001b[0m 66ms/step - accuracy: 0.9911 - loss: 0.0295 - val_accuracy: 0.8188 - val_loss: 1.2134\n",
      "Epoch 20/100\n",
      "\u001b[1m1407/1407\u001b[0m \u001b[32m━━━━━━━━━━━━━━━━━━━━\u001b[0m\u001b[37m\u001b[0m \u001b[1m93s\u001b[0m 66ms/step - accuracy: 0.9898 - loss: 0.0350 - val_accuracy: 0.8244 - val_loss: 1.1753\n",
      "Epoch 21/100\n",
      "\u001b[1m1407/1407\u001b[0m \u001b[32m━━━━━━━━━━━━━━━━━━━━\u001b[0m\u001b[37m\u001b[0m \u001b[1m92s\u001b[0m 66ms/step - accuracy: 0.9917 - loss: 0.0299 - val_accuracy: 0.8226 - val_loss: 1.2276\n",
      "Epoch 22/100\n",
      "\u001b[1m1407/1407\u001b[0m \u001b[32m━━━━━━━━━━━━━━━━━━━━\u001b[0m\u001b[37m\u001b[0m \u001b[1m92s\u001b[0m 66ms/step - accuracy: 0.9917 - loss: 0.0306 - val_accuracy: 0.8246 - val_loss: 1.2389\n",
      "Epoch 23/100\n",
      "\u001b[1m1407/1407\u001b[0m \u001b[32m━━━━━━━━━━━━━━━━━━━━\u001b[0m\u001b[37m\u001b[0m \u001b[1m93s\u001b[0m 66ms/step - accuracy: 0.9932 - loss: 0.0262 - val_accuracy: 0.8202 - val_loss: 1.3244\n",
      "Epoch 24/100\n",
      "\u001b[1m1407/1407\u001b[0m \u001b[32m━━━━━━━━━━━━━━━━━━━━\u001b[0m\u001b[37m\u001b[0m \u001b[1m93s\u001b[0m 66ms/step - accuracy: 0.9940 - loss: 0.0182 - val_accuracy: 0.8088 - val_loss: 1.4399\n",
      "Epoch 25/100\n",
      "\u001b[1m1407/1407\u001b[0m \u001b[32m━━━━━━━━━━━━━━━━━━━━\u001b[0m\u001b[37m\u001b[0m \u001b[1m92s\u001b[0m 66ms/step - accuracy: 0.9892 - loss: 0.0433 - val_accuracy: 0.8246 - val_loss: 1.3304\n",
      "Epoch 26/100\n",
      "\u001b[1m1407/1407\u001b[0m \u001b[32m━━━━━━━━━━━━━━━━━━━━\u001b[0m\u001b[37m\u001b[0m \u001b[1m92s\u001b[0m 66ms/step - accuracy: 0.9921 - loss: 0.0294 - val_accuracy: 0.8160 - val_loss: 1.6087\n",
      "Epoch 27/100\n",
      "\u001b[1m1407/1407\u001b[0m \u001b[32m━━━━━━━━━━━━━━━━━━━━\u001b[0m\u001b[37m\u001b[0m \u001b[1m92s\u001b[0m 66ms/step - accuracy: 0.9940 - loss: 0.0232 - val_accuracy: 0.8216 - val_loss: 1.4351\n",
      "Epoch 27: early stopping\n",
      "Restoring model weights from the end of the best epoch: 17.\n"
     ]
    }
   ],
   "source": [
    "# history  = model.fit(train_generator, validation_data = (X_val, y_val), epochs = epochs, callbacks = [acc_callback, loss_callback])\n",
    "history  = model.fit(X_train, y_train, validation_data = (X_val, y_val), epochs = epochs, callbacks = acc_callback)"
   ]
  },
  {
   "cell_type": "markdown",
   "id": "59ba9f28",
   "metadata": {
    "id": "QdVw64766el6",
    "papermill": {
     "duration": 1.239041,
     "end_time": "2024-04-07T20:49:35.124934",
     "exception": false,
     "start_time": "2024-04-07T20:49:33.885893",
     "status": "completed"
    },
    "tags": []
   },
   "source": [
    "## Evaluating the CNN model\n"
   ]
  },
  {
   "cell_type": "code",
   "execution_count": 188,
   "id": "136d9503",
   "metadata": {
    "execution": {
     "iopub.execute_input": "2025-09-27T21:50:33.508380Z",
     "iopub.status.busy": "2025-09-27T21:50:33.508158Z",
     "iopub.status.idle": "2025-09-27T21:50:51.735692Z",
     "shell.execute_reply": "2025-09-27T21:50:51.735115Z",
     "shell.execute_reply.started": "2025-09-27T21:50:33.508363Z"
    },
    "executionInfo": {
     "elapsed": 1140,
     "status": "ok",
     "timestamp": 1671909101264,
     "user": {
      "displayName": "1578_Avishek Chowdhury",
      "userId": "14734427622886483691"
     },
     "user_tz": -360
    },
    "id": "XejIje1UAHZK",
    "outputId": "61a89cb1-38fb-441e-f9c6-3231b926e839",
    "papermill": {
     "duration": 2.454773,
     "end_time": "2024-04-07T20:49:38.831419",
     "exception": false,
     "start_time": "2024-04-07T20:49:36.376646",
     "status": "completed"
    },
    "tags": [],
    "trusted": true
   },
   "outputs": [
    {
     "name": "stdout",
     "output_type": "stream",
     "text": [
      "\u001b[1m313/313\u001b[0m \u001b[32m━━━━━━━━━━━━━━━━━━━━\u001b[0m\u001b[37m\u001b[0m \u001b[1m18s\u001b[0m 56ms/step - accuracy: 0.8530 - loss: 1.1093\n"
     ]
    }
   ],
   "source": [
    "history_test = model.evaluate(X_test, y_test)"
   ]
  },
  {
   "cell_type": "code",
   "execution_count": 189,
   "id": "a3a3c9e2-e4bc-4d2b-817d-0ee93ea67f3f",
   "metadata": {
    "execution": {
     "iopub.execute_input": "2025-09-27T21:50:51.736920Z",
     "iopub.status.busy": "2025-09-27T21:50:51.736719Z",
     "iopub.status.idle": "2025-09-27T21:51:17.394333Z",
     "shell.execute_reply": "2025-09-27T21:51:17.393515Z",
     "shell.execute_reply.started": "2025-09-27T21:50:51.736903Z"
    },
    "trusted": true
   },
   "outputs": [
    {
     "name": "stdout",
     "output_type": "stream",
     "text": [
      "\u001b[1m313/313\u001b[0m \u001b[32m━━━━━━━━━━━━━━━━━━━━\u001b[0m\u001b[37m\u001b[0m \u001b[1m25s\u001b[0m 64ms/step\n"
     ]
    }
   ],
   "source": [
    "y_predicted = model.predict(X_test)"
   ]
  },
  {
   "cell_type": "code",
   "execution_count": 190,
   "id": "929575c9-2f90-4b31-938a-3f8d1a148143",
   "metadata": {
    "execution": {
     "iopub.execute_input": "2025-09-27T21:51:17.395766Z",
     "iopub.status.busy": "2025-09-27T21:51:17.395476Z",
     "iopub.status.idle": "2025-09-27T21:51:17.401307Z",
     "shell.execute_reply": "2025-09-27T21:51:17.400809Z",
     "shell.execute_reply.started": "2025-09-27T21:51:17.395739Z"
    },
    "trusted": true
   },
   "outputs": [
    {
     "data": {
      "text/plain": [
       "array([[9.9776852e-01, 3.6331043e-09, 2.2312121e-03, ..., 7.9942009e-10,\n",
       "        2.2432762e-07, 6.9548980e-09],\n",
       "       [1.2053523e-01, 9.4285868e-05, 6.0440489e-06, ..., 3.7499819e-07,\n",
       "        8.7929964e-01, 6.1034407e-05],\n",
       "       [2.4722426e-03, 1.4418367e-02, 9.9636726e-09, ..., 1.2701307e-09,\n",
       "        2.7612083e-05, 9.8308176e-01],\n",
       "       ...,\n",
       "       [1.7602750e-07, 1.7045313e-09, 4.8436427e-06, ..., 6.4526039e-06,\n",
       "        1.0861679e-06, 1.6083995e-10],\n",
       "       [3.1543389e-11, 9.0000506e-17, 1.2998801e-07, ..., 4.1497779e-09,\n",
       "        3.1191436e-10, 1.1950307e-17],\n",
       "       [2.0080217e-09, 3.6012648e-09, 1.1725139e-05, ..., 1.6617875e-08,\n",
       "        3.9033728e-11, 7.7119616e-10]], dtype=float32)"
      ]
     },
     "execution_count": 190,
     "metadata": {},
     "output_type": "execute_result"
    }
   ],
   "source": [
    "y_predicted"
   ]
  },
  {
   "cell_type": "code",
   "execution_count": 191,
   "id": "6288275c-837c-4cc8-aa78-337bbbc19fe5",
   "metadata": {
    "execution": {
     "iopub.execute_input": "2025-09-27T21:51:17.402443Z",
     "iopub.status.busy": "2025-09-27T21:51:17.402243Z",
     "iopub.status.idle": "2025-09-27T21:51:17.418313Z",
     "shell.execute_reply": "2025-09-27T21:51:17.417603Z",
     "shell.execute_reply.started": "2025-09-27T21:51:17.402427Z"
    },
    "trusted": true
   },
   "outputs": [],
   "source": [
    "y_test_labels = lb.inverse_transform(y_test)\n",
    "y_predicted_labels = lb.inverse_transform(y_predicted)"
   ]
  },
  {
   "cell_type": "code",
   "execution_count": 192,
   "id": "baf89ca7-772b-48df-987c-a62fdf54ec9e",
   "metadata": {
    "execution": {
     "iopub.execute_input": "2025-09-27T21:51:17.419175Z",
     "iopub.status.busy": "2025-09-27T21:51:17.418982Z",
     "iopub.status.idle": "2025-09-27T21:51:17.528241Z",
     "shell.execute_reply": "2025-09-27T21:51:17.527635Z",
     "shell.execute_reply.started": "2025-09-27T21:51:17.419161Z"
    },
    "trusted": true
   },
   "outputs": [
    {
     "name": "stdout",
     "output_type": "stream",
     "text": [
      "Classification Report:\n",
      "              precision    recall  f1-score   support\n",
      "\n",
      "    airplane       0.88      0.82      0.85      1000\n",
      "  automobile       0.87      0.92      0.90      1000\n",
      "        bird       0.72      0.82      0.77      1000\n",
      "         cat       0.72      0.66      0.69      1000\n",
      "        deer       0.82      0.74      0.78      1000\n",
      "         dog       0.79      0.74      0.76      1000\n",
      "        frog       0.85      0.88      0.87      1000\n",
      "       horse       0.80      0.89      0.85      1000\n",
      "        ship       0.90      0.92      0.91      1000\n",
      "       truck       0.91      0.87      0.89      1000\n",
      "\n",
      "    accuracy                           0.83     10000\n",
      "   macro avg       0.83      0.83      0.83     10000\n",
      "weighted avg       0.83      0.83      0.83     10000\n",
      "\n"
     ]
    }
   ],
   "source": [
    "print(\"Classification Report:\")\n",
    "clr = classification_report(y_test_labels, y_predicted_labels)\n",
    "print(clr)"
   ]
  },
  {
   "cell_type": "code",
   "execution_count": 193,
   "id": "0a32e0b1-bf2f-4f95-b4d2-ad4747a1f32d",
   "metadata": {
    "execution": {
     "iopub.execute_input": "2025-09-27T21:51:17.529220Z",
     "iopub.status.busy": "2025-09-27T21:51:17.528989Z",
     "iopub.status.idle": "2025-09-27T21:51:17.563174Z",
     "shell.execute_reply": "2025-09-27T21:51:17.562642Z",
     "shell.execute_reply.started": "2025-09-27T21:51:17.529199Z"
    },
    "trusted": true
   },
   "outputs": [
    {
     "name": "stdout",
     "output_type": "stream",
     "text": [
      "Confusion Matrix:\n",
      "[[821  21  44  10  13   6   5  14  53  13]\n",
      " [ 12 920   3   6   1   1   3   6  12  36]\n",
      " [ 29   2 822  30  36  16  39  19   4   3]\n",
      " [ 13   7  59 657  36 116  50  52   6   4]\n",
      " [  5   2  85  31 741  24  35  64   9   4]\n",
      " [  4   1  37 118  30 740  13  49   5   3]\n",
      " [  2   1  55  37  10  12 879   2   1   1]\n",
      " [ 10   0  25  19  26  20   2 894   0   4]\n",
      " [ 27  16   3   4   5   1   3   3 916  22]\n",
      " [ 14  82   3   6   1   0   2   9  13 870]]\n"
     ]
    }
   ],
   "source": [
    "print(\"Confusion Matrix:\")\n",
    "multilabel_cm = multilabel_confusion_matrix(y_test_labels, y_predicted_labels)\n",
    "cm = confusion_matrix(y_test_labels, y_predicted_labels)\n",
    "print(cm)"
   ]
  },
  {
   "cell_type": "code",
   "execution_count": 194,
   "id": "c7a620ca-2a8a-40c8-9d00-30eb2c9443f2",
   "metadata": {
    "execution": {
     "iopub.execute_input": "2025-09-27T21:51:17.564175Z",
     "iopub.status.busy": "2025-09-27T21:51:17.563909Z",
     "iopub.status.idle": "2025-09-27T21:51:17.998337Z",
     "shell.execute_reply": "2025-09-27T21:51:17.997666Z",
     "shell.execute_reply.started": "2025-09-27T21:51:17.564151Z"
    },
    "trusted": true
   },
   "outputs": [
    {
     "data": {
      "image/png": "[encoded data removed]",
      "text/plain": [
       "<Figure size 2000x2000 with 2 Axes>"
      ]
     },
     "metadata": {},
     "output_type": "display_data"
    }
   ],
   "source": [
    "cm_df = pd.DataFrame(cm, index = dataset_train.Class.unique(), columns = dataset_train.Class.unique())\n",
    "plt.figure(figsize=(20, 20))\n",
    "cm_plot = sb.heatmap(cm_df, cmap=\"YlGnBu\", annot=True)\n",
    "plt.title('Confusion Matrix')\n",
    "plt.ylabel('Actual Class')\n",
    "plt.xlabel('Predicted Class')\n",
    "plt.show(cm_plot)"
   ]
  },
  {
   "cell_type": "markdown",
   "id": "bc825d82",
   "metadata": {
    "id": "4Qld_YmJ7gky",
    "papermill": {
     "duration": 1.259743,
     "end_time": "2024-04-07T20:49:41.285474",
     "exception": false,
     "start_time": "2024-04-07T20:49:40.025731",
     "status": "completed"
    },
    "tags": []
   },
   "source": [
    "## Making Predictions\n"
   ]
  },
  {
   "cell_type": "code",
   "execution_count": 195,
   "id": "8b1554cd",
   "metadata": {
    "execution": {
     "iopub.execute_input": "2025-09-27T21:51:18.004069Z",
     "iopub.status.busy": "2025-09-27T21:51:18.003875Z",
     "iopub.status.idle": "2025-09-27T21:51:18.007468Z",
     "shell.execute_reply": "2025-09-27T21:51:18.006850Z",
     "shell.execute_reply.started": "2025-09-27T21:51:18.004054Z"
    },
    "executionInfo": {
     "elapsed": 949,
     "status": "ok",
     "timestamp": 1671909102195,
     "user": {
      "displayName": "1578_Avishek Chowdhury",
      "userId": "14734427622886483691"
     },
     "user_tz": -360
    },
    "id": "oLpa4hLFAP1L",
    "outputId": "db3875dc-b298-40c2-9ec7-ce9ab3f5a651",
    "papermill": {
     "duration": 2.929654,
     "end_time": "2024-04-07T20:49:45.416736",
     "exception": false,
     "start_time": "2024-04-07T20:49:42.487082",
     "status": "completed"
    },
    "tags": [],
    "trusted": true
   },
   "outputs": [],
   "source": [
    "# y_predicted_by_model = model.predict(X_test)"
   ]
  },
  {
   "cell_type": "code",
   "execution_count": 196,
   "id": "aaa326c5",
   "metadata": {
    "execution": {
     "iopub.execute_input": "2025-09-27T21:51:18.008466Z",
     "iopub.status.busy": "2025-09-27T21:51:18.008213Z",
     "iopub.status.idle": "2025-09-27T21:51:18.026834Z",
     "shell.execute_reply": "2025-09-27T21:51:18.026278Z",
     "shell.execute_reply.started": "2025-09-27T21:51:18.008444Z"
    },
    "executionInfo": {
     "elapsed": 29,
     "status": "ok",
     "timestamp": 1671909102196,
     "user": {
      "displayName": "1578_Avishek Chowdhury",
      "userId": "14734427622886483691"
     },
     "user_tz": -360
    },
    "id": "xkKqRU1FBnFU",
    "outputId": "7faf3c32-0459-402a-90a8-9548b9c10cb1",
    "papermill": {
     "duration": 1.208671,
     "end_time": "2024-04-07T20:49:47.887399",
     "exception": false,
     "start_time": "2024-04-07T20:49:46.678728",
     "status": "completed"
    },
    "tags": [],
    "trusted": true
   },
   "outputs": [],
   "source": [
    "# print(y_predicted_by_model[0])\n",
    "# # print(\"\\n\")\n",
    "# print(np.argmax(y_predicted_by_model[0]))"
   ]
  },
  {
   "cell_type": "code",
   "execution_count": 197,
   "id": "e5c0f636",
   "metadata": {
    "execution": {
     "iopub.execute_input": "2025-09-27T21:51:18.027862Z",
     "iopub.status.busy": "2025-09-27T21:51:18.027622Z",
     "iopub.status.idle": "2025-09-27T21:51:18.044012Z",
     "shell.execute_reply": "2025-09-27T21:51:18.043458Z",
     "shell.execute_reply.started": "2025-09-27T21:51:18.027840Z"
    },
    "executionInfo": {
     "elapsed": 24,
     "status": "ok",
     "timestamp": 1671909102196,
     "user": {
      "displayName": "1578_Avishek Chowdhury",
      "userId": "14734427622886483691"
     },
     "user_tz": -360
    },
    "id": "6eEae5_K_9EG",
    "outputId": "3dc2e706-8c53-4148-ba22-8d721cd9def6",
    "papermill": {
     "duration": 1.264124,
     "end_time": "2024-04-07T20:49:50.421736",
     "exception": false,
     "start_time": "2024-04-07T20:49:49.157612",
     "status": "completed"
    },
    "tags": [],
    "trusted": true
   },
   "outputs": [],
   "source": [
    "# for i in range(5):\n",
    "#   print(np.argmax(y_predicted_by_model[i]), end = ' ')"
   ]
  },
  {
   "cell_type": "code",
   "execution_count": 198,
   "id": "4382ac3f",
   "metadata": {
    "execution": {
     "iopub.execute_input": "2025-09-27T21:51:18.044911Z",
     "iopub.status.busy": "2025-09-27T21:51:18.044676Z",
     "iopub.status.idle": "2025-09-27T21:51:18.059135Z",
     "shell.execute_reply": "2025-09-27T21:51:18.058634Z",
     "shell.execute_reply.started": "2025-09-27T21:51:18.044887Z"
    },
    "executionInfo": {
     "elapsed": 22,
     "status": "ok",
     "timestamp": 1671909102196,
     "user": {
      "displayName": "1578_Avishek Chowdhury",
      "userId": "14734427622886483691"
     },
     "user_tz": -360
    },
    "id": "_qw27t5EAWgA",
    "outputId": "c3ca5a08-3181-4922-c20b-d2703355dfa3",
    "papermill": {
     "duration": 1.339467,
     "end_time": "2024-04-07T20:49:52.957412",
     "exception": false,
     "start_time": "2024-04-07T20:49:51.617945",
     "status": "completed"
    },
    "tags": [],
    "trusted": true
   },
   "outputs": [],
   "source": [
    "# y_predicted_labels = [np.argmax(i) for i in y_predicted_by_model]\n",
    "# y_predicted_labels[:5]"
   ]
  },
  {
   "cell_type": "code",
   "execution_count": 199,
   "id": "cca3bcf0-664d-4c2b-aabd-35e31ba0ebe9",
   "metadata": {
    "execution": {
     "iopub.execute_input": "2025-09-27T21:51:18.060109Z",
     "iopub.status.busy": "2025-09-27T21:51:18.059863Z",
     "iopub.status.idle": "2025-09-27T21:51:18.073653Z",
     "shell.execute_reply": "2025-09-27T21:51:18.072984Z",
     "shell.execute_reply.started": "2025-09-27T21:51:18.060084Z"
    },
    "trusted": true
   },
   "outputs": [],
   "source": [
    "# y_test\n",
    "# # y_train"
   ]
  },
  {
   "cell_type": "markdown",
   "id": "90058620-bc9c-4ca7-be20-ef02381a213e",
   "metadata": {},
   "source": [
    "[Kaggle Notebook](https://www.kaggle.com/code/avishekchy1578/cifar-10-cnn-object-recognition)"
   ]
  }
 ],
 "metadata": {
  "colab": {
   "authorship_tag": "ABX9TyPp4slqmXje578TlwxQdhzX",
   "collapsed_sections": [
    "qHQuMV6VWYru",
    "Ud6hFF4rnhQK",
    "DOoaGBDk-FU_",
    "VhtYg63_32mi",
    "yZr22WSb4Kb8",
    "W_9dK6Iw5EXZ",
    "hW66EaXA4vnR",
    "QdVw64766el6",
    "4Qld_YmJ7gky"
   ],
   "mount_file_id": "13qXN8EhvE9O327l14hTImH-1F15ZlMU-",
   "provenance": []
  },
  "kaggle": {
   "accelerator": "nvidiaTeslaT4",
   "dataSources": [
    {
     "datasetId": 8341450,
     "isSourceIdPinned": false,
     "sourceId": 13164482,
     "sourceType": "datasetVersion"
    }
   ],
   "dockerImageVersionId": 31089,
   "isGpuEnabled": true,
   "isInternetEnabled": true,
   "language": "python",
   "sourceType": "notebook"
  },
  "kernelspec": {
   "display_name": "Python 3",
   "language": "python",
   "name": "python3"
  },
  "language_info": {
   "codemirror_mode": {
    "name": "ipython",
    "version": 3
   },
   "file_extension": ".py",
   "mimetype": "text/x-python",
   "name": "python",
   "nbconvert_exporter": "python",
   "pygments_lexer": "ipython3",
   "version": "3.11.13"
  },
  "papermill": {
   "default_parameters": {},
   "duration": 1395.421572,
   "end_time": "2024-04-07T20:50:14.817947",
   "environment_variables": {},
   "exception": null,
   "input_path": "__notebook__.ipynb",
   "output_path": "__notebook__.ipynb",
   "parameters": {},
   "start_time": "2024-04-07T20:26:59.396375",
   "version": "2.5.0"
  }
 },
 "nbformat": 4,
 "nbformat_minor": 5
}
